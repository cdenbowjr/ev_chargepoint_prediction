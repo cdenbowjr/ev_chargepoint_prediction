{
 "cells": [
  {
   "cell_type": "code",
   "execution_count": 1,
   "metadata": {
    "ExecuteTime": {
     "end_time": "2020-03-03T15:27:21.927036Z",
     "start_time": "2020-03-03T15:27:19.107931Z"
    }
   },
   "outputs": [],
   "source": [
    "import dash\n",
    "import dash_core_components as dcc\n",
    "import dash_html_components as html\n",
    "from dash.dependencies import Input, Output\n",
    "import plotly.graph_objs as go\n",
    "import joblib\n",
    "\n",
    "import pandas as pd\n",
    "import json\n",
    "from shapely.geometry import Polygon\n",
    "import folium\n",
    "from src.functions import functions_for_project as ffp\n",
    "from src.data import data_dictionary as data_d\n",
    "import numpy as np\n",
    "import requests"
   ]
  },
  {
   "cell_type": "code",
   "execution_count": 2,
   "metadata": {
    "ExecuteTime": {
     "end_time": "2020-03-03T15:27:54.955203Z",
     "start_time": "2020-03-03T15:27:22.447309Z"
    }
   },
   "outputs": [],
   "source": [
    "df = pd.read_csv(\n",
    "    'http://www.data4apurpose.com/client_html/full_processed_data.csv')"
   ]
  },
  {
   "cell_type": "code",
   "execution_count": 3,
   "metadata": {
    "ExecuteTime": {
     "end_time": "2020-03-03T15:28:13.794063Z",
     "start_time": "2020-03-03T15:27:55.679363Z"
    }
   },
   "outputs": [],
   "source": [
    "msoa_uk = ffp.load_geojson(\n",
    "    'http://www.data4apurpose.com/client_html'\n",
    "    '/Middle_Layer_Super_Output_Areas_December_2011_Boundaries_EW_BFC_ultra_simple.geojson'\n",
    ")"
   ]
  },
  {
   "cell_type": "code",
   "execution_count": 4,
   "metadata": {
    "ExecuteTime": {
     "end_time": "2020-03-03T15:28:47.214015Z",
     "start_time": "2020-03-03T15:28:18.044091Z"
    }
   },
   "outputs": [],
   "source": [
    "data_diction = data_d.EV_britain().description"
   ]
  },
  {
   "cell_type": "code",
   "execution_count": null,
   "metadata": {
    "ExecuteTime": {
     "end_time": "2020-03-03T14:57:50.243382Z",
     "start_time": "2020-03-03T14:57:49.054439Z"
    }
   },
   "outputs": [],
   "source": [
    "#pcd_dict = pd.read_csv(\"./data/raw/geo_spatial/pcd_msoa.csv\")"
   ]
  },
  {
   "cell_type": "code",
   "execution_count": 5,
   "metadata": {
    "ExecuteTime": {
     "end_time": "2020-03-03T15:28:58.685012Z",
     "start_time": "2020-03-03T15:28:58.677079Z"
    }
   },
   "outputs": [],
   "source": [
    "central_london = [\n",
    "    'City of London', 'Camden', 'Greenwich', 'Hackney',\n",
    "    'Hammersmith and Fulham', 'Islington', 'Kensington and Chelsea', 'Lambeth',\n",
    "    'Lewisham', 'Southwark', 'Tower Hamlets', 'Wandsworth', 'Westminster'\n",
    "]\n",
    "\n",
    "greater_london = [\n",
    "    'Croydon', 'Sutton', 'Brent', 'Ealing', 'Hounslow', 'Richmond', 'Kingston',\n",
    "    'Merton', 'Bromley', 'Bexley', 'Havering', 'Barking and Dagenham',\n",
    "    'Redbridge', 'Newham', 'Waltham Forest', 'Haringey', 'Enfield', 'Barnet',\n",
    "    'Harrow', 'Hillingdon'\n",
    "]\n",
    "\n",
    "lad = [{'label': area, 'value': area} for area in df.lad13nm.unique()]"
   ]
  },
  {
   "cell_type": "code",
   "execution_count": 6,
   "metadata": {
    "ExecuteTime": {
     "end_time": "2020-03-03T15:29:00.774189Z",
     "start_time": "2020-03-03T15:29:00.678166Z"
    }
   },
   "outputs": [],
   "source": [
    "logr_model = joblib.load('./models/logistic_regression_model')"
   ]
  },
  {
   "cell_type": "code",
   "execution_count": 7,
   "metadata": {
    "ExecuteTime": {
     "end_time": "2020-03-03T15:29:03.516148Z",
     "start_time": "2020-03-03T15:29:03.487348Z"
    }
   },
   "outputs": [],
   "source": [
    "df = pd.merge(df, msoa_uk, left_on='msoa11cd', right_on='properties.msoa11cd')"
   ]
  },
  {
   "cell_type": "code",
   "execution_count": 14,
   "metadata": {
    "ExecuteTime": {
     "end_time": "2020-03-03T15:30:25.892397Z",
     "start_time": "2020-03-03T15:30:25.800634Z"
    }
   },
   "outputs": [],
   "source": [
    "app = dash.Dash('__name__')\n",
    "server = app.server\n",
    "\n",
    "app.layout = html.Div([\n",
    "    html.Div([\n",
    "        html.H1('Predicting EV charge points'),\n",
    "        dcc.Graph(id='corr_graph'),\n",
    "        html.Div([dcc.RadioItems(id='log_yscale',options=[{'label':'Logarithmic y-axis','value':'log'},\n",
    "                                               {'label':'Linear y-axis scale','value':'linear'}],value='linear'),\n",
    "        dcc.RadioItems(id='log_xscale',options=[{'label':'Logarithmic x-axis','value':'log'},\n",
    "                                               {'label':'Linear x-axis scale','value':'linear'}],value='linear')]),\n",
    "        html.H3('Feature'),\n",
    "        dcc.Dropdown(id='var1',\n",
    "                     value='total_netafterhsing',\n",
    "                     options=[{\n",
    "                         'label': x,\n",
    "                         'value': x\n",
    "                     } for x in df.columns[4:]]),\n",
    "        html.Div(id='text1', children='...waiting'),\n",
    "        html.H3('Target Variable'),\n",
    "        dcc.Dropdown(id='var2',\n",
    "                     value='2019_q2',\n",
    "                     options=[{\n",
    "                         'label': x,\n",
    "                         'value': x\n",
    "                     } for x in df.columns[4:]]),\n",
    "        html.Div(id='text2', children='...waiting')\n",
    "    ],\n",
    "        style={\n",
    "        'width': '50%',\n",
    "                 'display': 'inline-block'\n",
    "    }),\n",
    "    html.Div([\n",
    "        html.H1(\"Mapping\"),\n",
    "        html.Iframe(id='map',\n",
    "                    srcDoc=open('search.html', 'r').read(),\n",
    "                    width='100%',\n",
    "                    height='500px'),\n",
    "        dcc.Dropdown(\n",
    "            id='local_a', value=[\"Tower Hamlets\"], options=lad, multi=True),#central_london+greater_london\n",
    "        html.H3(\"Enter your post code here\"),\n",
    "        dcc.Input(id=\"postcode\",value=\"CR0 2GL\",disabled=False),\n",
    "        html.Button(id='submit-button', n_clicks=0, children='Submit'),\n",
    "        html.Button(id='reset-button', n_clicks=0, children='Reset'),\n",
    "        html.Div(id=\"lad_loc\",children=\"No Local Authority\"),\n",
    "        html.Div(id=\"msoa_loc\",children=\"No MSOA\"),\n",
    "        html.Div(id=\"result\",children=\"No result\"),\n",
    "        html.Div(id=\"prob\",children=\"No probability\")\n",
    "    ],\n",
    "        style={\n",
    "        'width': '50%',\n",
    "                 'float': 'right',\n",
    "                 'display': 'inline-block'\n",
    "    })\n",
    "])"
   ]
  },
  {
   "cell_type": "code",
   "execution_count": 16,
   "metadata": {
    "ExecuteTime": {
     "end_time": "2020-03-03T15:30:30.371326Z",
     "start_time": "2020-03-03T15:30:30.335119Z"
    },
    "scrolled": true
   },
   "outputs": [],
   "source": [
    "@app.callback([\n",
    "    Output('result', 'children'),\n",
    "    Output('msoa_loc', 'children'),\n",
    "    Output('lad_loc', 'children'),\n",
    "    Output('prob', 'children'),\n",
    "    Output('postcode', 'disabled')\n",
    "], [Input('postcode', 'value'),\n",
    "    Input('submit-button', 'n_clicks')])\n",
    "def find_pcd(value, clicks):\n",
    "    the_text = \"No result\"\n",
    "    msoa_description = \"No MSOA\"\n",
    "    lad_description = \"No Local Authority\"\n",
    "    prediction_prob = \"No probability\"\n",
    "    disabled = False\n",
    "    url = \"https://api.postcodes.io/postcodes/\"+value\n",
    "    f = requests.get(url).json()\n",
    "    msoa_nm = f['result']['msoa']\n",
    "    if clicks > 0:\n",
    "\n",
    "        #msoa = ffp.pcd_dict(pcd_dict)[value]\n",
    "        msoa_description = f\"This is in the MSOA: {df[df.msoa11nm == msoa_nm]['msoa11nm'].values[0]}\"\n",
    "        lad_description = f\"This is in the Local Authority of {df[df.msoa11nm == msoa_nm]['lad13nm'].values[0]}\"\n",
    "        X_test = df[df.msoa11nm == msoa_nm].loc[:, \"income_score\":\"metropolitan\"]\n",
    "        prediction_prob = f\"There is a {str(round(logr_model.predict_proba(X_test)[0][1]*100,1))} % probability\"\n",
    "        prediction = logr_model.predict(X_test)[0]\n",
    "        disabled = True\n",
    "        if prediction == 1:\n",
    "            the_text = \"This area is LIKELY to have a charge point\"\n",
    "        else:\n",
    "            the_text = \"This area is NOT LIKELY to have a charge point\"\n",
    "\n",
    "    return (the_text, msoa_description, lad_description, prediction_prob,disabled)\n",
    "\n",
    "\n",
    "@app.callback(\n",
    "    [Output('submit-button', 'n_clicks'),\n",
    "     Output('postcode', 'value')], [Input('reset-button', 'n_clicks')])\n",
    "def reset(value):\n",
    "    if value > 0:\n",
    "        value = 0\n",
    "    \n",
    "    return (0,\"CR0 2GL\")\n",
    "\n",
    "\n",
    "@app.callback(Output('text1', 'children'), [Input('var1', 'value')])\n",
    "def definitions(value):\n",
    "    return data_diction[value]\n",
    "\n",
    "\n",
    "@app.callback(Output('text2', 'children'), [Input('var2', 'value')])\n",
    "def definitions(value):\n",
    "    return data_diction[value]\n",
    "\n",
    "\n",
    "@app.callback(Output('map', 'srcDoc'),\n",
    "              [Input('local_a', 'value'),\n",
    "               Input('var2', 'value'),\n",
    "              Input('postcode', 'value'),\n",
    "              Input('submit-button', 'n_clicks')])\n",
    "def remap(area, target,postcode,clicks):\n",
    "    if clicks > 0:\n",
    "        \n",
    "        url = \"https://api.postcodes.io/postcodes/\"+postcode\n",
    "        f = requests.get(url).json()\n",
    "        lat = f['result']['latitude']\n",
    "        long = f['result']['longitude']\n",
    "\n",
    "        ffp.plot_area(df, target,lat,long,*area)\n",
    "        # print(*area,target)\n",
    "    return open('search.html', 'r').read()\n",
    "\n",
    "\n",
    "@app.callback(Output('corr_graph', 'figure'), [\n",
    "    Input('var1', 'value'),\n",
    "    Input('var2', 'value'),\n",
    "    Input('local_a', 'value'),\n",
    "    Input('log_yscale', 'value'),\n",
    "    Input('log_xscale', 'value')\n",
    "])\n",
    "def plot_corr(x_value, y_value, ladname, yscale, xscale):\n",
    "    # print(df[value2])\n",
    "    return go.Figure(data=[\n",
    "        go.Scatter(x=df[x_value],\n",
    "                   y=df[y_value],\n",
    "                   mode='markers',\n",
    "                   name='Entire UK',\n",
    "                   opacity=0.7,\n",
    "                   marker=go.scatter.Marker(color='red',\n",
    "                                            size=4,\n",
    "                                            line=dict(width=0.5,\n",
    "                                                      color='black'))),\n",
    "        go.Scatter(\n",
    "            x=df[df['lad13nm'].str.contains('|'.join(ladname))][x_value],\n",
    "            y=df[df['lad13nm'].str.contains('|'.join(ladname))][y_value],\n",
    "            text=\"ddd\",\n",
    "            name='Local Authorities Selected',\n",
    "            mode='markers',\n",
    "            opacity=1,\n",
    "            marker=go.scatter.Marker(color='green',\n",
    "                                     size=6,\n",
    "                                     line=dict(width=0.5, color='black')))\n",
    "    ],\n",
    "                     layout=go.Layout(xaxis={\n",
    "                         'type': xscale,\n",
    "                         'title': x_value\n",
    "                     },\n",
    "                                      yaxis={\n",
    "                                          'type': yscale,\n",
    "                                          'title': y_value\n",
    "                                      },\n",
    "                                      margin={\n",
    "                                          'l': 40,\n",
    "                                          'b': 30,\n",
    "                                          't': 20,\n",
    "                                          'r': 20\n",
    "                                      },\n",
    "                                      legend={\n",
    "                                          'x': 0,\n",
    "                                          'y': 1\n",
    "                                      },\n",
    "                                      hovermode='closest'))"
   ]
  },
  {
   "cell_type": "code",
   "execution_count": 17,
   "metadata": {
    "ExecuteTime": {
     "end_time": "2020-03-03T15:34:41.993325Z",
     "start_time": "2020-03-03T15:30:35.660172Z"
    },
    "scrolled": true
   },
   "outputs": [
    {
     "name": "stdout",
     "output_type": "stream",
     "text": [
      " * Serving Flask app \"__name__\" (lazy loading)\n",
      " * Environment: production\n",
      "   WARNING: This is a development server. Do not use it in a production deployment.\n",
      "   Use a production WSGI server instead.\n",
      " * Debug mode: off\n"
     ]
    },
    {
     "name": "stderr",
     "output_type": "stream",
     "text": [
      " * Running on http://127.0.0.1:7050/ (Press CTRL+C to quit)\n",
      "127.0.0.1 - - [03/Mar/2020 15:30:40] \"\u001b[37mGET / HTTP/1.1\u001b[0m\" 200 -\n",
      "127.0.0.1 - - [03/Mar/2020 15:30:40] \"\u001b[37mGET /_dash-component-suites/dash_renderer/react@16.v1_2_3m1582553237.8.6.min.js HTTP/1.1\u001b[0m\" 200 -\n",
      "127.0.0.1 - - [03/Mar/2020 15:30:40] \"\u001b[37mGET /_dash-component-suites/dash_renderer/polyfill@7.v1_2_3m1582553237.7.0.min.js HTTP/1.1\u001b[0m\" 200 -\n",
      "127.0.0.1 - - [03/Mar/2020 15:30:40] \"\u001b[37mGET /_dash-component-suites/dash_renderer/react-dom@16.v1_2_3m1582553237.8.6.min.js HTTP/1.1\u001b[0m\" 200 -\n",
      "127.0.0.1 - - [03/Mar/2020 15:30:40] \"\u001b[37mGET /_dash-component-suites/dash_renderer/prop-types@15.v1_2_3m1582553237.7.2.min.js HTTP/1.1\u001b[0m\" 200 -\n",
      "127.0.0.1 - - [03/Mar/2020 15:30:40] \"\u001b[37mGET /_dash-component-suites/dash_html_components/dash_html_components.v1_0_2m1582553244.min.js HTTP/1.1\u001b[0m\" 200 -\n",
      "127.0.0.1 - - [03/Mar/2020 15:30:40] \"\u001b[37mGET /_dash-component-suites/dash_core_components/dash_core_components.v1_7_0m1582553241.min.js HTTP/1.1\u001b[0m\" 200 -\n",
      "127.0.0.1 - - [03/Mar/2020 15:30:40] \"\u001b[37mGET /_dash-component-suites/dash_core_components/dash_core_components-shared.v1_7_0m1582553241.js HTTP/1.1\u001b[0m\" 200 -\n",
      "127.0.0.1 - - [03/Mar/2020 15:30:40] \"\u001b[37mGET /_dash-component-suites/dash_renderer/dash_renderer.v1_2_3m1582553237.min.js HTTP/1.1\u001b[0m\" 200 -\n",
      "127.0.0.1 - - [03/Mar/2020 15:30:40] \"\u001b[37mGET /_dash-dependencies HTTP/1.1\u001b[0m\" 200 -\n",
      "127.0.0.1 - - [03/Mar/2020 15:30:40] \"\u001b[37mGET /_dash-layout HTTP/1.1\u001b[0m\" 200 -\n",
      "127.0.0.1 - - [03/Mar/2020 15:30:40] \"\u001b[37mGET /_favicon.ico?v=1.8.0 HTTP/1.1\u001b[0m\" 200 -\n",
      "127.0.0.1 - - [03/Mar/2020 15:30:40] \"\u001b[37mGET /_dash-component-suites/dash_core_components/async~graph.v1_7_0m1579024535.js HTTP/1.1\u001b[0m\" 200 -\n",
      "127.0.0.1 - - [03/Mar/2020 15:30:40] \"\u001b[37mGET /_dash-component-suites/dash_core_components/async~dropdown.v1_7_0m1579024535.js HTTP/1.1\u001b[0m\" 200 -\n",
      "127.0.0.1 - - [03/Mar/2020 15:30:40] \"\u001b[37mPOST /_dash-update-component HTTP/1.1\u001b[0m\" 200 -\n",
      "127.0.0.1 - - [03/Mar/2020 15:30:40] \"\u001b[37mPOST /_dash-update-component HTTP/1.1\u001b[0m\" 200 -\n",
      "127.0.0.1 - - [03/Mar/2020 15:30:40] \"\u001b[37mPOST /_dash-update-component HTTP/1.1\u001b[0m\" 200 -\n",
      "127.0.0.1 - - [03/Mar/2020 15:30:40] \"\u001b[37mPOST /_dash-update-component HTTP/1.1\u001b[0m\" 200 -\n",
      "127.0.0.1 - - [03/Mar/2020 15:30:40] \"\u001b[37mGET /_dash-component-suites/dash_core_components/async~plotlyjs.v1_7_0m1579024535.js HTTP/1.1\u001b[0m\" 200 -\n",
      "127.0.0.1 - - [03/Mar/2020 15:30:40] \"\u001b[37mPOST /_dash-update-component HTTP/1.1\u001b[0m\" 200 -\n",
      "127.0.0.1 - - [03/Mar/2020 15:30:40] \"\u001b[37mPOST /_dash-update-component HTTP/1.1\u001b[0m\" 200 -\n",
      "127.0.0.1 - - [03/Mar/2020 15:30:41] \"\u001b[37mPOST /_dash-update-component HTTP/1.1\u001b[0m\" 200 -\n",
      "127.0.0.1 - - [03/Mar/2020 15:30:41] \"\u001b[37mPOST /_dash-update-component HTTP/1.1\u001b[0m\" 200 -\n",
      "127.0.0.1 - - [03/Mar/2020 15:30:41] \"\u001b[37mPOST /_dash-update-component HTTP/1.1\u001b[0m\" 200 -\n",
      "127.0.0.1 - - [03/Mar/2020 15:30:41] \"\u001b[37mPOST /_dash-update-component HTTP/1.1\u001b[0m\" 200 -\n",
      "127.0.0.1 - - [03/Mar/2020 15:30:46] \"\u001b[37mPOST /_dash-update-component HTTP/1.1\u001b[0m\" 200 -\n",
      "127.0.0.1 - - [03/Mar/2020 15:30:49] \"\u001b[37mPOST /_dash-update-component HTTP/1.1\u001b[0m\" 200 -\n",
      "127.0.0.1 - - [03/Mar/2020 15:30:51] \"\u001b[37mPOST /_dash-update-component HTTP/1.1\u001b[0m\" 200 -\n",
      "127.0.0.1 - - [03/Mar/2020 15:31:14] \"\u001b[37mPOST /_dash-update-component HTTP/1.1\u001b[0m\" 200 -\n",
      "127.0.0.1 - - [03/Mar/2020 15:31:14] \"\u001b[37mPOST /_dash-update-component HTTP/1.1\u001b[0m\" 200 -\n",
      "127.0.0.1 - - [03/Mar/2020 15:31:14] \"\u001b[37mPOST /_dash-update-component HTTP/1.1\u001b[0m\" 200 -\n",
      "127.0.0.1 - - [03/Mar/2020 15:31:19] \"\u001b[37mPOST /_dash-update-component HTTP/1.1\u001b[0m\" 200 -\n",
      "127.0.0.1 - - [03/Mar/2020 15:31:19] \"\u001b[37mPOST /_dash-update-component HTTP/1.1\u001b[0m\" 200 -\n",
      "127.0.0.1 - - [03/Mar/2020 15:31:23] \"\u001b[37mPOST /_dash-update-component HTTP/1.1\u001b[0m\" 200 -\n",
      "127.0.0.1 - - [03/Mar/2020 15:31:23] \"\u001b[37mPOST /_dash-update-component HTTP/1.1\u001b[0m\" 200 -\n",
      "127.0.0.1 - - [03/Mar/2020 15:31:23] \"\u001b[37mPOST /_dash-update-component HTTP/1.1\u001b[0m\" 200 -\n",
      "127.0.0.1 - - [03/Mar/2020 15:31:26] \"\u001b[37mPOST /_dash-update-component HTTP/1.1\u001b[0m\" 200 -\n",
      "127.0.0.1 - - [03/Mar/2020 15:31:28] \"\u001b[37mPOST /_dash-update-component HTTP/1.1\u001b[0m\" 200 -\n",
      "127.0.0.1 - - [03/Mar/2020 15:31:37] \"\u001b[37mPOST /_dash-update-component HTTP/1.1\u001b[0m\" 200 -\n",
      "127.0.0.1 - - [03/Mar/2020 15:31:51] \"\u001b[37mPOST /_dash-update-component HTTP/1.1\u001b[0m\" 200 -\n",
      "127.0.0.1 - - [03/Mar/2020 15:32:07] \"\u001b[37mPOST /_dash-update-component HTTP/1.1\u001b[0m\" 200 -\n",
      "127.0.0.1 - - [03/Mar/2020 15:32:07] \"\u001b[37mPOST /_dash-update-component HTTP/1.1\u001b[0m\" 200 -\n",
      "127.0.0.1 - - [03/Mar/2020 15:32:17] \"\u001b[37mPOST /_dash-update-component HTTP/1.1\u001b[0m\" 200 -\n",
      "127.0.0.1 - - [03/Mar/2020 15:32:31] \"\u001b[37mPOST /_dash-update-component HTTP/1.1\u001b[0m\" 200 -\n",
      "127.0.0.1 - - [03/Mar/2020 15:32:32] \"\u001b[37mPOST /_dash-update-component HTTP/1.1\u001b[0m\" 200 -\n",
      "127.0.0.1 - - [03/Mar/2020 15:32:36] \"\u001b[37mPOST /_dash-update-component HTTP/1.1\u001b[0m\" 200 -\n",
      "127.0.0.1 - - [03/Mar/2020 15:33:22] \"\u001b[37mPOST /_dash-update-component HTTP/1.1\u001b[0m\" 200 -\n",
      "127.0.0.1 - - [03/Mar/2020 15:33:26] \"\u001b[37mPOST /_dash-update-component HTTP/1.1\u001b[0m\" 200 -\n",
      "127.0.0.1 - - [03/Mar/2020 15:33:26] \"\u001b[37mPOST /_dash-update-component HTTP/1.1\u001b[0m\" 200 -\n"
     ]
    }
   ],
   "source": [
    "if __name__ == \"__main__\":\n",
    "    # webbrowser.open('http://127.0.0.1:8050/', new=0, autoraise=True)\n",
    "    app.run_server(port = 7050, debug=False)"
   ]
  },
  {
   "cell_type": "code",
   "execution_count": null,
   "metadata": {
    "ExecuteTime": {
     "end_time": "2020-03-03T10:03:44.977845Z",
     "start_time": "2020-03-03T10:03:35.481Z"
    }
   },
   "outputs": [],
   "source": [
    "# scaler = StandardScaler()\n",
    "# chrg_select = pd.DataFrame(ppf.ColumnSelector('charge_points').fit_transform(df).values.reshape(-1,1))\n",
    "# df['charge_points'] = ppf.FeatureLogTransform().fit_transform(chrg_select)\n",
    "\n",
    "# print(data_d.EV_britain().description[\"income_score\"])\n",
    "# print(plot_area(merged_df,\"crime_score\",\"Southwark\"))"
   ]
  }
 ],
 "metadata": {
  "kernelspec": {
   "display_name": "Python 3",
   "language": "python",
   "name": "python3"
  },
  "language_info": {
   "codemirror_mode": {
    "name": "ipython",
    "version": 3
   },
   "file_extension": ".py",
   "mimetype": "text/x-python",
   "name": "python",
   "nbconvert_exporter": "python",
   "pygments_lexer": "ipython3",
   "version": "3.7.3"
  },
  "toc": {
   "base_numbering": 1,
   "nav_menu": {},
   "number_sections": true,
   "sideBar": true,
   "skip_h1_title": false,
   "title_cell": "Table of Contents",
   "title_sidebar": "Contents",
   "toc_cell": false,
   "toc_position": {},
   "toc_section_display": true,
   "toc_window_display": false
  },
  "varInspector": {
   "cols": {
    "lenName": 16,
    "lenType": 16,
    "lenVar": 40
   },
   "kernels_config": {
    "python": {
     "delete_cmd_postfix": "",
     "delete_cmd_prefix": "del ",
     "library": "var_list.py",
     "varRefreshCmd": "print(var_dic_list())"
    },
    "r": {
     "delete_cmd_postfix": ") ",
     "delete_cmd_prefix": "rm(",
     "library": "var_list.r",
     "varRefreshCmd": "cat(var_dic_list()) "
    }
   },
   "types_to_exclude": [
    "module",
    "function",
    "builtin_function_or_method",
    "instance",
    "_Feature"
   ],
   "window_display": false
  }
 },
 "nbformat": 4,
 "nbformat_minor": 2
}
