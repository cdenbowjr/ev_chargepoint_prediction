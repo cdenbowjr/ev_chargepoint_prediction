{
 "cells": [
  {
   "cell_type": "code",
   "execution_count": 1,
   "metadata": {
    "ExecuteTime": {
     "end_time": "2020-03-01T14:58:01.670234Z",
     "start_time": "2020-03-01T14:57:59.197070Z"
    }
   },
   "outputs": [],
   "source": [
    "import dash\n",
    "import dash_core_components as dcc\n",
    "import dash_html_components as html\n",
    "from dash.dependencies import Input, Output\n",
    "import plotly.graph_objs as go\n",
    "\n",
    "import pandas as pd\n",
    "import json\n",
    "from shapely.geometry import Polygon\n",
    "import folium\n",
    "from src.functions import functions_for_project as ffp\n",
    "from src.data import data_dictionary as data_d\n",
    "import numpy as np"
   ]
  },
  {
   "cell_type": "code",
   "execution_count": 104,
   "metadata": {
    "ExecuteTime": {
     "end_time": "2020-03-01T17:44:14.026106Z",
     "start_time": "2020-03-01T17:44:05.677172Z"
    }
   },
   "outputs": [],
   "source": [
    "df = pd.read_csv(\n",
    "    'http://www.data4apurpose.com/client_html/full_processed_data.csv')\n",
    "\n",
    "msoa_uk = ffp.load_geojson(\n",
    "    'http://www.data4apurpose.com/client_html'\n",
    "    '/Middle_Layer_Super_Output_Areas_December_2011_Boundaries_EW_BFC_ultra_simple.geojson'\n",
    ")\n",
    "\n",
    "data_diction = data_d.EV_britain().description\n",
    "\n",
    "central_london = [\n",
    "    'City of London', 'Camden', 'Greenwich', 'Hackney',\n",
    "    'Hammersmith and Fulham', 'Islington', 'Kensington and Chelsea', 'Lambeth',\n",
    "    'Lewisham', 'Southwark', 'Tower Hamlets', 'Wandsworth', 'Westminster'\n",
    "]\n",
    "\n",
    "greater_london = [\n",
    "    'Croydon', 'Sutton', 'Brent', 'Ealing', 'Hounslow', 'Richmond', 'Kingston',\n",
    "    'Merton', 'Bromley', 'Bexley', 'Havering', 'Barking and Dagenham',\n",
    "    'Redbridge', 'Newham', 'Waltham Forest', 'Haringey', 'Enfield', 'Barnet',\n",
    "    'Harrow', 'Hillingdon'\n",
    "]\n",
    "\n",
    "lad = [{'label': area, 'value': area} for area in df.lad13nm.unique()]"
   ]
  },
  {
   "cell_type": "code",
   "execution_count": 105,
   "metadata": {
    "ExecuteTime": {
     "end_time": "2020-03-01T17:44:14.524583Z",
     "start_time": "2020-03-01T17:44:14.500281Z"
    }
   },
   "outputs": [],
   "source": [
    "df = pd.merge(df, msoa_uk, left_on='msoa11cd', right_on='properties.msoa11cd')"
   ]
  },
  {
   "cell_type": "code",
   "execution_count": 106,
   "metadata": {
    "ExecuteTime": {
     "end_time": "2020-03-01T17:44:15.288919Z",
     "start_time": "2020-03-01T17:44:15.285447Z"
    }
   },
   "outputs": [],
   "source": [
    "x_rand = np.random.randint(1,61,60)\n",
    "y_rand = np.random.randint(1,61,60)"
   ]
  },
  {
   "cell_type": "code",
   "execution_count": 110,
   "metadata": {
    "ExecuteTime": {
     "end_time": "2020-03-01T22:48:53.646147Z",
     "start_time": "2020-03-01T22:48:53.571754Z"
    }
   },
   "outputs": [],
   "source": [
    "app = dash.Dash('__name__')\n",
    "server = app.server\n",
    "\n",
    "app.layout = html.Div([\n",
    "    html.Div([\n",
    "        html.H1('Correlations'),\n",
    "        dcc.Graph(id='corr_graph'),\n",
    "        html.Div([dcc.RadioItems(id='log_yscale',options=[{'label':'Logarithmic y-axis','value':'log'},\n",
    "                                               {'label':'Linear y-axis scale','value':'linear'}],value='linear'),\n",
    "        dcc.RadioItems(id='log_xscale',options=[{'label':'Logarithmic x-axis','value':'log'},\n",
    "                                               {'label':'Linear x-axis scale','value':'linear'}],value='linear')]),\n",
    "        html.H3('Feature'),\n",
    "        dcc.Dropdown(id='var1',\n",
    "                     value='total_netafterhsing',\n",
    "                     options=[{\n",
    "                         'label': x,\n",
    "                         'value': x\n",
    "                     } for x in df.columns[4:]]),\n",
    "        html.Div(id='text1', children='...waiting'),\n",
    "        html.H3('Target Variable'),\n",
    "        dcc.Dropdown(id='var2',\n",
    "                     value='2019_q2',\n",
    "                     options=[{\n",
    "                         'label': x,\n",
    "                         'value': x\n",
    "                     } for x in df.columns[4:]]),\n",
    "        html.Div(id='text2', children='...waiting')\n",
    "    ],\n",
    "        style={\n",
    "        'width': '50%',\n",
    "                 'display': 'inline-block'\n",
    "    }),\n",
    "    html.Div([\n",
    "        html.H1(\"Mapping\"),\n",
    "        html.Iframe(id='map',\n",
    "                    srcDoc=open('search.html', 'r').read(),\n",
    "                    width='100%',\n",
    "                    height='500px'),\n",
    "        dcc.Dropdown(\n",
    "            id='local_a', value=central_london+greater_london, options=lad, multi=True)\n",
    "    ],\n",
    "        style={\n",
    "        'width': '50%',\n",
    "                 'float': 'right',\n",
    "                 'display': 'inline-block'\n",
    "    })\n",
    "])"
   ]
  },
  {
   "cell_type": "code",
   "execution_count": 111,
   "metadata": {
    "ExecuteTime": {
     "end_time": "2020-03-01T22:48:54.264689Z",
     "start_time": "2020-03-01T22:48:54.236387Z"
    },
    "scrolled": true
   },
   "outputs": [],
   "source": [
    "@app.callback(Output('text1', 'children'), [Input('var1', 'value')])\n",
    "def definitions(value):\n",
    "    return data_diction[value]\n",
    "\n",
    "\n",
    "@app.callback(Output('text2', 'children'), [Input('var2', 'value')])\n",
    "def definitions(value):\n",
    "    return data_diction[value]\n",
    "\n",
    "\n",
    "@app.callback(Output('map', 'srcDoc'),\n",
    "              [Input('local_a', 'value'),\n",
    "               Input('var2', 'value')])\n",
    "def remap(area, target):\n",
    "    ffp.plot_area(df, target, *area)\n",
    "    # print(*area,target)\n",
    "    return open('search.html', 'r').read()\n",
    "\n",
    "\n",
    "@app.callback(Output('corr_graph', 'figure'), [\n",
    "    Input('var1', 'value'),\n",
    "    Input('var2', 'value'),\n",
    "    Input('local_a', 'value'),\n",
    "    Input('log_yscale', 'value'),\n",
    "    Input('log_xscale', 'value')\n",
    "])\n",
    "def plot_corr(x_value, y_value, ladname, yscale, xscale):\n",
    "    # print(df[value2])\n",
    "    return go.Figure(data=[\n",
    "        go.Scatter(x=df[x_value],\n",
    "                   y=df[y_value],\n",
    "                   mode='markers',\n",
    "                   name='Entire UK',\n",
    "                   opacity=0.7,\n",
    "                   marker=go.scatter.Marker(color='red',\n",
    "                                            size=4,\n",
    "                                            line=dict(width=0.5,\n",
    "                                                      color='black'))),\n",
    "        go.Scatter(\n",
    "            x=df[df['lad13nm'].str.contains('|'.join(ladname))][x_value],\n",
    "            y=df[df['lad13nm'].str.contains('|'.join(ladname))][y_value],\n",
    "            text=\"ddd\",\n",
    "            name='Local Authorities Selected',\n",
    "            mode='markers',\n",
    "            opacity=1,\n",
    "            marker=go.scatter.Marker(color='green',\n",
    "                                     size=6,\n",
    "                                     line=dict(width=0.5, color='black')))\n",
    "    ],\n",
    "                     layout=go.Layout(title='Correlation between variables',\n",
    "                                      xaxis={\n",
    "                                          'type': xscale,\n",
    "                                          'title': x_value\n",
    "                                      },\n",
    "                                      yaxis={\n",
    "                                          'type': yscale,\n",
    "                                          'title': y_value\n",
    "                                      },\n",
    "                                      margin={\n",
    "                                          'l': 40,\n",
    "                                          'b': 30,\n",
    "                                          't': 20,\n",
    "                                          'r': 20\n",
    "                                      },\n",
    "                                      legend={\n",
    "                                          'x': 0,\n",
    "                                          'y': 1\n",
    "                                      },\n",
    "                                      hovermode='closest'))"
   ]
  },
  {
   "cell_type": "code",
   "execution_count": null,
   "metadata": {
    "ExecuteTime": {
     "start_time": "2020-03-01T22:48:54.849Z"
    },
    "scrolled": true
   },
   "outputs": [
    {
     "name": "stdout",
     "output_type": "stream",
     "text": [
      " * Serving Flask app \"__name__\" (lazy loading)\n",
      " * Environment: production\n",
      "   WARNING: This is a development server. Do not use it in a production deployment.\n",
      "   Use a production WSGI server instead.\n",
      " * Debug mode: off\n"
     ]
    },
    {
     "name": "stderr",
     "output_type": "stream",
     "text": [
      " * Running on http://127.0.0.1:8050/ (Press CTRL+C to quit)\n",
      "127.0.0.1 - - [01/Mar/2020 22:49:02] \"\u001b[37mGET / HTTP/1.1\u001b[0m\" 200 -\n",
      "127.0.0.1 - - [01/Mar/2020 22:49:02] \"\u001b[37mGET /_dash-layout HTTP/1.1\u001b[0m\" 200 -\n",
      "127.0.0.1 - - [01/Mar/2020 22:49:02] \"\u001b[37mGET /_dash-dependencies HTTP/1.1\u001b[0m\" 200 -\n",
      "127.0.0.1 - - [01/Mar/2020 22:49:02] \"\u001b[37mPOST /_dash-update-component HTTP/1.1\u001b[0m\" 200 -\n",
      "127.0.0.1 - - [01/Mar/2020 22:49:02] \"\u001b[37mPOST /_dash-update-component HTTP/1.1\u001b[0m\" 200 -\n",
      "127.0.0.1 - - [01/Mar/2020 22:49:03] \"\u001b[37mPOST /_dash-update-component HTTP/1.1\u001b[0m\" 200 -\n",
      "127.0.0.1 - - [01/Mar/2020 22:49:06] \"\u001b[37mPOST /_dash-update-component HTTP/1.1\u001b[0m\" 200 -\n",
      "127.0.0.1 - - [01/Mar/2020 22:50:03] \"\u001b[37mPOST /_dash-update-component HTTP/1.1\u001b[0m\" 200 -\n",
      "127.0.0.1 - - [01/Mar/2020 22:50:03] \"\u001b[37mPOST /_dash-update-component HTTP/1.1\u001b[0m\" 200 -\n",
      "127.0.0.1 - - [01/Mar/2020 22:50:06] \"\u001b[37mPOST /_dash-update-component HTTP/1.1\u001b[0m\" 200 -\n",
      "127.0.0.1 - - [01/Mar/2020 22:50:16] \"\u001b[37mPOST /_dash-update-component HTTP/1.1\u001b[0m\" 200 -\n",
      "127.0.0.1 - - [01/Mar/2020 22:50:16] \"\u001b[37mPOST /_dash-update-component HTTP/1.1\u001b[0m\" 200 -\n",
      "127.0.0.1 - - [01/Mar/2020 22:52:21] \"\u001b[37mPOST /_dash-update-component HTTP/1.1\u001b[0m\" 200 -\n",
      "127.0.0.1 - - [01/Mar/2020 22:52:21] \"\u001b[37mPOST /_dash-update-component HTTP/1.1\u001b[0m\" 200 -\n",
      "127.0.0.1 - - [01/Mar/2020 22:52:46] \"\u001b[37mPOST /_dash-update-component HTTP/1.1\u001b[0m\" 200 -\n",
      "127.0.0.1 - - [01/Mar/2020 22:52:46] \"\u001b[37mPOST /_dash-update-component HTTP/1.1\u001b[0m\" 200 -\n",
      "127.0.0.1 - - [01/Mar/2020 22:53:18] \"\u001b[37mPOST /_dash-update-component HTTP/1.1\u001b[0m\" 200 -\n",
      "127.0.0.1 - - [01/Mar/2020 22:53:19] \"\u001b[37mPOST /_dash-update-component HTTP/1.1\u001b[0m\" 200 -\n",
      "127.0.0.1 - - [01/Mar/2020 22:53:22] \"\u001b[37mPOST /_dash-update-component HTTP/1.1\u001b[0m\" 200 -\n",
      "127.0.0.1 - - [01/Mar/2020 22:54:38] \"\u001b[37mPOST /_dash-update-component HTTP/1.1\u001b[0m\" 200 -\n",
      "127.0.0.1 - - [01/Mar/2020 22:54:39] \"\u001b[37mPOST /_dash-update-component HTTP/1.1\u001b[0m\" 200 -\n",
      "127.0.0.1 - - [01/Mar/2020 22:54:42] \"\u001b[37mPOST /_dash-update-component HTTP/1.1\u001b[0m\" 200 -\n",
      "127.0.0.1 - - [01/Mar/2020 22:54:58] \"\u001b[37mPOST /_dash-update-component HTTP/1.1\u001b[0m\" 200 -\n",
      "127.0.0.1 - - [01/Mar/2020 22:54:59] \"\u001b[37mPOST /_dash-update-component HTTP/1.1\u001b[0m\" 200 -\n",
      "127.0.0.1 - - [01/Mar/2020 22:55:02] \"\u001b[37mPOST /_dash-update-component HTTP/1.1\u001b[0m\" 200 -\n",
      "127.0.0.1 - - [01/Mar/2020 22:55:18] \"\u001b[37mPOST /_dash-update-component HTTP/1.1\u001b[0m\" 200 -\n",
      "127.0.0.1 - - [01/Mar/2020 22:55:18] \"\u001b[37mPOST /_dash-update-component HTTP/1.1\u001b[0m\" 200 -\n",
      "127.0.0.1 - - [01/Mar/2020 22:55:21] \"\u001b[37mPOST /_dash-update-component HTTP/1.1\u001b[0m\" 200 -\n",
      "127.0.0.1 - - [01/Mar/2020 22:55:34] \"\u001b[37mPOST /_dash-update-component HTTP/1.1\u001b[0m\" 200 -\n",
      "127.0.0.1 - - [01/Mar/2020 22:55:35] \"\u001b[37mPOST /_dash-update-component HTTP/1.1\u001b[0m\" 200 -\n",
      "127.0.0.1 - - [01/Mar/2020 22:55:39] \"\u001b[37mPOST /_dash-update-component HTTP/1.1\u001b[0m\" 200 -\n",
      "127.0.0.1 - - [01/Mar/2020 22:56:36] \"\u001b[37mPOST /_dash-update-component HTTP/1.1\u001b[0m\" 200 -\n",
      "127.0.0.1 - - [01/Mar/2020 22:56:36] \"\u001b[37mPOST /_dash-update-component HTTP/1.1\u001b[0m\" 200 -\n",
      "127.0.0.1 - - [01/Mar/2020 22:58:33] \"\u001b[37mGET / HTTP/1.1\u001b[0m\" 200 -\n",
      "127.0.0.1 - - [01/Mar/2020 22:58:33] \"\u001b[37mGET /_dash-layout HTTP/1.1\u001b[0m\" 200 -\n",
      "127.0.0.1 - - [01/Mar/2020 22:58:33] \"\u001b[37mGET /_dash-dependencies HTTP/1.1\u001b[0m\" 200 -\n",
      "127.0.0.1 - - [01/Mar/2020 22:58:34] \"\u001b[37mGET /_favicon.ico?v=1.8.0 HTTP/1.1\u001b[0m\" 200 -\n",
      "127.0.0.1 - - [01/Mar/2020 22:58:34] \"\u001b[37mPOST /_dash-update-component HTTP/1.1\u001b[0m\" 200 -\n",
      "127.0.0.1 - - [01/Mar/2020 22:58:34] \"\u001b[37mPOST /_dash-update-component HTTP/1.1\u001b[0m\" 200 -\n",
      "127.0.0.1 - - [01/Mar/2020 22:58:34] \"\u001b[37mPOST /_dash-update-component HTTP/1.1\u001b[0m\" 200 -\n",
      "127.0.0.1 - - [01/Mar/2020 22:58:37] \"\u001b[37mPOST /_dash-update-component HTTP/1.1\u001b[0m\" 200 -\n",
      "127.0.0.1 - - [01/Mar/2020 23:30:18] \"\u001b[37mPOST /_dash-update-component HTTP/1.1\u001b[0m\" 200 -\n",
      "127.0.0.1 - - [01/Mar/2020 23:30:18] \"\u001b[37mPOST /_dash-update-component HTTP/1.1\u001b[0m\" 200 -\n",
      "127.0.0.1 - - [01/Mar/2020 23:30:24] \"\u001b[37mPOST /_dash-update-component HTTP/1.1\u001b[0m\" 200 -\n",
      "127.0.0.1 - - [01/Mar/2020 23:30:24] \"\u001b[37mPOST /_dash-update-component HTTP/1.1\u001b[0m\" 200 -\n",
      "127.0.0.1 - - [01/Mar/2020 23:30:27] \"\u001b[37mPOST /_dash-update-component HTTP/1.1\u001b[0m\" 200 -\n",
      "127.0.0.1 - - [01/Mar/2020 23:30:30] \"\u001b[37mPOST /_dash-update-component HTTP/1.1\u001b[0m\" 200 -\n",
      "127.0.0.1 - - [01/Mar/2020 23:31:09] \"\u001b[37mPOST /_dash-update-component HTTP/1.1\u001b[0m\" 200 -\n",
      "127.0.0.1 - - [01/Mar/2020 23:31:10] \"\u001b[37mPOST /_dash-update-component HTTP/1.1\u001b[0m\" 200 -\n",
      "127.0.0.1 - - [01/Mar/2020 23:31:13] \"\u001b[37mPOST /_dash-update-component HTTP/1.1\u001b[0m\" 200 -\n",
      "127.0.0.1 - - [01/Mar/2020 23:31:34] \"\u001b[37mPOST /_dash-update-component HTTP/1.1\u001b[0m\" 200 -\n",
      "127.0.0.1 - - [01/Mar/2020 23:31:34] \"\u001b[37mPOST /_dash-update-component HTTP/1.1\u001b[0m\" 200 -\n",
      "127.0.0.1 - - [01/Mar/2020 23:31:38] \"\u001b[37mPOST /_dash-update-component HTTP/1.1\u001b[0m\" 200 -\n",
      "127.0.0.1 - - [01/Mar/2020 23:32:10] \"\u001b[37mPOST /_dash-update-component HTTP/1.1\u001b[0m\" 200 -\n",
      "127.0.0.1 - - [01/Mar/2020 23:32:11] \"\u001b[37mPOST /_dash-update-component HTTP/1.1\u001b[0m\" 200 -\n",
      "127.0.0.1 - - [01/Mar/2020 23:32:14] \"\u001b[37mPOST /_dash-update-component HTTP/1.1\u001b[0m\" 200 -\n"
     ]
    }
   ],
   "source": [
    "if __name__ == \"__main__\":\n",
    "    # webbrowser.open('http://127.0.0.1:8050/', new=0, autoraise=True)\n",
    "    app.run_server(debug=False)"
   ]
  },
  {
   "cell_type": "code",
   "execution_count": null,
   "metadata": {},
   "outputs": [],
   "source": [
    "# scaler = StandardScaler()\n",
    "# chrg_select = pd.DataFrame(ppf.ColumnSelector('charge_points').fit_transform(df).values.reshape(-1,1))\n",
    "# df['charge_points'] = ppf.FeatureLogTransform().fit_transform(chrg_select)\n",
    "\n",
    "# print(data_d.EV_britain().description[\"income_score\"])\n",
    "# print(plot_area(merged_df,\"crime_score\",\"Southwark\"))"
   ]
  }
 ],
 "metadata": {
  "kernelspec": {
   "display_name": "Python 3",
   "language": "python",
   "name": "python3"
  },
  "language_info": {
   "codemirror_mode": {
    "name": "ipython",
    "version": 3
   },
   "file_extension": ".py",
   "mimetype": "text/x-python",
   "name": "python",
   "nbconvert_exporter": "python",
   "pygments_lexer": "ipython3",
   "version": "3.7.3"
  },
  "toc": {
   "base_numbering": 1,
   "nav_menu": {},
   "number_sections": true,
   "sideBar": true,
   "skip_h1_title": false,
   "title_cell": "Table of Contents",
   "title_sidebar": "Contents",
   "toc_cell": false,
   "toc_position": {},
   "toc_section_display": true,
   "toc_window_display": false
  },
  "varInspector": {
   "cols": {
    "lenName": 16,
    "lenType": 16,
    "lenVar": 40
   },
   "kernels_config": {
    "python": {
     "delete_cmd_postfix": "",
     "delete_cmd_prefix": "del ",
     "library": "var_list.py",
     "varRefreshCmd": "print(var_dic_list())"
    },
    "r": {
     "delete_cmd_postfix": ") ",
     "delete_cmd_prefix": "rm(",
     "library": "var_list.r",
     "varRefreshCmd": "cat(var_dic_list()) "
    }
   },
   "types_to_exclude": [
    "module",
    "function",
    "builtin_function_or_method",
    "instance",
    "_Feature"
   ],
   "window_display": false
  }
 },
 "nbformat": 4,
 "nbformat_minor": 2
}
