{
 "cells": [
  {
   "cell_type": "markdown",
   "metadata": {
    "toc": true
   },
   "source": [
    "<h1>Table of Contents<span class=\"tocSkip\"></span></h1>\n",
    "<div class=\"toc\"><ul class=\"toc-item\"><li><span><a href=\"#Predicting-Electric-Vehicle(EV)-chargepoints-in-England\" data-toc-modified-id=\"Predicting-Electric-Vehicle(EV)-chargepoints-in-England-1\"><span class=\"toc-item-num\">1&nbsp;&nbsp;</span>Predicting Electric Vehicle(EV) chargepoints in England</a></span><ul class=\"toc-item\"><li><span><a href=\"#Modelling\" data-toc-modified-id=\"Modelling-1.1\"><span class=\"toc-item-num\">1.1&nbsp;&nbsp;</span>Modelling</a></span><ul class=\"toc-item\"><li><span><a href=\"#Splitting-dataframe-into-features-and-target-|-converting-target-to-binary-for-classification\" data-toc-modified-id=\"Splitting-dataframe-into-features-and-target-|-converting-target-to-binary-for-classification-1.1.1\"><span class=\"toc-item-num\">1.1.1&nbsp;&nbsp;</span>Splitting dataframe into features and target | converting target to binary for classification</a></span><ul class=\"toc-item\"><li><span><a href=\"#Train-test-split-(80%-Train,-20%-Test)\" data-toc-modified-id=\"Train-test-split-(80%-Train,-20%-Test)-1.1.1.1\"><span class=\"toc-item-num\">1.1.1.1&nbsp;&nbsp;</span>Train-test-split (80% Train, 20% Test)</a></span></li></ul></li><li><span><a href=\"#Building-classifier-pipeline\" data-toc-modified-id=\"Building-classifier-pipeline-1.1.2\"><span class=\"toc-item-num\">1.1.2&nbsp;&nbsp;</span>Building classifier pipeline</a></span></li><li><span><a href=\"#Logistic-regression\" data-toc-modified-id=\"Logistic-regression-1.1.3\"><span class=\"toc-item-num\">1.1.3&nbsp;&nbsp;</span>Logistic regression</a></span></li><li><span><a href=\"#Decision-Tree\" data-toc-modified-id=\"Decision-Tree-1.1.4\"><span class=\"toc-item-num\">1.1.4&nbsp;&nbsp;</span>Decision Tree</a></span></li><li><span><a href=\"#Gaussian-Naive-Bayes\" data-toc-modified-id=\"Gaussian-Naive-Bayes-1.1.5\"><span class=\"toc-item-num\">1.1.5&nbsp;&nbsp;</span>Gaussian Naive Bayes</a></span></li><li><span><a href=\"#Support-Vectors-(Linear-Model)\" data-toc-modified-id=\"Support-Vectors-(Linear-Model)-1.1.6\"><span class=\"toc-item-num\">1.1.6&nbsp;&nbsp;</span>Support Vectors (Linear Model)</a></span></li><li><span><a href=\"#Support-Vectors-(Radial-Based)\" data-toc-modified-id=\"Support-Vectors-(Radial-Based)-1.1.7\"><span class=\"toc-item-num\">1.1.7&nbsp;&nbsp;</span>Support Vectors (Radial Based)</a></span></li><li><span><a href=\"#K-Nearest-Neighbours\" data-toc-modified-id=\"K-Nearest-Neighbours-1.1.8\"><span class=\"toc-item-num\">1.1.8&nbsp;&nbsp;</span>K Nearest Neighbours</a></span></li><li><span><a href=\"#Random-Forest\" data-toc-modified-id=\"Random-Forest-1.1.9\"><span class=\"toc-item-num\">1.1.9&nbsp;&nbsp;</span>Random Forest</a></span></li><li><span><a href=\"#Neural-Network\" data-toc-modified-id=\"Neural-Network-1.1.10\"><span class=\"toc-item-num\">1.1.10&nbsp;&nbsp;</span>Neural Network</a></span></li><li><span><a href=\"#Boosting-Models\" data-toc-modified-id=\"Boosting-Models-1.1.11\"><span class=\"toc-item-num\">1.1.11&nbsp;&nbsp;</span>Boosting Models</a></span></li></ul></li></ul></li></ul></div>"
   ]
  },
  {
   "cell_type": "markdown",
   "metadata": {},
   "source": [
    "# Predicting Electric Vehicle(EV) chargepoints in England\n",
    "## Modelling"
   ]
  },
  {
   "cell_type": "code",
   "execution_count": 68,
   "metadata": {
    "ExecuteTime": {
     "end_time": "2020-03-02T11:25:30.225068Z",
     "start_time": "2020-03-02T11:25:29.845596Z"
    }
   },
   "outputs": [
    {
     "data": {
      "text/html": [
       "<div>\n",
       "<style scoped>\n",
       "    .dataframe tbody tr th:only-of-type {\n",
       "        vertical-align: middle;\n",
       "    }\n",
       "\n",
       "    .dataframe tbody tr th {\n",
       "        vertical-align: top;\n",
       "    }\n",
       "\n",
       "    .dataframe thead th {\n",
       "        text-align: right;\n",
       "    }\n",
       "</style>\n",
       "<table border=\"1\" class=\"dataframe\">\n",
       "  <thead>\n",
       "    <tr style=\"text-align: right;\">\n",
       "      <th></th>\n",
       "      <th>msoa11cd</th>\n",
       "      <th>msoa11nm</th>\n",
       "      <th>lad13cd</th>\n",
       "      <th>lad13nm</th>\n",
       "      <th>income_score</th>\n",
       "      <th>employment_score</th>\n",
       "      <th>idaci_score</th>\n",
       "      <th>idaopi_score</th>\n",
       "      <th>adultskills_score</th>\n",
       "      <th>health_score</th>\n",
       "      <th>...</th>\n",
       "      <th>elec_d_con_mdn</th>\n",
       "      <th>elec_nd_con</th>\n",
       "      <th>nd_meters</th>\n",
       "      <th>elec_nd_con_mean</th>\n",
       "      <th>elec_nd_con_mdn</th>\n",
       "      <th>residential_ratio</th>\n",
       "      <th>residential_meter_ratio</th>\n",
       "      <th>residential_mdn_ratio</th>\n",
       "      <th>metropolitan</th>\n",
       "      <th>charge_points</th>\n",
       "    </tr>\n",
       "  </thead>\n",
       "  <tbody>\n",
       "    <tr>\n",
       "      <th>0</th>\n",
       "      <td>E02006765</td>\n",
       "      <td>Wychavon 018</td>\n",
       "      <td>E07000238</td>\n",
       "      <td>Wychavon</td>\n",
       "      <td>-0.605381</td>\n",
       "      <td>-0.573660</td>\n",
       "      <td>-0.637344</td>\n",
       "      <td>-0.902425</td>\n",
       "      <td>-0.217255</td>\n",
       "      <td>-0.836885</td>\n",
       "      <td>...</td>\n",
       "      <td>1.017437</td>\n",
       "      <td>0.685358</td>\n",
       "      <td>0.519989</td>\n",
       "      <td>-0.305450</td>\n",
       "      <td>-0.400422</td>\n",
       "      <td>-0.696956</td>\n",
       "      <td>-0.823383</td>\n",
       "      <td>0.896452</td>\n",
       "      <td>0.0</td>\n",
       "      <td>6.0</td>\n",
       "    </tr>\n",
       "    <tr>\n",
       "      <th>1</th>\n",
       "      <td>E02006869</td>\n",
       "      <td>Sheffield 076</td>\n",
       "      <td>E08000019</td>\n",
       "      <td>Sheffield</td>\n",
       "      <td>0.346551</td>\n",
       "      <td>0.581285</td>\n",
       "      <td>0.225006</td>\n",
       "      <td>0.495515</td>\n",
       "      <td>0.865269</td>\n",
       "      <td>0.722658</td>\n",
       "      <td>...</td>\n",
       "      <td>-0.663149</td>\n",
       "      <td>-0.825844</td>\n",
       "      <td>-0.352399</td>\n",
       "      <td>0.852006</td>\n",
       "      <td>1.267850</td>\n",
       "      <td>1.225788</td>\n",
       "      <td>0.884991</td>\n",
       "      <td>-1.552253</td>\n",
       "      <td>1.0</td>\n",
       "      <td>0.0</td>\n",
       "    </tr>\n",
       "    <tr>\n",
       "      <th>2</th>\n",
       "      <td>E02006774</td>\n",
       "      <td>Wyre Forest 008</td>\n",
       "      <td>E07000239</td>\n",
       "      <td>Wyre Forest</td>\n",
       "      <td>0.274137</td>\n",
       "      <td>0.279842</td>\n",
       "      <td>0.104888</td>\n",
       "      <td>0.287807</td>\n",
       "      <td>0.408271</td>\n",
       "      <td>0.034357</td>\n",
       "      <td>...</td>\n",
       "      <td>-0.030677</td>\n",
       "      <td>-0.620824</td>\n",
       "      <td>-1.015851</td>\n",
       "      <td>-1.369678</td>\n",
       "      <td>-1.227389</td>\n",
       "      <td>0.641165</td>\n",
       "      <td>1.133435</td>\n",
       "      <td>1.119902</td>\n",
       "      <td>0.0</td>\n",
       "      <td>0.0</td>\n",
       "    </tr>\n",
       "    <tr>\n",
       "      <th>3</th>\n",
       "      <td>E02000996</td>\n",
       "      <td>Bolton 013</td>\n",
       "      <td>E08000001</td>\n",
       "      <td>Bolton</td>\n",
       "      <td>1.922412</td>\n",
       "      <td>2.012535</td>\n",
       "      <td>1.799706</td>\n",
       "      <td>1.343843</td>\n",
       "      <td>1.607318</td>\n",
       "      <td>1.823455</td>\n",
       "      <td>...</td>\n",
       "      <td>-0.045924</td>\n",
       "      <td>-1.215959</td>\n",
       "      <td>-1.019551</td>\n",
       "      <td>0.271194</td>\n",
       "      <td>0.405159</td>\n",
       "      <td>1.355991</td>\n",
       "      <td>1.184134</td>\n",
       "      <td>-0.464230</td>\n",
       "      <td>1.0</td>\n",
       "      <td>0.0</td>\n",
       "    </tr>\n",
       "    <tr>\n",
       "      <th>4</th>\n",
       "      <td>E02006606</td>\n",
       "      <td>Mid Sussex 003</td>\n",
       "      <td>E07000228</td>\n",
       "      <td>Mid Sussex</td>\n",
       "      <td>-1.616707</td>\n",
       "      <td>-2.045091</td>\n",
       "      <td>-1.505672</td>\n",
       "      <td>-1.429771</td>\n",
       "      <td>-0.683208</td>\n",
       "      <td>-2.137470</td>\n",
       "      <td>...</td>\n",
       "      <td>0.482730</td>\n",
       "      <td>-1.200421</td>\n",
       "      <td>-1.444683</td>\n",
       "      <td>-1.112559</td>\n",
       "      <td>-0.868930</td>\n",
       "      <td>1.468005</td>\n",
       "      <td>1.585986</td>\n",
       "      <td>1.041607</td>\n",
       "      <td>0.0</td>\n",
       "      <td>0.0</td>\n",
       "    </tr>\n",
       "  </tbody>\n",
       "</table>\n",
       "<p>5 rows × 134 columns</p>\n",
       "</div>"
      ],
      "text/plain": [
       "    msoa11cd         msoa11nm    lad13cd      lad13nm  income_score  \\\n",
       "0  E02006765     Wychavon 018  E07000238     Wychavon     -0.605381   \n",
       "1  E02006869    Sheffield 076  E08000019    Sheffield      0.346551   \n",
       "2  E02006774  Wyre Forest 008  E07000239  Wyre Forest      0.274137   \n",
       "3  E02000996       Bolton 013  E08000001       Bolton      1.922412   \n",
       "4  E02006606   Mid Sussex 003  E07000228   Mid Sussex     -1.616707   \n",
       "\n",
       "   employment_score  idaci_score  idaopi_score  adultskills_score  \\\n",
       "0         -0.573660    -0.637344     -0.902425          -0.217255   \n",
       "1          0.581285     0.225006      0.495515           0.865269   \n",
       "2          0.279842     0.104888      0.287807           0.408271   \n",
       "3          2.012535     1.799706      1.343843           1.607318   \n",
       "4         -2.045091    -1.505672     -1.429771          -0.683208   \n",
       "\n",
       "   health_score  ...  elec_d_con_mdn  elec_nd_con  nd_meters  \\\n",
       "0     -0.836885  ...        1.017437     0.685358   0.519989   \n",
       "1      0.722658  ...       -0.663149    -0.825844  -0.352399   \n",
       "2      0.034357  ...       -0.030677    -0.620824  -1.015851   \n",
       "3      1.823455  ...       -0.045924    -1.215959  -1.019551   \n",
       "4     -2.137470  ...        0.482730    -1.200421  -1.444683   \n",
       "\n",
       "   elec_nd_con_mean  elec_nd_con_mdn  residential_ratio  \\\n",
       "0         -0.305450        -0.400422          -0.696956   \n",
       "1          0.852006         1.267850           1.225788   \n",
       "2         -1.369678        -1.227389           0.641165   \n",
       "3          0.271194         0.405159           1.355991   \n",
       "4         -1.112559        -0.868930           1.468005   \n",
       "\n",
       "   residential_meter_ratio  residential_mdn_ratio  metropolitan  charge_points  \n",
       "0                -0.823383               0.896452           0.0            6.0  \n",
       "1                 0.884991              -1.552253           1.0            0.0  \n",
       "2                 1.133435               1.119902           0.0            0.0  \n",
       "3                 1.184134              -0.464230           1.0            0.0  \n",
       "4                 1.585986               1.041607           0.0            0.0  \n",
       "\n",
       "[5 rows x 134 columns]"
      ]
     },
     "execution_count": 68,
     "metadata": {},
     "output_type": "execute_result"
    }
   ],
   "source": [
    "from sklearn.pipeline import Pipeline, FeatureUnion, make_pipeline, make_union\n",
    "import pandas as pd\n",
    "import numpy as np\n",
    "import matplotlib.pyplot as plt\n",
    "\n",
    "import joblib\n",
    "import pickle\n",
    "\n",
    "# Sklearn packages\n",
    "from sklearn.tree import DecisionTreeClassifier\n",
    "from sklearn.preprocessing import StandardScaler, OneHotEncoder, LabelEncoder, MinMaxScaler, PowerTransformer\n",
    "from sklearn.impute import SimpleImputer\n",
    "from sklearn.model_selection import train_test_split, cross_val_score, GridSearchCV\n",
    "from sklearn.linear_model import LinearRegression, LogisticRegression, RidgeCV, LassoCV, ElasticNetCV, LogisticRegressionCV\n",
    "from sklearn.naive_bayes import GaussianNB, MultinomialNB, BernoulliNB\n",
    "from sklearn.svm import SVC\n",
    "from sklearn.neighbors import KNeighborsClassifier\n",
    "from sklearn.ensemble import RandomForestClassifier, RandomForestRegressor, AdaBoostClassifier, BaggingClassifier, GradientBoostingClassifier\n",
    "from sklearn.metrics import confusion_matrix, classification_report\n",
    "import scikitplot as skplt\n",
    "from scikitplot.metrics import plot_confusion_matrix\n",
    "\n",
    "from sklearn.base import BaseEstimator, TransformerMixin\n",
    "\n",
    "import warnings\n",
    "warnings.filterwarnings('ignore')\n",
    "\n",
    "\n",
    "df = pd.read_csv(\"../data/processed/full_processed_data.csv\")\\\n",
    "\n",
    "df.head()"
   ]
  },
  {
   "cell_type": "markdown",
   "metadata": {},
   "source": [
    "### Splitting dataframe into features and target | converting target to binary for classification"
   ]
  },
  {
   "cell_type": "code",
   "execution_count": 7,
   "metadata": {
    "ExecuteTime": {
     "end_time": "2020-03-02T10:54:34.307573Z",
     "start_time": "2020-03-02T10:54:34.284787Z"
    }
   },
   "outputs": [],
   "source": [
    "X = df.drop(['charge_points'], axis=1)\n",
    "X = X.loc[:, 'income_score':]\n",
    "y = df.charge_points.apply(lambda x: 1 if x > 0 else 0).values"
   ]
  },
  {
   "cell_type": "code",
   "execution_count": 8,
   "metadata": {
    "ExecuteTime": {
     "end_time": "2020-03-02T10:54:35.966962Z",
     "start_time": "2020-03-02T10:54:35.944641Z"
    }
   },
   "outputs": [
    {
     "data": {
      "text/plain": [
       "0    0.556766\n",
       "1    0.443234\n",
       "Name: 0, dtype: float64"
      ]
     },
     "execution_count": 8,
     "metadata": {},
     "output_type": "execute_result"
    }
   ],
   "source": [
    "pd.DataFrame(y.reshape(-1,1)).iloc[:,0].value_counts(normalize=True)"
   ]
  },
  {
   "cell_type": "markdown",
   "metadata": {},
   "source": [
    "#### Train-test-split (80% Train, 20% Test)"
   ]
  },
  {
   "cell_type": "code",
   "execution_count": 9,
   "metadata": {
    "ExecuteTime": {
     "end_time": "2020-03-02T10:54:40.058034Z",
     "start_time": "2020-03-02T10:54:40.034227Z"
    }
   },
   "outputs": [],
   "source": [
    "X_train, X_test, y_train, y_test = train_test_split(X, y, test_size=0.2, random_state=0,shuffle=True, stratify=y)"
   ]
  },
  {
   "cell_type": "markdown",
   "metadata": {},
   "source": [
    "### Building classifier pipeline"
   ]
  },
  {
   "cell_type": "code",
   "execution_count": 15,
   "metadata": {
    "ExecuteTime": {
     "end_time": "2020-03-02T10:55:40.706054Z",
     "start_time": "2020-03-02T10:55:40.700600Z"
    }
   },
   "outputs": [],
   "source": [
    "#Function for executing preprocessing steps then running a classifier of choice\n",
    "def model_run(model,X_train,y_train,X_test,y_test):\n",
    "    classifier_pipeline = make_pipeline(\n",
    "    model)\n",
    "    classifier_pipeline.fit(X_train,y_train)\n",
    "    train =classifier_pipeline.score(X_train,y_train)\n",
    "    test =classifier_pipeline.score(X_test,y_test)\n",
    "    cross_val = cross_val_score(classifier_pipeline,X_train,y_train,cv=5).mean()\n",
    "    print(f\"Training score: {train:.3f}\")\n",
    "    print(f\"Testing score: {test:.3f}\")\n",
    "    print(f\"CrossVal score: {cross_val:.3f}\")\n",
    "    return classifier_pipeline\n",
    "    #return classifier_pipeline.fit()"
   ]
  },
  {
   "cell_type": "markdown",
   "metadata": {},
   "source": [
    "### Logistic regression"
   ]
  },
  {
   "cell_type": "code",
   "execution_count": 8,
   "metadata": {
    "ExecuteTime": {
     "end_time": "2020-03-02T01:11:39.496992Z",
     "start_time": "2020-03-02T01:11:36.465968Z"
    },
    "deletable": false,
    "editable": false,
    "run_control": {
     "frozen": true
    },
    "scrolled": true
   },
   "outputs": [
    {
     "name": "stdout",
     "output_type": "stream",
     "text": [
      "Training score: 0.733\n",
      "Testing score: 0.725\n",
      "CrossVal score: 0.714\n"
     ]
    }
   ],
   "source": [
    "#Running model with Logistic Regression\n",
    "log_r = LogisticRegression(random_state=0,solver='liblinear')\n",
    "log_r = model_run(log_r,X_train,y_train,X_test,y_test)"
   ]
  },
  {
   "cell_type": "code",
   "execution_count": 9,
   "metadata": {
    "ExecuteTime": {
     "end_time": "2020-03-02T01:11:41.034385Z",
     "start_time": "2020-03-02T01:11:41.029350Z"
    },
    "deletable": false,
    "editable": false,
    "run_control": {
     "frozen": true
    }
   },
   "outputs": [],
   "source": [
    "#Specifying GridSearch parameters\n",
    "params = {'logisticregression__C': np.logspace(-1,0),\n",
    " 'logisticregression__fit_intercept': [True],\n",
    "'logisticregression__class_weight': [None],\n",
    " 'logisticregression__penalty': ['l2'],\n",
    "    'logisticregression__verbose': [1],\n",
    "        'logisticregression__random_state':[0],\n",
    "          'logisticregression__intercept_scaling': [1]\n",
    "          \n",
    "}"
   ]
  },
  {
   "cell_type": "code",
   "execution_count": 10,
   "metadata": {
    "ExecuteTime": {
     "end_time": "2020-03-02T01:11:45.223098Z",
     "start_time": "2020-03-02T01:11:45.219018Z"
    },
    "deletable": false,
    "editable": false,
    "run_control": {
     "frozen": true
    }
   },
   "outputs": [],
   "source": [
    "grid_log_r = GridSearchCV(log_r,param_grid=params,cv=5,scoring='accuracy',verbose=1,n_jobs=-1)"
   ]
  },
  {
   "cell_type": "code",
   "execution_count": 12,
   "metadata": {
    "ExecuteTime": {
     "end_time": "2020-03-02T01:12:57.667288Z",
     "start_time": "2020-03-02T01:12:23.875823Z"
    },
    "deletable": false,
    "editable": false,
    "run_control": {
     "frozen": true
    },
    "scrolled": true
   },
   "outputs": [
    {
     "name": "stdout",
     "output_type": "stream",
     "text": [
      "Fitting 5 folds for each of 50 candidates, totalling 250 fits\n"
     ]
    },
    {
     "name": "stderr",
     "output_type": "stream",
     "text": [
      "[Parallel(n_jobs=-1)]: Using backend LokyBackend with 4 concurrent workers.\n",
      "[Parallel(n_jobs=-1)]: Done  42 tasks      | elapsed:    4.7s\n",
      "[Parallel(n_jobs=-1)]: Done 192 tasks      | elapsed:   23.1s\n",
      "[Parallel(n_jobs=-1)]: Done 250 out of 250 | elapsed:   33.3s finished\n"
     ]
    },
    {
     "name": "stdout",
     "output_type": "stream",
     "text": [
      "[LibLinear]"
     ]
    },
    {
     "data": {
      "text/plain": [
       "['../models/logistic_regression_model']"
      ]
     },
     "execution_count": 12,
     "metadata": {},
     "output_type": "execute_result"
    }
   ],
   "source": [
    "grid_log_r.fit(X_train,y_train)\n",
    "joblib.dump(grid_log_r, '../models/logistic_regression_model')"
   ]
  },
  {
   "cell_type": "code",
   "execution_count": 16,
   "metadata": {
    "ExecuteTime": {
     "end_time": "2020-03-02T10:56:03.524218Z",
     "start_time": "2020-03-02T10:56:03.506859Z"
    }
   },
   "outputs": [
    {
     "data": {
      "text/plain": [
       "0.7179630015536027"
      ]
     },
     "execution_count": 16,
     "metadata": {},
     "output_type": "execute_result"
    }
   ],
   "source": [
    "model_001 = joblib.load('../models/logistic_regression_model')\n",
    "model_001.best_score_"
   ]
  },
  {
   "cell_type": "code",
   "execution_count": 17,
   "metadata": {
    "ExecuteTime": {
     "end_time": "2020-03-02T10:56:04.791826Z",
     "start_time": "2020-03-02T10:56:04.785877Z"
    }
   },
   "outputs": [
    {
     "data": {
      "text/plain": [
       "{'logisticregression__C': 0.21209508879201905,\n",
       " 'logisticregression__class_weight': None,\n",
       " 'logisticregression__fit_intercept': True,\n",
       " 'logisticregression__intercept_scaling': 1,\n",
       " 'logisticregression__penalty': 'l2',\n",
       " 'logisticregression__random_state': 0,\n",
       " 'logisticregression__verbose': 1}"
      ]
     },
     "execution_count": 17,
     "metadata": {},
     "output_type": "execute_result"
    }
   ],
   "source": [
    "model_001.best_params_"
   ]
  },
  {
   "cell_type": "code",
   "execution_count": 76,
   "metadata": {
    "ExecuteTime": {
     "end_time": "2020-03-02T11:43:38.744398Z",
     "start_time": "2020-03-02T11:43:38.427955Z"
    }
   },
   "outputs": [
    {
     "data": {
      "image/png": "[encoded data removed]",
      "text/plain": [
       "<Figure size 432x288 with 2 Axes>"
      ]
     },
     "metadata": {
      "needs_background": "light"
     },
     "output_type": "display_data"
    }
   ],
   "source": [
    "import matplotlib.pyplot as plt\n",
    "plot_confusion_matrix(y_test,model_001.predict(X_test))\n",
    "plt.ylim(-0.5,1.5);\n",
    "plt.savefig(\"../reports/figures/modelling/logistic_regression_confusion_matrix.jpg\",dpi=144)"
   ]
  },
  {
   "cell_type": "code",
   "execution_count": 19,
   "metadata": {
    "ExecuteTime": {
     "end_time": "2020-03-02T10:56:08.145564Z",
     "start_time": "2020-03-02T10:56:08.128204Z"
    }
   },
   "outputs": [
    {
     "name": "stdout",
     "output_type": "stream",
     "text": [
      "              precision    recall  f1-score   support\n",
      "\n",
      "           0       0.74      0.79      0.76       757\n",
      "           1       0.71      0.65      0.68       602\n",
      "\n",
      "    accuracy                           0.72      1359\n",
      "   macro avg       0.72      0.72      0.72      1359\n",
      "weighted avg       0.72      0.72      0.72      1359\n",
      "\n"
     ]
    }
   ],
   "source": [
    "print(classification_report(y_test,model_001.predict(X_test)))"
   ]
  },
  {
   "cell_type": "code",
   "execution_count": 81,
   "metadata": {
    "ExecuteTime": {
     "end_time": "2020-03-02T11:51:14.226290Z",
     "start_time": "2020-03-02T11:51:13.595869Z"
    }
   },
   "outputs": [
    {
     "data": {
      "image/png": "[encoded data removed]",
      "text/plain": [
       "<Figure size 432x288 with 1 Axes>"
      ]
     },
     "metadata": {
      "needs_background": "light"
     },
     "output_type": "display_data"
    },
    {
     "data": {
      "image/png": "[encoded data removed]",
      "text/plain": [
       "<Figure size 432x288 with 1 Axes>"
      ]
     },
     "metadata": {
      "needs_background": "light"
     },
     "output_type": "display_data"
    }
   ],
   "source": [
    "skplt.metrics.plot_roc_curve(y_test,model_001.predict_proba(X_test))\n",
    "plt.savefig(\"../reports/figures/modelling/logistic_regression_roc_curves.jpg\",dpi=144)\n",
    "skplt.metrics.plot_precision_recall_curve(y_test,model_001.predict_proba(X_test))\n",
    "plt.savefig(\"../reports/figures/modelling/logistic_regression_pr_curves.jpg\",dpi=144);"
   ]
  },
  {
   "cell_type": "markdown",
   "metadata": {
    "deletable": false,
    "editable": false,
    "run_control": {
     "frozen": true
    }
   },
   "source": [
    "### Decision Tree"
   ]
  },
  {
   "cell_type": "code",
   "execution_count": 18,
   "metadata": {
    "ExecuteTime": {
     "end_time": "2020-03-02T09:24:57.159414Z",
     "start_time": "2020-03-02T09:24:56.603070Z"
    },
    "deletable": false,
    "editable": false,
    "run_control": {
     "frozen": true
    }
   },
   "outputs": [
    {
     "name": "stdout",
     "output_type": "stream",
     "text": [
      "Training score: 0.682\n",
      "Testing score: 0.685\n",
      "CrossVal score: 0.675\n"
     ]
    }
   ],
   "source": [
    "#Running model with DecisionTreeClassifier\n",
    "d_tree = DecisionTreeClassifier(max_depth=2,random_state=0)\n",
    "d_tree = model_run(d_tree,X_train,y_train,X_test,y_test)\n",
    "\n",
    "#Specifying GridSearch parameters\n",
    "params = {'decisiontreeclassifier__class_weight': [None,'balanced'],\n",
    " 'decisiontreeclassifier__criterion': ['gini','entropy'],\n",
    " 'decisiontreeclassifier__max_depth': range(2,10),\n",
    " 'decisiontreeclassifier__max_features': [None],\n",
    " 'decisiontreeclassifier__max_leaf_nodes': [None],\n",
    " 'decisiontreeclassifier__min_impurity_decrease': [0.0],\n",
    " 'decisiontreeclassifier__min_impurity_split': [None],\n",
    " 'decisiontreeclassifier__min_samples_leaf': [1],\n",
    " 'decisiontreeclassifier__min_samples_split': [2],\n",
    " 'decisiontreeclassifier__min_weight_fraction_leaf': [0.0],\n",
    " 'decisiontreeclassifier__presort': [False],\n",
    " 'decisiontreeclassifier__random_state': [0],\n",
    " 'decisiontreeclassifier__splitter': ['best']}\n"
   ]
  },
  {
   "cell_type": "code",
   "execution_count": 21,
   "metadata": {
    "ExecuteTime": {
     "end_time": "2020-03-02T09:26:30.095673Z",
     "start_time": "2020-03-02T09:26:30.091706Z"
    },
    "deletable": false,
    "editable": false,
    "run_control": {
     "frozen": true
    }
   },
   "outputs": [],
   "source": [
    "grid_d_tree = GridSearchCV(d_tree,param_grid=params,cv=5,scoring='accuracy',verbose=1,n_jobs=-1)"
   ]
  },
  {
   "cell_type": "code",
   "execution_count": 22,
   "metadata": {
    "ExecuteTime": {
     "end_time": "2020-03-02T09:27:04.478959Z",
     "start_time": "2020-03-02T09:26:38.621505Z"
    },
    "deletable": false,
    "editable": false,
    "run_control": {
     "frozen": true
    }
   },
   "outputs": [
    {
     "name": "stdout",
     "output_type": "stream",
     "text": [
      "Fitting 5 folds for each of 32 candidates, totalling 160 fits\n"
     ]
    },
    {
     "name": "stderr",
     "output_type": "stream",
     "text": [
      "[Parallel(n_jobs=-1)]: Using backend LokyBackend with 4 concurrent workers.\n",
      "[Parallel(n_jobs=-1)]: Done  42 tasks      | elapsed:    5.7s\n",
      "[Parallel(n_jobs=-1)]: Done 160 out of 160 | elapsed:   25.4s finished\n"
     ]
    },
    {
     "data": {
      "text/plain": [
       "['../models/decision_tree_model']"
      ]
     },
     "execution_count": 22,
     "metadata": {},
     "output_type": "execute_result"
    }
   ],
   "source": [
    "grid_d_tree.fit(X_train,y_train)\n",
    "joblib.dump(grid_d_tree, '../models/decision_tree_model')"
   ]
  },
  {
   "cell_type": "code",
   "execution_count": 21,
   "metadata": {
    "ExecuteTime": {
     "end_time": "2020-03-02T10:56:27.379844Z",
     "start_time": "2020-03-02T10:56:27.364967Z"
    }
   },
   "outputs": [
    {
     "data": {
      "text/plain": [
       "0.6868555386697976"
      ]
     },
     "execution_count": 21,
     "metadata": {},
     "output_type": "execute_result"
    }
   ],
   "source": [
    "model_002 = joblib.load('../models/decision_tree_model')\n",
    "model_002.best_score_"
   ]
  },
  {
   "cell_type": "code",
   "execution_count": 22,
   "metadata": {
    "ExecuteTime": {
     "end_time": "2020-03-02T10:56:29.448831Z",
     "start_time": "2020-03-02T10:56:29.275233Z"
    }
   },
   "outputs": [
    {
     "data": {
      "text/plain": [
       "(-0.5, 1.5)"
      ]
     },
     "execution_count": 22,
     "metadata": {},
     "output_type": "execute_result"
    },
    {
     "data": {
      "image/png": "[encoded data removed]",
      "text/plain": [
       "<Figure size 432x288 with 2 Axes>"
      ]
     },
     "metadata": {
      "needs_background": "light"
     },
     "output_type": "display_data"
    }
   ],
   "source": [
    "plot_confusion_matrix(y_test,model_002.predict(X_test))\n",
    "plt.ylim(-0.5,1.5)"
   ]
  },
  {
   "cell_type": "code",
   "execution_count": 23,
   "metadata": {
    "ExecuteTime": {
     "end_time": "2020-03-02T10:56:31.118000Z",
     "start_time": "2020-03-02T10:56:31.103616Z"
    }
   },
   "outputs": [
    {
     "name": "stdout",
     "output_type": "stream",
     "text": [
      "              precision    recall  f1-score   support\n",
      "\n",
      "           0       0.73      0.71      0.72       757\n",
      "           1       0.65      0.67      0.66       602\n",
      "\n",
      "    accuracy                           0.69      1359\n",
      "   macro avg       0.69      0.69      0.69      1359\n",
      "weighted avg       0.69      0.69      0.69      1359\n",
      "\n"
     ]
    }
   ],
   "source": [
    "print(classification_report(y_test,model_002.predict(X_test)))"
   ]
  },
  {
   "cell_type": "code",
   "execution_count": 24,
   "metadata": {
    "ExecuteTime": {
     "end_time": "2020-03-02T10:56:33.293920Z",
     "start_time": "2020-03-02T10:56:32.913489Z"
    },
    "scrolled": false
   },
   "outputs": [
    {
     "data": {
      "image/png": "[encoded data removed]",
      "text/plain": [
       "<Figure size 432x288 with 1 Axes>"
      ]
     },
     "metadata": {
      "needs_background": "light"
     },
     "output_type": "display_data"
    },
    {
     "data": {
      "image/png": "[encoded data removed]",
      "text/plain": [
       "<Figure size 432x288 with 1 Axes>"
      ]
     },
     "metadata": {
      "needs_background": "light"
     },
     "output_type": "display_data"
    }
   ],
   "source": [
    "skplt.metrics.plot_roc_curve(y_test,model_002.predict_proba(X_test))\n",
    "skplt.metrics.plot_precision_recall_curve(y_test,model_002.predict_proba(X_test));"
   ]
  },
  {
   "cell_type": "markdown",
   "metadata": {
    "deletable": false,
    "editable": false,
    "run_control": {
     "frozen": true
    }
   },
   "source": [
    "### Gaussian Naive Bayes"
   ]
  },
  {
   "cell_type": "code",
   "execution_count": 27,
   "metadata": {
    "ExecuteTime": {
     "end_time": "2020-03-02T09:28:19.294228Z",
     "start_time": "2020-03-02T09:28:19.070037Z"
    },
    "deletable": false,
    "editable": false,
    "run_control": {
     "frozen": true
    }
   },
   "outputs": [
    {
     "name": "stdout",
     "output_type": "stream",
     "text": [
      "Training score: 0.686\n",
      "Testing score: 0.692\n",
      "CrossVal score: 0.686\n"
     ]
    }
   ],
   "source": [
    "#Running model with DecisionTreeClassifier\n",
    "gaus_nb =GaussianNB()\n",
    "gaus_nb = model_run(gaus_nb,X_train,y_train,X_test,y_test)"
   ]
  },
  {
   "cell_type": "code",
   "execution_count": 28,
   "metadata": {
    "ExecuteTime": {
     "end_time": "2020-03-02T09:28:26.154974Z",
     "start_time": "2020-03-02T09:28:26.137617Z"
    },
    "deletable": false,
    "editable": false,
    "run_control": {
     "frozen": true
    }
   },
   "outputs": [],
   "source": [
    "joblib.dump(gaus_nb, '../models/gaussian_naivebayes_model')"
   ]
  },
  {
   "cell_type": "code",
   "execution_count": 25,
   "metadata": {
    "ExecuteTime": {
     "end_time": "2020-03-02T10:57:09.174040Z",
     "start_time": "2020-03-02T10:57:09.169081Z"
    }
   },
   "outputs": [],
   "source": [
    "model_003 = joblib.load('../models/gaussian_naivebayes_model')"
   ]
  },
  {
   "cell_type": "code",
   "execution_count": 26,
   "metadata": {
    "ExecuteTime": {
     "end_time": "2020-03-02T10:57:13.739387Z",
     "start_time": "2020-03-02T10:57:13.519165Z"
    }
   },
   "outputs": [
    {
     "data": {
      "text/plain": [
       "(-0.5, 1.5)"
      ]
     },
     "execution_count": 26,
     "metadata": {},
     "output_type": "execute_result"
    },
    {
     "data": {
      "image/png": "[encoded data removed]",
      "text/plain": [
       "<Figure size 432x288 with 2 Axes>"
      ]
     },
     "metadata": {
      "needs_background": "light"
     },
     "output_type": "display_data"
    }
   ],
   "source": [
    "plot_confusion_matrix(y_test,model_003.predict(X_test))\n",
    "plt.ylim(-0.5,1.5)"
   ]
  },
  {
   "cell_type": "code",
   "execution_count": 27,
   "metadata": {
    "ExecuteTime": {
     "end_time": "2020-03-02T10:57:14.418409Z",
     "start_time": "2020-03-02T10:57:14.398569Z"
    }
   },
   "outputs": [
    {
     "name": "stdout",
     "output_type": "stream",
     "text": [
      "              precision    recall  f1-score   support\n",
      "\n",
      "           0       0.72      0.73      0.72       757\n",
      "           1       0.65      0.65      0.65       602\n",
      "\n",
      "    accuracy                           0.69      1359\n",
      "   macro avg       0.69      0.69      0.69      1359\n",
      "weighted avg       0.69      0.69      0.69      1359\n",
      "\n"
     ]
    }
   ],
   "source": [
    "print(classification_report(y_test,model_003.predict(X_test)))"
   ]
  },
  {
   "cell_type": "code",
   "execution_count": 28,
   "metadata": {
    "ExecuteTime": {
     "end_time": "2020-03-02T10:57:15.844130Z",
     "start_time": "2020-03-02T10:57:15.357195Z"
    },
    "scrolled": false
   },
   "outputs": [
    {
     "data": {
      "image/png": "[encoded data removed]",
      "text/plain": [
       "<Figure size 432x288 with 1 Axes>"
      ]
     },
     "metadata": {
      "needs_background": "light"
     },
     "output_type": "display_data"
    },
    {
     "data": {
      "image/png": "[encoded data removed]",
      "text/plain": [
       "<Figure size 432x288 with 1 Axes>"
      ]
     },
     "metadata": {
      "needs_background": "light"
     },
     "output_type": "display_data"
    }
   ],
   "source": [
    "skplt.metrics.plot_roc_curve(y_test,model_003.predict_proba(X_test))\n",
    "skplt.metrics.plot_precision_recall_curve(y_test,model_003.predict_proba(X_test));"
   ]
  },
  {
   "cell_type": "markdown",
   "metadata": {},
   "source": [
    "### Support Vectors (Linear Model)"
   ]
  },
  {
   "cell_type": "code",
   "execution_count": 32,
   "metadata": {
    "ExecuteTime": {
     "end_time": "2020-03-02T09:30:07.621313Z",
     "start_time": "2020-03-02T09:30:07.617348Z"
    },
    "deletable": false,
    "editable": false,
    "run_control": {
     "frozen": true
    }
   },
   "outputs": [],
   "source": [
    "from sklearn.svm import LinearSVC\n",
    "linear_svc = LinearSVC(random_state=0)"
   ]
  },
  {
   "cell_type": "code",
   "execution_count": 34,
   "metadata": {
    "ExecuteTime": {
     "end_time": "2020-03-02T09:30:43.469033Z",
     "start_time": "2020-03-02T09:30:34.300194Z"
    },
    "deletable": false,
    "editable": false,
    "run_control": {
     "frozen": true
    }
   },
   "outputs": [
    {
     "name": "stdout",
     "output_type": "stream",
     "text": [
      "Training score: 0.734\n",
      "Testing score: 0.720\n",
      "CrossVal score: 0.715\n"
     ]
    }
   ],
   "source": [
    "linear_svc = model_run(linear_svc,X_train,y_train,X_test,y_test)"
   ]
  },
  {
   "cell_type": "code",
   "execution_count": 38,
   "metadata": {
    "ExecuteTime": {
     "end_time": "2020-03-02T09:31:36.418257Z",
     "start_time": "2020-03-02T09:31:36.411314Z"
    },
    "deletable": false,
    "editable": false,
    "run_control": {
     "frozen": true
    }
   },
   "outputs": [
    {
     "data": {
      "text/plain": [
       "LinearSVC(C=1.0, class_weight=None, dual=True, fit_intercept=True,\n",
       "          intercept_scaling=1, loss='squared_hinge', max_iter=1000,\n",
       "          multi_class='ovr', penalty='l2', random_state=0, tol=0.0001,\n",
       "          verbose=0)"
      ]
     },
     "execution_count": 38,
     "metadata": {},
     "output_type": "execute_result"
    }
   ],
   "source": [
    "linear_svc.named_steps['linearsvc']"
   ]
  },
  {
   "cell_type": "code",
   "execution_count": 40,
   "metadata": {
    "ExecuteTime": {
     "end_time": "2020-03-02T09:34:29.993907Z",
     "start_time": "2020-03-02T09:34:29.985475Z"
    },
    "deletable": false,
    "editable": false,
    "run_control": {
     "frozen": true
    }
   },
   "outputs": [],
   "source": [
    "params = {'linearsvc__C': np.logspace(-1,1,10),\n",
    " 'linearsvc__class_weight': [None,'balanced'],\n",
    " 'linearsvc__dual': [True],\n",
    " 'linearsvc__fit_intercept': [True],\n",
    " 'linearsvc__intercept_scaling': [1],\n",
    " 'linearsvc__loss': ['squared_hinge'],\n",
    " 'linearsvc__multi_class': ['ovr'],\n",
    " 'linearsvc__penalty': ['l2']}"
   ]
  },
  {
   "cell_type": "code",
   "execution_count": 41,
   "metadata": {
    "ExecuteTime": {
     "end_time": "2020-03-02T09:36:41.152153Z",
     "start_time": "2020-03-02T09:35:18.375764Z"
    },
    "deletable": false,
    "editable": false,
    "run_control": {
     "frozen": true
    }
   },
   "outputs": [
    {
     "name": "stdout",
     "output_type": "stream",
     "text": [
      "Fitting 5 folds for each of 20 candidates, totalling 100 fits\n"
     ]
    },
    {
     "name": "stderr",
     "output_type": "stream",
     "text": [
      "[Parallel(n_jobs=-1)]: Using backend LokyBackend with 4 concurrent workers.\n",
      "[Parallel(n_jobs=-1)]: Done  42 tasks      | elapsed:   33.1s\n",
      "[Parallel(n_jobs=-1)]: Done 100 out of 100 | elapsed:  1.3min finished\n"
     ]
    },
    {
     "data": {
      "text/plain": [
       "GridSearchCV(cv=5, error_score=nan,\n",
       "             estimator=Pipeline(memory=None,\n",
       "                                steps=[('linearsvc',\n",
       "                                        LinearSVC(C=1.0, class_weight=None,\n",
       "                                                  dual=True, fit_intercept=True,\n",
       "                                                  intercept_scaling=1,\n",
       "                                                  loss='squared_hinge',\n",
       "                                                  max_iter=1000,\n",
       "                                                  multi_class='ovr',\n",
       "                                                  penalty='l2', random_state=0,\n",
       "                                                  tol=0.0001, verbose=0))],\n",
       "                                verbose=False),\n",
       "             iid='deprecated', n_jobs=-1,\n",
       "             param_grid={'linearsvc__C': array([ 0...\n",
       "        1.29154967,  2.15443469,  3.59381366,  5.9948425 , 10.        ]),\n",
       "                         'linearsvc__class_weight': [None, 'balanced'],\n",
       "                         'linearsvc__dual': [True],\n",
       "                         'linearsvc__fit_intercept': [True],\n",
       "                         'linearsvc__intercept_scaling': [1],\n",
       "                         'linearsvc__loss': ['squared_hinge'],\n",
       "                         'linearsvc__multi_class': ['ovr'],\n",
       "                         'linearsvc__penalty': ['l2']},\n",
       "             pre_dispatch='2*n_jobs', refit=True, return_train_score=False,\n",
       "             scoring='accuracy', verbose=1)"
      ]
     },
     "execution_count": 41,
     "metadata": {},
     "output_type": "execute_result"
    }
   ],
   "source": [
    "grid_d_linsvc = GridSearchCV(linear_svc,param_grid=params,cv=5,scoring='accuracy',verbose=1,n_jobs=-1)\n",
    "grid_d_linsvc.fit(X_train,y_train)"
   ]
  },
  {
   "cell_type": "code",
   "execution_count": 42,
   "metadata": {
    "ExecuteTime": {
     "end_time": "2020-03-02T09:39:23.349221Z",
     "start_time": "2020-03-02T09:39:23.334838Z"
    },
    "deletable": false,
    "editable": false,
    "run_control": {
     "frozen": true
    }
   },
   "outputs": [
    {
     "data": {
      "text/plain": [
       "['../models/linear_svm_model']"
      ]
     },
     "execution_count": 42,
     "metadata": {},
     "output_type": "execute_result"
    }
   ],
   "source": [
    "joblib.dump(grid_d_linsvc, '../models/linear_svm_model')"
   ]
  },
  {
   "cell_type": "code",
   "execution_count": 29,
   "metadata": {
    "ExecuteTime": {
     "end_time": "2020-03-02T10:57:46.279939Z",
     "start_time": "2020-03-02T10:57:46.268034Z"
    }
   },
   "outputs": [
    {
     "data": {
      "text/plain": [
       "0.7170442243083758"
      ]
     },
     "execution_count": 29,
     "metadata": {},
     "output_type": "execute_result"
    }
   ],
   "source": [
    "model_004 = joblib.load('../models/linear_svm_model')\n",
    "model_004.best_score_"
   ]
  },
  {
   "cell_type": "code",
   "execution_count": 281,
   "metadata": {
    "ExecuteTime": {
     "end_time": "2020-03-02T15:52:39.783232Z",
     "start_time": "2020-03-02T15:52:39.525313Z"
    }
   },
   "outputs": [
    {
     "data": {
      "text/plain": [
       "(-0.5, 1.5)"
      ]
     },
     "execution_count": 281,
     "metadata": {},
     "output_type": "execute_result"
    },
    {
     "data": {
      "image/png": "[encoded data removed]",
      "text/plain": [
       "<Figure size 432x288 with 2 Axes>"
      ]
     },
     "metadata": {
      "needs_background": "light"
     },
     "output_type": "display_data"
    }
   ],
   "source": [
    "plot_confusion_matrix(y_test,model_004.predict(X_test))\n",
    "plt.ylim(-0.5,1.5)"
   ]
  },
  {
   "cell_type": "code",
   "execution_count": 282,
   "metadata": {
    "ExecuteTime": {
     "end_time": "2020-03-02T15:53:03.560226Z",
     "start_time": "2020-03-02T15:53:03.544354Z"
    }
   },
   "outputs": [
    {
     "name": "stdout",
     "output_type": "stream",
     "text": [
      "              precision    recall  f1-score   support\n",
      "\n",
      "           0       0.73      0.80      0.76       757\n",
      "           1       0.71      0.62      0.66       602\n",
      "\n",
      "    accuracy                           0.72      1359\n",
      "   macro avg       0.72      0.71      0.71      1359\n",
      "weighted avg       0.72      0.72      0.72      1359\n",
      "\n"
     ]
    }
   ],
   "source": [
    "print(classification_report(y_test,model_004.predict(X_test)))"
   ]
  },
  {
   "cell_type": "markdown",
   "metadata": {},
   "source": [
    "### Support Vectors (Radial Based)"
   ]
  },
  {
   "cell_type": "code",
   "execution_count": 288,
   "metadata": {
    "ExecuteTime": {
     "end_time": "2020-03-02T16:09:35.463509Z",
     "start_time": "2020-03-02T16:09:10.202741Z"
    },
    "deletable": false,
    "editable": false,
    "run_control": {
     "frozen": true
    }
   },
   "outputs": [
    {
     "name": "stdout",
     "output_type": "stream",
     "text": [
      "Training score: 0.777\n",
      "Testing score: 0.723\n",
      "CrossVal score: 0.712\n"
     ]
    }
   ],
   "source": [
    "#Running model with SVM\n",
    "svc = SVC(random_state=0)\n",
    "svc = model_run(svc,X_train,y_train,X_test,y_test)"
   ]
  },
  {
   "cell_type": "code",
   "execution_count": 289,
   "metadata": {
    "ExecuteTime": {
     "end_time": "2020-03-02T16:09:36.099379Z",
     "start_time": "2020-03-02T16:09:36.084003Z"
    },
    "deletable": false,
    "editable": false,
    "run_control": {
     "frozen": true
    }
   },
   "outputs": [
    {
     "data": {
      "text/plain": [
       "SVC(C=1.0, break_ties=False, cache_size=200, class_weight=None, coef0=0.0,\n",
       "    decision_function_shape='ovr', degree=3, gamma='scale', kernel='rbf',\n",
       "    max_iter=-1, probability=False, random_state=0, shrinking=True, tol=0.001,\n",
       "    verbose=False)"
      ]
     },
     "execution_count": 289,
     "metadata": {},
     "output_type": "execute_result"
    }
   ],
   "source": [
    "svc.named_steps['svc']"
   ]
  },
  {
   "cell_type": "code",
   "execution_count": 291,
   "metadata": {
    "ExecuteTime": {
     "end_time": "2020-03-02T16:10:16.779279Z",
     "start_time": "2020-03-02T16:10:16.763406Z"
    },
    "deletable": false,
    "editable": false,
    "run_control": {
     "frozen": true
    }
   },
   "outputs": [],
   "source": [
    "#Specifying GridSearch parameters\n",
    "params = {'svc__C': np.logspace(-1,1,10),\n",
    " 'svc__class_weight': [None,'balanced'],\n",
    " 'svc__coef0': [0.0],\n",
    " 'svc__decision_function_shape': ['ovr'],\n",
    " 'svc__degree': [3],\n",
    " 'svc__gamma': ['auto'],\n",
    " 'svc__kernel': ['rbf'],\n",
    " 'svc__max_iter': [-1],\n",
    " 'svc__probability': [True],\n",
    " 'svc__random_state': [0],\n",
    " 'svc__shrinking': [True],\n",
    " 'svc__tol': [0.001],\n",
    " 'svc__verbose': [1]}\n"
   ]
  },
  {
   "cell_type": "code",
   "execution_count": 292,
   "metadata": {
    "ExecuteTime": {
     "end_time": "2020-03-02T16:22:17.775622Z",
     "start_time": "2020-03-02T16:10:44.772093Z"
    },
    "deletable": false,
    "editable": false,
    "run_control": {
     "frozen": true
    }
   },
   "outputs": [
    {
     "name": "stdout",
     "output_type": "stream",
     "text": [
      "Fitting 5 folds for each of 20 candidates, totalling 100 fits\n"
     ]
    },
    {
     "name": "stderr",
     "output_type": "stream",
     "text": [
      "[Parallel(n_jobs=-1)]: Using backend LokyBackend with 4 concurrent workers.\n",
      "[Parallel(n_jobs=-1)]: Done  42 tasks      | elapsed:  4.4min\n",
      "[Parallel(n_jobs=-1)]: Done 100 out of 100 | elapsed: 11.2min finished\n"
     ]
    },
    {
     "name": "stdout",
     "output_type": "stream",
     "text": [
      "[LibSVM]"
     ]
    },
    {
     "data": {
      "text/plain": [
       "GridSearchCV(cv=5, error_score=nan,\n",
       "             estimator=Pipeline(memory=None,\n",
       "                                steps=[('svc',\n",
       "                                        SVC(C=1.0, break_ties=False,\n",
       "                                            cache_size=200, class_weight=None,\n",
       "                                            coef0=0.0,\n",
       "                                            decision_function_shape='ovr',\n",
       "                                            degree=3, gamma='scale',\n",
       "                                            kernel='rbf', max_iter=-1,\n",
       "                                            probability=False, random_state=0,\n",
       "                                            shrinking=True, tol=0.001,\n",
       "                                            verbose=False))],\n",
       "                                verbose=False),\n",
       "             iid='deprecated', n_jobs=-1,\n",
       "             param_...\n",
       "                         'svc__class_weight': [None, 'balanced'],\n",
       "                         'svc__coef0': [0.0],\n",
       "                         'svc__decision_function_shape': ['ovr'],\n",
       "                         'svc__degree': [3], 'svc__gamma': ['auto'],\n",
       "                         'svc__kernel': ['rbf'], 'svc__max_iter': [-1],\n",
       "                         'svc__probability': [True], 'svc__random_state': [0],\n",
       "                         'svc__shrinking': [True], 'svc__tol': [0.001],\n",
       "                         'svc__verbose': [1]},\n",
       "             pre_dispatch='2*n_jobs', refit=True, return_train_score=False,\n",
       "             scoring='accuracy', verbose=1)"
      ]
     },
     "execution_count": 292,
     "metadata": {},
     "output_type": "execute_result"
    }
   ],
   "source": [
    "grid_d_svc = GridSearchCV(svc,param_grid=params,cv=5,scoring='accuracy',verbose=1,n_jobs=-1)\n",
    "grid_d_svc.fit(X_train,y_train)"
   ]
  },
  {
   "cell_type": "code",
   "execution_count": 293,
   "metadata": {
    "ExecuteTime": {
     "end_time": "2020-03-02T16:22:18.191765Z",
     "start_time": "2020-03-02T16:22:18.161509Z"
    },
    "deletable": false,
    "editable": false,
    "run_control": {
     "frozen": true
    }
   },
   "outputs": [
    {
     "data": {
      "text/plain": [
       "['../models/rbf_svm_model']"
      ]
     },
     "execution_count": 293,
     "metadata": {},
     "output_type": "execute_result"
    }
   ],
   "source": [
    "joblib.dump(grid_d_svc, '../models/rbf_svm_model')"
   ]
  },
  {
   "cell_type": "code",
   "execution_count": 294,
   "metadata": {
    "ExecuteTime": {
     "end_time": "2020-03-02T16:22:18.554838Z",
     "start_time": "2020-03-02T16:22:18.526565Z"
    }
   },
   "outputs": [
    {
     "data": {
      "text/plain": [
       "0.7150194581535338"
      ]
     },
     "execution_count": 294,
     "metadata": {},
     "output_type": "execute_result"
    }
   ],
   "source": [
    "model_004a = joblib.load('../models/rbf_svm_model')\n",
    "model_004a.best_score_"
   ]
  },
  {
   "cell_type": "code",
   "execution_count": 295,
   "metadata": {
    "ExecuteTime": {
     "end_time": "2020-03-02T16:22:19.007188Z",
     "start_time": "2020-03-02T16:22:18.995780Z"
    }
   },
   "outputs": [
    {
     "data": {
      "text/plain": [
       "{'svc__C': 2.1544346900318834,\n",
       " 'svc__class_weight': None,\n",
       " 'svc__coef0': 0.0,\n",
       " 'svc__decision_function_shape': 'ovr',\n",
       " 'svc__degree': 3,\n",
       " 'svc__gamma': 'auto',\n",
       " 'svc__kernel': 'rbf',\n",
       " 'svc__max_iter': -1,\n",
       " 'svc__probability': True,\n",
       " 'svc__random_state': 0,\n",
       " 'svc__shrinking': True,\n",
       " 'svc__tol': 0.001,\n",
       " 'svc__verbose': 1}"
      ]
     },
     "execution_count": 295,
     "metadata": {},
     "output_type": "execute_result"
    }
   ],
   "source": [
    "model_004a.best_params_"
   ]
  },
  {
   "cell_type": "code",
   "execution_count": 296,
   "metadata": {
    "ExecuteTime": {
     "end_time": "2020-03-02T16:22:19.600900Z",
     "start_time": "2020-03-02T16:22:19.388116Z"
    }
   },
   "outputs": [
    {
     "data": {
      "text/plain": [
       "(-0.5, 1.5)"
      ]
     },
     "execution_count": 296,
     "metadata": {},
     "output_type": "execute_result"
    },
    {
     "data": {
      "image/png": "[encoded data removed]",
      "text/plain": [
       "<Figure size 432x288 with 2 Axes>"
      ]
     },
     "metadata": {
      "needs_background": "light"
     },
     "output_type": "display_data"
    }
   ],
   "source": [
    "plot_confusion_matrix(y_test,model_004.predict(X_test))\n",
    "plt.ylim(-0.5,1.5)"
   ]
  },
  {
   "cell_type": "code",
   "execution_count": 297,
   "metadata": {
    "ExecuteTime": {
     "end_time": "2020-03-02T16:22:19.924328Z",
     "start_time": "2020-03-02T16:22:19.909413Z"
    }
   },
   "outputs": [
    {
     "name": "stdout",
     "output_type": "stream",
     "text": [
      "              precision    recall  f1-score   support\n",
      "\n",
      "           0       0.73      0.80      0.76       757\n",
      "           1       0.71      0.62      0.66       602\n",
      "\n",
      "    accuracy                           0.72      1359\n",
      "   macro avg       0.72      0.71      0.71      1359\n",
      "weighted avg       0.72      0.72      0.72      1359\n",
      "\n"
     ]
    }
   ],
   "source": [
    "print(classification_report(y_test,model_004.predict(X_test)))"
   ]
  },
  {
   "cell_type": "markdown",
   "metadata": {
    "deletable": false,
    "editable": false,
    "run_control": {
     "frozen": true
    }
   },
   "source": [
    "### K Nearest Neighbours"
   ]
  },
  {
   "cell_type": "code",
   "execution_count": 44,
   "metadata": {
    "ExecuteTime": {
     "end_time": "2020-03-02T09:41:44.432850Z",
     "start_time": "2020-03-02T09:41:27.246962Z"
    },
    "deletable": false,
    "editable": false,
    "run_control": {
     "frozen": true
    }
   },
   "outputs": [
    {
     "name": "stdout",
     "output_type": "stream",
     "text": [
      "Training score: 0.781\n",
      "Testing score: 0.684\n",
      "CrossVal score: 0.670\n"
     ]
    }
   ],
   "source": [
    "knn = KNeighborsClassifier()\n",
    "knn = model_run(knn,X_train,y_train,X_test,y_test)"
   ]
  },
  {
   "cell_type": "code",
   "execution_count": 45,
   "metadata": {
    "ExecuteTime": {
     "end_time": "2020-03-02T10:24:30.408920Z",
     "start_time": "2020-03-02T10:24:30.396959Z"
    },
    "deletable": false,
    "editable": false,
    "run_control": {
     "frozen": true
    }
   },
   "outputs": [],
   "source": [
    "#Specifying GridSearch parameters\n",
    "params = {'kneighborsclassifier__algorithm': ['auto'],\n",
    " 'kneighborsclassifier__leaf_size': [30],\n",
    " 'kneighborsclassifier__metric': ['minkowski'],\n",
    " 'kneighborsclassifier__metric_params': [None],\n",
    " 'kneighborsclassifier__n_jobs': [-1],\n",
    " 'kneighborsclassifier__n_neighbors': range(2,10),\n",
    " 'kneighborsclassifier__p': [2],\n",
    " 'kneighborsclassifier__weights': ['uniform']}"
   ]
  },
  {
   "cell_type": "code",
   "execution_count": 46,
   "metadata": {
    "ExecuteTime": {
     "end_time": "2020-03-02T10:24:59.461250Z",
     "start_time": "2020-03-02T10:24:35.293639Z"
    },
    "deletable": false,
    "editable": false,
    "run_control": {
     "frozen": true
    }
   },
   "outputs": [
    {
     "name": "stdout",
     "output_type": "stream",
     "text": [
      "Fitting 5 folds for each of 8 candidates, totalling 40 fits\n"
     ]
    },
    {
     "name": "stderr",
     "output_type": "stream",
     "text": [
      "[Parallel(n_jobs=1)]: Using backend SequentialBackend with 1 concurrent workers.\n",
      "[Parallel(n_jobs=1)]: Done  40 out of  40 | elapsed:   23.9s finished\n"
     ]
    },
    {
     "data": {
      "text/plain": [
       "GridSearchCV(cv=5, error_score=nan,\n",
       "             estimator=Pipeline(memory=None,\n",
       "                                steps=[('kneighborsclassifier',\n",
       "                                        KNeighborsClassifier(algorithm='auto',\n",
       "                                                             leaf_size=30,\n",
       "                                                             metric='minkowski',\n",
       "                                                             metric_params=None,\n",
       "                                                             n_jobs=None,\n",
       "                                                             n_neighbors=5, p=2,\n",
       "                                                             weights='uniform'))],\n",
       "                                verbose=False),\n",
       "             iid='deprecated', n_jobs=None,\n",
       "             param_grid={'kneighborsclassifier__algorithm': ['auto'],\n",
       "                         'kneighborsclas..._size': [30],\n",
       "                         'kneighborsclassifier__metric': ['minkowski'],\n",
       "                         'kneighborsclassifier__metric_params': [None],\n",
       "                         'kneighborsclassifier__n_jobs': [-1],\n",
       "                         'kneighborsclassifier__n_neighbors': range(2, 10),\n",
       "                         'kneighborsclassifier__p': [2],\n",
       "                         'kneighborsclassifier__weights': ['uniform']},\n",
       "             pre_dispatch='2*n_jobs', refit=True, return_train_score=False,\n",
       "             scoring='accuracy', verbose=1)"
      ]
     },
     "execution_count": 46,
     "metadata": {},
     "output_type": "execute_result"
    }
   ],
   "source": [
    "grid_knn = GridSearchCV(knn,param_grid=params,cv=5,scoring='accuracy',verbose=1)\n",
    "grid_knn.fit(X_train,y_train)"
   ]
  },
  {
   "cell_type": "code",
   "execution_count": 47,
   "metadata": {
    "ExecuteTime": {
     "end_time": "2020-03-02T10:35:34.463521Z",
     "start_time": "2020-03-02T10:35:34.389122Z"
    },
    "deletable": false,
    "editable": false,
    "run_control": {
     "frozen": true
    }
   },
   "outputs": [
    {
     "data": {
      "text/plain": [
       "['../models/knn_model']"
      ]
     },
     "execution_count": 47,
     "metadata": {},
     "output_type": "execute_result"
    }
   ],
   "source": [
    "joblib.dump(grid_knn, '../models/knn_model')"
   ]
  },
  {
   "cell_type": "code",
   "execution_count": 30,
   "metadata": {
    "ExecuteTime": {
     "end_time": "2020-03-02T10:59:46.308289Z",
     "start_time": "2020-03-02T10:59:46.276049Z"
    }
   },
   "outputs": [
    {
     "data": {
      "text/plain": [
       "0.6824325995652623"
      ]
     },
     "execution_count": 30,
     "metadata": {},
     "output_type": "execute_result"
    }
   ],
   "source": [
    "model_005 = joblib.load('../models/knn_model')\n",
    "model_005.best_score_"
   ]
  },
  {
   "cell_type": "code",
   "execution_count": 31,
   "metadata": {
    "ExecuteTime": {
     "end_time": "2020-03-02T10:59:58.107137Z",
     "start_time": "2020-03-02T10:59:58.102180Z"
    },
    "scrolled": false
   },
   "outputs": [
    {
     "data": {
      "text/plain": [
       "{'kneighborsclassifier__algorithm': 'auto',\n",
       " 'kneighborsclassifier__leaf_size': 30,\n",
       " 'kneighborsclassifier__metric': 'minkowski',\n",
       " 'kneighborsclassifier__metric_params': None,\n",
       " 'kneighborsclassifier__n_jobs': -1,\n",
       " 'kneighborsclassifier__n_neighbors': 9,\n",
       " 'kneighborsclassifier__p': 2,\n",
       " 'kneighborsclassifier__weights': 'uniform'}"
      ]
     },
     "execution_count": 31,
     "metadata": {},
     "output_type": "execute_result"
    }
   ],
   "source": [
    "model_005.best_params_"
   ]
  },
  {
   "cell_type": "code",
   "execution_count": 32,
   "metadata": {
    "ExecuteTime": {
     "end_time": "2020-03-02T10:59:59.997083Z",
     "start_time": "2020-03-02T10:59:58.991655Z"
    }
   },
   "outputs": [
    {
     "data": {
      "text/plain": [
       "(-0.5, 1.5)"
      ]
     },
     "execution_count": 32,
     "metadata": {},
     "output_type": "execute_result"
    },
    {
     "data": {
      "image/png": "[encoded data removed]",
      "text/plain": [
       "<Figure size 432x288 with 2 Axes>"
      ]
     },
     "metadata": {
      "needs_background": "light"
     },
     "output_type": "display_data"
    }
   ],
   "source": [
    "plot_confusion_matrix(y_test,model_005.predict(X_test))\n",
    "plt.ylim(-0.5,1.5)"
   ]
  },
  {
   "cell_type": "code",
   "execution_count": 33,
   "metadata": {
    "ExecuteTime": {
     "end_time": "2020-03-02T11:00:01.138201Z",
     "start_time": "2020-03-02T11:00:00.258437Z"
    },
    "scrolled": true
   },
   "outputs": [
    {
     "name": "stdout",
     "output_type": "stream",
     "text": [
      "              precision    recall  f1-score   support\n",
      "\n",
      "           0       0.70      0.80      0.74       757\n",
      "           1       0.69      0.56      0.62       602\n",
      "\n",
      "    accuracy                           0.69      1359\n",
      "   macro avg       0.69      0.68      0.68      1359\n",
      "weighted avg       0.69      0.69      0.69      1359\n",
      "\n"
     ]
    }
   ],
   "source": [
    "print(classification_report(y_test,model_005.predict(X_test)))"
   ]
  },
  {
   "cell_type": "code",
   "execution_count": 34,
   "metadata": {
    "ExecuteTime": {
     "end_time": "2020-03-02T11:00:06.063911Z",
     "start_time": "2020-03-02T11:00:04.253008Z"
    },
    "scrolled": false
   },
   "outputs": [
    {
     "data": {
      "image/png": "[encoded data removed]",
      "text/plain": [
       "<Figure size 432x288 with 1 Axes>"
      ]
     },
     "metadata": {
      "needs_background": "light"
     },
     "output_type": "display_data"
    },
    {
     "data": {
      "image/png": "[encoded data removed]",
      "text/plain": [
       "<Figure size 432x288 with 1 Axes>"
      ]
     },
     "metadata": {
      "needs_background": "light"
     },
     "output_type": "display_data"
    }
   ],
   "source": [
    "skplt.metrics.plot_roc_curve(y_test,model_005.predict_proba(X_test))\n",
    "skplt.metrics.plot_precision_recall_curve(y_test,model_005.predict_proba(X_test));"
   ]
  },
  {
   "cell_type": "markdown",
   "metadata": {},
   "source": [
    "### Random Forest"
   ]
  },
  {
   "cell_type": "code",
   "execution_count": 35,
   "metadata": {
    "ExecuteTime": {
     "end_time": "2020-03-02T11:00:19.333474Z",
     "start_time": "2020-03-02T11:00:19.330498Z"
    },
    "deletable": false,
    "editable": false,
    "run_control": {
     "frozen": true
    }
   },
   "outputs": [],
   "source": [
    "from sklearn.ensemble import RandomForestClassifier, RandomForestRegressor"
   ]
  },
  {
   "cell_type": "code",
   "execution_count": 42,
   "metadata": {
    "ExecuteTime": {
     "end_time": "2020-03-02T11:06:22.260945Z",
     "start_time": "2020-03-02T11:05:21.514968Z"
    },
    "deletable": false,
    "editable": false,
    "run_control": {
     "frozen": true
    }
   },
   "outputs": [
    {
     "name": "stdout",
     "output_type": "stream",
     "text": [
      "Training score: 0.929\n",
      "Testing score: 0.709\n",
      "CrossVal score: 0.713\n"
     ]
    }
   ],
   "source": [
    "rforest = RandomForestClassifier(max_depth=10,n_estimators=1000,n_jobs=-1)\n",
    "rforest = model_run(rforest,X_train,y_train,X_test,y_test)"
   ]
  },
  {
   "cell_type": "code",
   "execution_count": 43,
   "metadata": {
    "ExecuteTime": {
     "end_time": "2020-03-02T11:06:57.012462Z",
     "start_time": "2020-03-02T11:06:57.006017Z"
    },
    "deletable": false,
    "editable": false,
    "run_control": {
     "frozen": true
    }
   },
   "outputs": [
    {
     "data": {
      "text/plain": [
       "RandomForestClassifier(bootstrap=True, ccp_alpha=0.0, class_weight=None,\n",
       "                       criterion='gini', max_depth=10, max_features='auto',\n",
       "                       max_leaf_nodes=None, max_samples=None,\n",
       "                       min_impurity_decrease=0.0, min_impurity_split=None,\n",
       "                       min_samples_leaf=1, min_samples_split=2,\n",
       "                       min_weight_fraction_leaf=0.0, n_estimators=1000,\n",
       "                       n_jobs=-1, oob_score=False, random_state=None, verbose=0,\n",
       "                       warm_start=False)"
      ]
     },
     "execution_count": 43,
     "metadata": {},
     "output_type": "execute_result"
    }
   ],
   "source": [
    "rforest.named_steps.randomforestclassifier"
   ]
  },
  {
   "cell_type": "code",
   "execution_count": 45,
   "metadata": {
    "ExecuteTime": {
     "end_time": "2020-03-02T11:09:13.303752Z",
     "start_time": "2020-03-02T11:09:13.298795Z"
    },
    "deletable": false,
    "editable": false,
    "run_control": {
     "frozen": true
    }
   },
   "outputs": [],
   "source": [
    "#Specifying GridSearch parameters\n",
    "params = {'randomforestclassifier__criterion': ['gini','entropy'],\n",
    " 'randomforestclassifier__max_depth': [10],\n",
    " 'randomforestclassifier__max_features': ['auto'],\n",
    " 'randomforestclassifier__max_leaf_nodes': [None],\n",
    " 'randomforestclassifier__min_impurity_decrease': [0.0],\n",
    " 'randomforestclassifier__min_impurity_split': [None],\n",
    " 'randomforestclassifier__min_samples_leaf': [1],\n",
    " 'randomforestclassifier__min_samples_split': [2],\n",
    " 'randomforestclassifier__min_weight_fraction_leaf': [0.0],\n",
    " 'randomforestclassifier__random_state': [0],\n",
    " 'randomforestclassifier__verbose': [2]}"
   ]
  },
  {
   "cell_type": "code",
   "execution_count": 46,
   "metadata": {
    "ExecuteTime": {
     "end_time": "2020-03-02T11:12:07.982059Z",
     "start_time": "2020-03-02T11:09:30.332537Z"
    },
    "deletable": false,
    "editable": false,
    "run_control": {
     "frozen": true
    },
    "scrolled": false
   },
   "outputs": [
    {
     "name": "stdout",
     "output_type": "stream",
     "text": [
      "Fitting 5 folds for each of 2 candidates, totalling 10 fits\n"
     ]
    },
    {
     "name": "stderr",
     "output_type": "stream",
     "text": [
      "[Parallel(n_jobs=-1)]: Using backend LokyBackend with 4 concurrent workers.\n",
      "[Parallel(n_jobs=-1)]: Done  10 out of  10 | elapsed:  2.1min finished\n",
      "[Parallel(n_jobs=-1)]: Using backend ThreadingBackend with 4 concurrent workers.\n"
     ]
    },
    {
     "name": "stdout",
     "output_type": "stream",
     "text": [
      "building tree 1 of 1000building tree 2 of 1000\n",
      "\n",
      "building tree 3 of 1000building tree 4 of 1000\n",
      "\n",
      "building tree 5 of 1000\n",
      "building tree 6 of 1000\n",
      "building tree 7 of 1000\n",
      "building tree 8 of 1000\n",
      "building tree 9 of 1000\n",
      "building tree 10 of 1000\n",
      "building tree 11 of 1000\n",
      "building tree 12 of 1000\n",
      "building tree 13 of 1000\n",
      "building tree 14 of 1000\n",
      "building tree 15 of 1000building tree 16 of 1000\n",
      "\n",
      "building tree 17 of 1000\n",
      "building tree 18 of 1000\n",
      "building tree 19 of 1000\n",
      "building tree 20 of 1000\n",
      "building tree 21 of 1000\n",
      "building tree 22 of 1000\n",
      "building tree 23 of 1000\n",
      "building tree 24 of 1000\n",
      "building tree 25 of 1000building tree 26 of 1000\n",
      "\n",
      "building tree 27 of 1000\n",
      "building tree 28 of 1000\n",
      "building tree 29 of 1000\n",
      "building tree 30 of 1000\n",
      "building tree 31 of 1000\n",
      "building tree 32 of 1000\n",
      "building tree 33 of 1000\n",
      "building tree 34 of 1000\n",
      "building tree 35 of 1000\n",
      "building tree 36 of 1000\n",
      "building tree 37 of 1000"
     ]
    },
    {
     "name": "stderr",
     "output_type": "stream",
     "text": [
      "[Parallel(n_jobs=-1)]: Done  33 tasks      | elapsed:    1.1s\n"
     ]
    },
    {
     "name": "stdout",
     "output_type": "stream",
     "text": [
      "\n",
      "building tree 38 of 1000\n",
      "building tree 39 of 1000\n",
      "building tree 40 of 1000\n",
      "building tree 41 of 1000\n",
      "building tree 42 of 1000\n",
      "building tree 43 of 1000\n",
      "building tree 44 of 1000\n",
      "building tree 45 of 1000\n",
      "building tree 46 of 1000\n",
      "building tree 47 of 1000\n",
      "building tree 48 of 1000\n",
      "building tree 49 of 1000\n",
      "building tree 50 of 1000\n",
      "building tree 51 of 1000\n",
      "building tree 52 of 1000\n",
      "building tree 53 of 1000\n",
      "building tree 54 of 1000\n",
      "building tree 55 of 1000\n",
      "building tree 56 of 1000\n",
      "building tree 57 of 1000\n",
      "building tree 58 of 1000\n",
      "building tree 59 of 1000\n",
      "building tree 60 of 1000\n",
      "building tree 61 of 1000\n",
      "building tree 62 of 1000\n",
      "building tree 63 of 1000\n",
      "building tree 64 of 1000\n",
      "building tree 65 of 1000\n",
      "building tree 66 of 1000\n",
      "building tree 67 of 1000\n",
      "building tree 68 of 1000\n",
      "building tree 69 of 1000building tree 70 of 1000\n",
      "\n",
      "building tree 71 of 1000\n",
      "building tree 72 of 1000\n",
      "building tree 73 of 1000\n",
      "building tree 74 of 1000\n",
      "building tree 75 of 1000\n",
      "building tree 76 of 1000\n",
      "building tree 77 of 1000\n",
      "building tree 78 of 1000\n",
      "building tree 79 of 1000\n",
      "building tree 80 of 1000\n",
      "building tree 81 of 1000\n",
      "building tree 82 of 1000\n",
      "building tree 83 of 1000\n",
      "building tree 84 of 1000\n",
      "building tree 85 of 1000\n",
      "building tree 86 of 1000\n",
      "building tree 87 of 1000\n",
      "building tree 88 of 1000\n",
      "building tree 89 of 1000\n",
      "building tree 90 of 1000\n",
      "building tree 91 of 1000\n",
      "building tree 92 of 1000\n",
      "building tree 93 of 1000\n",
      "building tree 94 of 1000\n",
      "building tree 95 of 1000\n",
      "building tree 96 of 1000\n",
      "building tree 97 of 1000\n",
      "building tree 98 of 1000\n",
      "building tree 99 of 1000\n",
      "building tree 100 of 1000\n",
      "building tree 101 of 1000\n",
      "building tree 102 of 1000\n",
      "building tree 103 of 1000\n",
      "building tree 104 of 1000\n",
      "building tree 105 of 1000\n",
      "building tree 106 of 1000\n",
      "building tree 107 of 1000\n",
      "building tree 108 of 1000\n",
      "building tree 109 of 1000\n",
      "building tree 110 of 1000\n",
      "building tree 111 of 1000\n",
      "building tree 112 of 1000\n",
      "building tree 113 of 1000\n",
      "building tree 114 of 1000\n",
      "building tree 115 of 1000\n",
      "building tree 116 of 1000\n",
      "building tree 117 of 1000\n",
      "building tree 118 of 1000\n",
      "building tree 119 of 1000\n",
      "building tree 120 of 1000\n",
      "building tree 121 of 1000\n",
      "building tree 122 of 1000\n",
      "building tree 123 of 1000\n",
      "building tree 124 of 1000\n",
      "building tree 125 of 1000\n",
      "building tree 126 of 1000\n",
      "building tree 127 of 1000\n",
      "building tree 128 of 1000\n",
      "building tree 129 of 1000\n",
      "building tree 130 of 1000\n",
      "building tree 131 of 1000\n",
      "building tree 132 of 1000\n",
      "building tree 133 of 1000\n",
      "building tree 134 of 1000\n",
      "building tree 135 of 1000\n",
      "building tree 136 of 1000\n",
      "building tree 137 of 1000\n",
      "building tree 138 of 1000\n",
      "building tree 139 of 1000\n",
      "building tree 140 of 1000\n",
      "building tree 141 of 1000\n",
      "building tree 142 of 1000\n",
      "building tree 143 of 1000\n",
      "building tree 144 of 1000building tree 145 of 1000\n",
      "\n",
      "building tree 146 of 1000\n",
      "building tree 147 of 1000\n",
      "building tree 148 of 1000\n",
      "building tree 149 of 1000\n",
      "building tree 150 of 1000\n",
      "building tree 151 of 1000\n",
      "building tree 152 of 1000\n",
      "building tree 153 of 1000\n",
      "building tree 154 of 1000\n",
      "building tree 155 of 1000\n",
      "building tree 156 of 1000\n",
      "building tree 157 of 1000\n",
      "building tree 158 of 1000\n"
     ]
    },
    {
     "name": "stderr",
     "output_type": "stream",
     "text": [
      "[Parallel(n_jobs=-1)]: Done 154 tasks      | elapsed:    5.7s\n"
     ]
    },
    {
     "name": "stdout",
     "output_type": "stream",
     "text": [
      "building tree 159 of 1000\n",
      "building tree 160 of 1000\n",
      "building tree 161 of 1000\n",
      "building tree 162 of 1000\n",
      "building tree 163 of 1000\n",
      "building tree 164 of 1000\n",
      "building tree 165 of 1000\n",
      "building tree 166 of 1000\n",
      "building tree 167 of 1000\n",
      "building tree 168 of 1000\n",
      "building tree 169 of 1000\n",
      "building tree 170 of 1000\n",
      "building tree 171 of 1000\n",
      "building tree 172 of 1000\n",
      "building tree 173 of 1000\n",
      "building tree 174 of 1000\n",
      "building tree 175 of 1000\n",
      "building tree 176 of 1000\n",
      "building tree 177 of 1000\n",
      "building tree 178 of 1000\n",
      "building tree 179 of 1000\n",
      "building tree 180 of 1000\n",
      "building tree 181 of 1000\n",
      "building tree 182 of 1000\n",
      "building tree 183 of 1000\n",
      "building tree 184 of 1000\n",
      "building tree 185 of 1000\n",
      "building tree 186 of 1000\n",
      "building tree 187 of 1000\n",
      "building tree 188 of 1000\n",
      "building tree 189 of 1000\n",
      "building tree 190 of 1000building tree 191 of 1000\n",
      "\n",
      "building tree 192 of 1000\n",
      "building tree 193 of 1000\n",
      "building tree 194 of 1000\n",
      "building tree 195 of 1000\n",
      "building tree 196 of 1000\n",
      "building tree 197 of 1000\n",
      "building tree 198 of 1000\n",
      "building tree 199 of 1000\n",
      "building tree 200 of 1000\n",
      "building tree 201 of 1000\n",
      "building tree 202 of 1000\n",
      "building tree 203 of 1000\n",
      "building tree 204 of 1000\n",
      "building tree 205 of 1000\n",
      "building tree 206 of 1000\n",
      "building tree 207 of 1000\n",
      "building tree 208 of 1000\n",
      "building tree 209 of 1000\n",
      "building tree 210 of 1000\n",
      "building tree 211 of 1000\n",
      "building tree 212 of 1000\n",
      "building tree 213 of 1000\n",
      "building tree 214 of 1000\n",
      "building tree 215 of 1000\n",
      "building tree 216 of 1000\n",
      "building tree 217 of 1000\n",
      "building tree 218 of 1000\n",
      "building tree 219 of 1000\n",
      "building tree 220 of 1000\n",
      "building tree 221 of 1000\n",
      "building tree 222 of 1000\n",
      "building tree 223 of 1000\n",
      "building tree 224 of 1000\n",
      "building tree 225 of 1000\n",
      "building tree 226 of 1000\n",
      "building tree 227 of 1000\n",
      "building tree 228 of 1000\n",
      "building tree 229 of 1000\n",
      "building tree 230 of 1000\n",
      "building tree 231 of 1000\n",
      "building tree 232 of 1000\n",
      "building tree 233 of 1000\n",
      "building tree 234 of 1000\n",
      "building tree 235 of 1000\n",
      "building tree 236 of 1000\n",
      "building tree 237 of 1000\n",
      "building tree 238 of 1000\n",
      "building tree 239 of 1000\n",
      "building tree 240 of 1000\n",
      "building tree 241 of 1000\n",
      "building tree 242 of 1000\n",
      "building tree 243 of 1000\n",
      "building tree 244 of 1000\n",
      "building tree 245 of 1000\n",
      "building tree 246 of 1000\n",
      "building tree 247 of 1000\n",
      "building tree 248 of 1000\n",
      "building tree 249 of 1000\n",
      "building tree 250 of 1000\n",
      "building tree 251 of 1000\n",
      "building tree 252 of 1000\n",
      "building tree 253 of 1000\n",
      "building tree 254 of 1000\n",
      "building tree 255 of 1000\n",
      "building tree 256 of 1000\n",
      "building tree 257 of 1000\n",
      "building tree 258 of 1000\n",
      "building tree 259 of 1000\n",
      "building tree 260 of 1000\n",
      "building tree 261 of 1000\n",
      "building tree 262 of 1000\n",
      "building tree 263 of 1000\n",
      "building tree 264 of 1000\n",
      "building tree 265 of 1000\n",
      "building tree 266 of 1000\n",
      "building tree 267 of 1000\n",
      "building tree 268 of 1000\n",
      "building tree 269 of 1000\n",
      "building tree 270 of 1000\n",
      "building tree 271 of 1000\n",
      "building tree 272 of 1000\n",
      "building tree 273 of 1000\n",
      "building tree 274 of 1000\n",
      "building tree 275 of 1000\n",
      "building tree 276 of 1000\n",
      "building tree 277 of 1000\n",
      "building tree 278 of 1000\n",
      "building tree 279 of 1000\n",
      "building tree 280 of 1000\n",
      "building tree 281 of 1000\n",
      "building tree 282 of 1000\n",
      "building tree 283 of 1000\n",
      "building tree 284 of 1000\n",
      "building tree 285 of 1000\n",
      "building tree 286 of 1000\n",
      "building tree 287 of 1000\n",
      "building tree 288 of 1000\n",
      "building tree 289 of 1000\n",
      "building tree 290 of 1000\n",
      "building tree 291 of 1000\n",
      "building tree 292 of 1000\n",
      "building tree 293 of 1000\n",
      "building tree 294 of 1000\n",
      "building tree 295 of 1000\n",
      "building tree 296 of 1000\n",
      "building tree 297 of 1000\n",
      "building tree 298 of 1000\n",
      "building tree 299 of 1000\n",
      "building tree 300 of 1000\n",
      "building tree 301 of 1000\n",
      "building tree 302 of 1000\n",
      "building tree 303 of 1000\n",
      "building tree 304 of 1000\n",
      "building tree 305 of 1000\n",
      "building tree 306 of 1000\n",
      "building tree 307 of 1000\n",
      "building tree 308 of 1000\n",
      "building tree 309 of 1000\n",
      "building tree 310 of 1000\n",
      "building tree 311 of 1000\n",
      "building tree 312 of 1000\n",
      "building tree 313 of 1000\n",
      "building tree 314 of 1000\n",
      "building tree 315 of 1000\n",
      "building tree 316 of 1000\n",
      "building tree 317 of 1000\n",
      "building tree 318 of 1000\n",
      "building tree 319 of 1000\n",
      "building tree 320 of 1000\n",
      "building tree 321 of 1000\n",
      "building tree 322 of 1000\n",
      "building tree 323 of 1000\n",
      "building tree 324 of 1000\n",
      "building tree 325 of 1000\n",
      "building tree 326 of 1000\n",
      "building tree 327 of 1000\n",
      "building tree 328 of 1000\n",
      "building tree 329 of 1000\n",
      "building tree 330 of 1000\n",
      "building tree 331 of 1000building tree 332 of 1000\n",
      "\n",
      "building tree 333 of 1000\n",
      "building tree 334 of 1000\n",
      "building tree 335 of 1000\n",
      "building tree 336 of 1000\n",
      "building tree 337 of 1000\n",
      "building tree 338 of 1000\n",
      "building tree 339 of 1000\n",
      "building tree 340 of 1000\n",
      "building tree 341 of 1000\n",
      "building tree 342 of 1000\n",
      "building tree 343 of 1000\n",
      "building tree 344 of 1000\n",
      "building tree 345 of 1000\n",
      "building tree 346 of 1000\n",
      "building tree 347 of 1000\n",
      "building tree 348 of 1000\n",
      "building tree 349 of 1000\n",
      "building tree 350 of 1000\n",
      "building tree 351 of 1000\n",
      "building tree 352 of 1000\n",
      "building tree 353 of 1000\n",
      "building tree 354 of 1000\n",
      "building tree 355 of 1000\n",
      "building tree 356 of 1000\n",
      "building tree 357 of 1000\n",
      "building tree 358 of 1000\n",
      "building tree 359 of 1000\n",
      "building tree 360 of 1000\n",
      "building tree 361 of 1000\n",
      "building tree 362 of 1000\n",
      "building tree 363 of 1000\n",
      "building tree 364 of 1000\n",
      "building tree 365 of 1000\n",
      "building tree 366 of 1000\n",
      "building tree 367 of 1000"
     ]
    },
    {
     "name": "stderr",
     "output_type": "stream",
     "text": [
      "[Parallel(n_jobs=-1)]: Done 357 tasks      | elapsed:   12.2s\n"
     ]
    },
    {
     "name": "stdout",
     "output_type": "stream",
     "text": [
      "\n",
      "building tree 368 of 1000\n",
      "building tree 369 of 1000\n",
      "building tree 370 of 1000\n",
      "building tree 371 of 1000\n",
      "building tree 372 of 1000\n",
      "building tree 373 of 1000\n",
      "building tree 374 of 1000\n",
      "building tree 375 of 1000\n",
      "building tree 376 of 1000\n",
      "building tree 377 of 1000\n",
      "building tree 378 of 1000\n",
      "building tree 379 of 1000\n",
      "building tree 380 of 1000\n",
      "building tree 381 of 1000\n",
      "building tree 382 of 1000\n",
      "building tree 383 of 1000\n",
      "building tree 384 of 1000\n",
      "building tree 385 of 1000\n",
      "building tree 386 of 1000\n",
      "building tree 387 of 1000\n",
      "building tree 388 of 1000\n",
      "building tree 389 of 1000\n",
      "building tree 390 of 1000\n",
      "building tree 391 of 1000\n",
      "building tree 392 of 1000\n",
      "building tree 393 of 1000\n",
      "building tree 394 of 1000\n",
      "building tree 395 of 1000\n",
      "building tree 396 of 1000\n",
      "building tree 397 of 1000\n",
      "building tree 398 of 1000\n",
      "building tree 399 of 1000\n",
      "building tree 400 of 1000\n",
      "building tree 401 of 1000\n",
      "building tree 402 of 1000\n",
      "building tree 403 of 1000\n",
      "building tree 404 of 1000\n",
      "building tree 405 of 1000\n",
      "building tree 406 of 1000\n",
      "building tree 407 of 1000\n",
      "building tree 408 of 1000\n",
      "building tree 409 of 1000\n",
      "building tree 410 of 1000\n",
      "building tree 411 of 1000\n",
      "building tree 412 of 1000building tree 413 of 1000\n",
      "\n",
      "building tree 414 of 1000\n",
      "building tree 415 of 1000\n",
      "building tree 416 of 1000\n",
      "building tree 417 of 1000\n",
      "building tree 418 of 1000\n",
      "building tree 419 of 1000\n",
      "building tree 420 of 1000\n",
      "building tree 421 of 1000\n",
      "building tree 422 of 1000\n",
      "building tree 423 of 1000\n",
      "building tree 424 of 1000\n",
      "building tree 425 of 1000\n",
      "building tree 426 of 1000\n",
      "building tree 427 of 1000\n",
      "building tree 428 of 1000\n",
      "building tree 429 of 1000\n",
      "building tree 430 of 1000\n",
      "building tree 431 of 1000\n",
      "building tree 432 of 1000\n",
      "building tree 433 of 1000\n",
      "building tree 434 of 1000\n",
      "building tree 435 of 1000\n",
      "building tree 436 of 1000\n",
      "building tree 437 of 1000\n",
      "building tree 438 of 1000\n",
      "building tree 439 of 1000\n",
      "building tree 440 of 1000\n",
      "building tree 441 of 1000\n",
      "building tree 442 of 1000\n",
      "building tree 443 of 1000\n",
      "building tree 444 of 1000\n",
      "building tree 445 of 1000\n",
      "building tree 446 of 1000\n",
      "building tree 447 of 1000\n",
      "building tree 448 of 1000\n",
      "building tree 449 of 1000\n",
      "building tree 450 of 1000\n",
      "building tree 451 of 1000\n",
      "building tree 452 of 1000\n",
      "building tree 453 of 1000\n",
      "building tree 454 of 1000\n",
      "building tree 455 of 1000\n",
      "building tree 456 of 1000\n",
      "building tree 457 of 1000\n",
      "building tree 458 of 1000\n",
      "building tree 459 of 1000\n",
      "building tree 460 of 1000\n",
      "building tree 461 of 1000\n",
      "building tree 462 of 1000\n",
      "building tree 463 of 1000\n",
      "building tree 464 of 1000\n",
      "building tree 465 of 1000\n",
      "building tree 466 of 1000\n",
      "building tree 467 of 1000\n",
      "building tree 468 of 1000\n",
      "building tree 469 of 1000\n",
      "building tree 470 of 1000\n",
      "building tree 471 of 1000\n",
      "building tree 472 of 1000\n",
      "building tree 473 of 1000\n",
      "building tree 474 of 1000\n",
      "building tree 475 of 1000\n",
      "building tree 476 of 1000\n",
      "building tree 477 of 1000\n",
      "building tree 478 of 1000\n",
      "building tree 479 of 1000\n",
      "building tree 480 of 1000\n",
      "building tree 481 of 1000\n",
      "building tree 482 of 1000\n",
      "building tree 483 of 1000\n",
      "building tree 484 of 1000\n",
      "building tree 485 of 1000\n",
      "building tree 486 of 1000\n",
      "building tree 487 of 1000\n",
      "building tree 488 of 1000\n",
      "building tree 489 of 1000\n",
      "building tree 490 of 1000\n",
      "building tree 491 of 1000\n",
      "building tree 492 of 1000\n",
      "building tree 493 of 1000\n",
      "building tree 494 of 1000\n",
      "building tree 495 of 1000\n",
      "building tree 496 of 1000\n",
      "building tree 497 of 1000\n",
      "building tree 498 of 1000\n",
      "building tree 499 of 1000\n",
      "building tree 500 of 1000\n",
      "building tree 501 of 1000\n",
      "building tree 502 of 1000\n",
      "building tree 503 of 1000\n",
      "building tree 504 of 1000\n",
      "building tree 505 of 1000\n",
      "building tree 506 of 1000\n",
      "building tree 507 of 1000\n",
      "building tree 508 of 1000\n",
      "building tree 509 of 1000\n",
      "building tree 510 of 1000\n",
      "building tree 511 of 1000\n",
      "building tree 512 of 1000\n",
      "building tree 513 of 1000\n",
      "building tree 514 of 1000\n",
      "building tree 515 of 1000\n",
      "building tree 516 of 1000\n",
      "building tree 517 of 1000\n",
      "building tree 518 of 1000\n",
      "building tree 519 of 1000\n",
      "building tree 520 of 1000\n",
      "building tree 521 of 1000\n",
      "building tree 522 of 1000\n",
      "building tree 523 of 1000\n",
      "building tree 524 of 1000\n",
      "building tree 525 of 1000\n",
      "building tree 526 of 1000\n",
      "building tree 527 of 1000\n",
      "building tree 528 of 1000\n",
      "building tree 529 of 1000\n",
      "building tree 530 of 1000\n",
      "building tree 531 of 1000\n",
      "building tree 532 of 1000\n",
      "building tree 533 of 1000\n",
      "building tree 534 of 1000\n",
      "building tree 535 of 1000\n",
      "building tree 536 of 1000\n",
      "building tree 537 of 1000\n",
      "building tree 538 of 1000\n",
      "building tree 539 of 1000\n",
      "building tree 540 of 1000\n",
      "building tree 541 of 1000\n",
      "building tree 542 of 1000\n",
      "building tree 543 of 1000\n",
      "building tree 544 of 1000\n",
      "building tree 545 of 1000\n",
      "building tree 546 of 1000\n",
      "building tree 547 of 1000\n",
      "building tree 548 of 1000\n",
      "building tree 549 of 1000\n",
      "building tree 550 of 1000\n",
      "building tree 551 of 1000\n",
      "building tree 552 of 1000\n",
      "building tree 553 of 1000\n",
      "building tree 554 of 1000\n",
      "building tree 555 of 1000\n",
      "building tree 556 of 1000\n",
      "building tree 557 of 1000\n",
      "building tree 558 of 1000\n",
      "building tree 559 of 1000\n",
      "building tree 560 of 1000\n",
      "building tree 561 of 1000\n",
      "building tree 562 of 1000\n",
      "building tree 563 of 1000\n",
      "building tree 564 of 1000\n",
      "building tree 565 of 1000\n",
      "building tree 566 of 1000\n",
      "building tree 567 of 1000\n",
      "building tree 568 of 1000\n",
      "building tree 569 of 1000\n",
      "building tree 570 of 1000\n",
      "building tree 571 of 1000\n",
      "building tree 572 of 1000\n",
      "building tree 573 of 1000\n",
      "building tree 574 of 1000\n",
      "building tree 575 of 1000\n",
      "building tree 576 of 1000\n",
      "building tree 577 of 1000\n",
      "building tree 578 of 1000\n",
      "building tree 579 of 1000\n",
      "building tree 580 of 1000\n",
      "building tree 581 of 1000\n",
      "building tree 582 of 1000\n",
      "building tree 583 of 1000\n",
      "building tree 584 of 1000\n",
      "building tree 585 of 1000\n",
      "building tree 586 of 1000\n",
      "building tree 587 of 1000\n",
      "building tree 588 of 1000\n",
      "building tree 589 of 1000\n",
      "building tree 590 of 1000\n",
      "building tree 591 of 1000\n",
      "building tree 592 of 1000\n",
      "building tree 593 of 1000\n",
      "building tree 594 of 1000\n",
      "building tree 595 of 1000\n",
      "building tree 596 of 1000\n",
      "building tree 597 of 1000\n",
      "building tree 598 of 1000\n",
      "building tree 599 of 1000\n",
      "building tree 600 of 1000\n",
      "building tree 601 of 1000\n",
      "building tree 602 of 1000\n",
      "building tree 603 of 1000\n",
      "building tree 604 of 1000\n",
      "building tree 605 of 1000\n",
      "building tree 606 of 1000\n",
      "building tree 607 of 1000\n",
      "building tree 608 of 1000\n",
      "building tree 609 of 1000\n",
      "building tree 610 of 1000\n",
      "building tree 611 of 1000\n",
      "building tree 612 of 1000\n",
      "building tree 613 of 1000\n",
      "building tree 614 of 1000\n",
      "building tree 615 of 1000\n",
      "building tree 616 of 1000\n",
      "building tree 617 of 1000\n",
      "building tree 618 of 1000\n",
      "building tree 619 of 1000\n",
      "building tree 620 of 1000\n",
      "building tree 621 of 1000\n",
      "building tree 622 of 1000\n",
      "building tree 623 of 1000\n",
      "building tree 624 of 1000\n",
      "building tree 625 of 1000\n",
      "building tree 626 of 1000\n",
      "building tree 627 of 1000\n",
      "building tree 628 of 1000\n",
      "building tree 629 of 1000\n",
      "building tree 630 of 1000\n",
      "building tree 631 of 1000\n",
      "building tree 632 of 1000\n",
      "building tree 633 of 1000\n",
      "building tree 634 of 1000\n",
      "building tree 635 of 1000\n",
      "building tree 636 of 1000\n",
      "building tree 637 of 1000\n",
      "building tree 638 of 1000\n",
      "building tree 639 of 1000\n",
      "building tree 640 of 1000\n",
      "building tree 641 of 1000\n",
      "building tree 642 of 1000\n",
      "building tree 643 of 1000\n",
      "building tree 644 of 1000\n",
      "building tree 645 of 1000\n",
      "building tree 646 of 1000\n",
      "building tree 647 of 1000\n",
      "building tree 648 of 1000\n",
      "building tree 649 of 1000\n"
     ]
    },
    {
     "name": "stderr",
     "output_type": "stream",
     "text": [
      "[Parallel(n_jobs=-1)]: Done 640 tasks      | elapsed:   21.0s\n"
     ]
    },
    {
     "name": "stdout",
     "output_type": "stream",
     "text": [
      "building tree 650 of 1000\n",
      "building tree 651 of 1000\n",
      "building tree 652 of 1000\n",
      "building tree 653 of 1000\n",
      "building tree 654 of 1000\n",
      "building tree 655 of 1000\n",
      "building tree 656 of 1000\n",
      "building tree 657 of 1000\n",
      "building tree 658 of 1000\n",
      "building tree 659 of 1000\n",
      "building tree 660 of 1000\n",
      "building tree 661 of 1000\n",
      "building tree 662 of 1000\n",
      "building tree 663 of 1000\n",
      "building tree 664 of 1000\n",
      "building tree 665 of 1000\n",
      "building tree 666 of 1000\n",
      "building tree 667 of 1000\n",
      "building tree 668 of 1000\n",
      "building tree 669 of 1000\n",
      "building tree 670 of 1000\n",
      "building tree 671 of 1000\n",
      "building tree 672 of 1000\n",
      "building tree 673 of 1000\n",
      "building tree 674 of 1000\n",
      "building tree 675 of 1000\n",
      "building tree 676 of 1000\n",
      "building tree 677 of 1000\n",
      "building tree 678 of 1000\n",
      "building tree 679 of 1000\n",
      "building tree 680 of 1000\n",
      "building tree 681 of 1000\n",
      "building tree 682 of 1000\n",
      "building tree 683 of 1000\n",
      "building tree 684 of 1000\n",
      "building tree 685 of 1000\n",
      "building tree 686 of 1000\n",
      "building tree 687 of 1000\n",
      "building tree 688 of 1000\n",
      "building tree 689 of 1000\n",
      "building tree 690 of 1000\n",
      "building tree 691 of 1000\n",
      "building tree 692 of 1000\n",
      "building tree 693 of 1000\n",
      "building tree 694 of 1000\n",
      "building tree 695 of 1000\n",
      "building tree 696 of 1000\n",
      "building tree 697 of 1000\n",
      "building tree 698 of 1000\n",
      "building tree 699 of 1000\n",
      "building tree 700 of 1000\n",
      "building tree 701 of 1000\n",
      "building tree 702 of 1000\n",
      "building tree 703 of 1000\n",
      "building tree 704 of 1000\n",
      "building tree 705 of 1000\n",
      "building tree 706 of 1000\n",
      "building tree 707 of 1000\n",
      "building tree 708 of 1000building tree 709 of 1000\n",
      "\n",
      "building tree 710 of 1000\n",
      "building tree 711 of 1000\n",
      "building tree 712 of 1000\n",
      "building tree 713 of 1000\n",
      "building tree 714 of 1000\n",
      "building tree 715 of 1000\n",
      "building tree 716 of 1000\n",
      "building tree 717 of 1000\n",
      "building tree 718 of 1000\n",
      "building tree 719 of 1000\n",
      "building tree 720 of 1000\n",
      "building tree 721 of 1000\n",
      "building tree 722 of 1000\n",
      "building tree 723 of 1000\n",
      "building tree 724 of 1000\n",
      "building tree 725 of 1000\n",
      "building tree 726 of 1000\n",
      "building tree 727 of 1000\n",
      "building tree 728 of 1000\n",
      "building tree 729 of 1000\n",
      "building tree 730 of 1000\n",
      "building tree 731 of 1000\n",
      "building tree 732 of 1000\n",
      "building tree 733 of 1000\n",
      "building tree 734 of 1000\n",
      "building tree 735 of 1000\n",
      "building tree 736 of 1000\n",
      "building tree 737 of 1000\n",
      "building tree 738 of 1000\n",
      "building tree 739 of 1000\n",
      "building tree 740 of 1000\n",
      "building tree 741 of 1000\n",
      "building tree 742 of 1000\n",
      "building tree 743 of 1000\n",
      "building tree 744 of 1000\n",
      "building tree 745 of 1000\n",
      "building tree 746 of 1000\n",
      "building tree 747 of 1000\n",
      "building tree 748 of 1000\n",
      "building tree 749 of 1000\n",
      "building tree 750 of 1000\n",
      "building tree 751 of 1000\n",
      "building tree 752 of 1000\n",
      "building tree 753 of 1000\n",
      "building tree 754 of 1000\n",
      "building tree 755 of 1000\n",
      "building tree 756 of 1000\n",
      "building tree 757 of 1000\n",
      "building tree 758 of 1000\n",
      "building tree 759 of 1000\n",
      "building tree 760 of 1000\n",
      "building tree 761 of 1000\n",
      "building tree 762 of 1000\n",
      "building tree 763 of 1000\n",
      "building tree 764 of 1000\n",
      "building tree 765 of 1000\n",
      "building tree 766 of 1000\n",
      "building tree 767 of 1000\n",
      "building tree 768 of 1000\n",
      "building tree 769 of 1000\n",
      "building tree 770 of 1000\n",
      "building tree 771 of 1000\n",
      "building tree 772 of 1000\n",
      "building tree 773 of 1000\n",
      "building tree 774 of 1000\n",
      "building tree 775 of 1000\n",
      "building tree 776 of 1000\n",
      "building tree 777 of 1000\n",
      "building tree 778 of 1000\n",
      "building tree 779 of 1000\n",
      "building tree 780 of 1000\n",
      "building tree 781 of 1000\n",
      "building tree 782 of 1000\n",
      "building tree 783 of 1000\n",
      "building tree 784 of 1000\n",
      "building tree 785 of 1000\n",
      "building tree 786 of 1000\n",
      "building tree 787 of 1000\n",
      "building tree 788 of 1000\n",
      "building tree 789 of 1000\n",
      "building tree 790 of 1000\n",
      "building tree 791 of 1000\n",
      "building tree 792 of 1000\n",
      "building tree 793 of 1000\n",
      "building tree 794 of 1000\n",
      "building tree 795 of 1000\n",
      "building tree 796 of 1000\n",
      "building tree 797 of 1000\n",
      "building tree 798 of 1000\n",
      "building tree 799 of 1000\n",
      "building tree 800 of 1000\n",
      "building tree 801 of 1000\n",
      "building tree 802 of 1000\n",
      "building tree 803 of 1000\n",
      "building tree 804 of 1000\n",
      "building tree 805 of 1000\n",
      "building tree 806 of 1000\n",
      "building tree 807 of 1000\n",
      "building tree 808 of 1000\n",
      "building tree 809 of 1000\n",
      "building tree 810 of 1000\n",
      "building tree 811 of 1000\n",
      "building tree 812 of 1000\n",
      "building tree 813 of 1000\n",
      "building tree 814 of 1000\n",
      "building tree 815 of 1000\n",
      "building tree 816 of 1000\n",
      "building tree 817 of 1000\n",
      "building tree 818 of 1000\n",
      "building tree 819 of 1000\n",
      "building tree 820 of 1000\n",
      "building tree 821 of 1000\n",
      "building tree 822 of 1000\n",
      "building tree 823 of 1000\n",
      "building tree 824 of 1000\n",
      "building tree 825 of 1000\n",
      "building tree 826 of 1000\n",
      "building tree 827 of 1000\n",
      "building tree 828 of 1000\n",
      "building tree 829 of 1000\n",
      "building tree 830 of 1000\n",
      "building tree 831 of 1000\n",
      "building tree 832 of 1000\n",
      "building tree 833 of 1000\n",
      "building tree 834 of 1000\n",
      "building tree 835 of 1000\n",
      "building tree 836 of 1000\n",
      "building tree 837 of 1000\n",
      "building tree 838 of 1000\n",
      "building tree 839 of 1000\n",
      "building tree 840 of 1000\n",
      "building tree 841 of 1000\n",
      "building tree 842 of 1000\n",
      "building tree 843 of 1000building tree 844 of 1000\n",
      "\n",
      "building tree 845 of 1000\n",
      "building tree 846 of 1000\n",
      "building tree 847 of 1000\n",
      "building tree 848 of 1000\n",
      "building tree 849 of 1000\n",
      "building tree 850 of 1000\n",
      "building tree 851 of 1000\n",
      "building tree 852 of 1000\n",
      "building tree 853 of 1000\n",
      "building tree 854 of 1000\n",
      "building tree 855 of 1000\n",
      "building tree 856 of 1000\n",
      "building tree 857 of 1000\n",
      "building tree 858 of 1000\n",
      "building tree 859 of 1000\n",
      "building tree 860 of 1000\n",
      "building tree 861 of 1000\n",
      "building tree 862 of 1000\n",
      "building tree 863 of 1000\n",
      "building tree 864 of 1000\n",
      "building tree 865 of 1000\n",
      "building tree 866 of 1000\n",
      "building tree 867 of 1000\n",
      "building tree 868 of 1000\n",
      "building tree 869 of 1000\n",
      "building tree 870 of 1000\n",
      "building tree 871 of 1000\n",
      "building tree 872 of 1000\n",
      "building tree 873 of 1000\n",
      "building tree 874 of 1000\n",
      "building tree 875 of 1000\n",
      "building tree 876 of 1000\n",
      "building tree 877 of 1000\n",
      "building tree 878 of 1000\n",
      "building tree 879 of 1000\n",
      "building tree 880 of 1000\n",
      "building tree 881 of 1000\n",
      "building tree 882 of 1000\n",
      "building tree 883 of 1000building tree 884 of 1000\n",
      "\n",
      "building tree 885 of 1000\n",
      "building tree 886 of 1000\n",
      "building tree 887 of 1000\n",
      "building tree 888 of 1000\n",
      "building tree 889 of 1000\n",
      "building tree 890 of 1000\n",
      "building tree 891 of 1000\n",
      "building tree 892 of 1000\n",
      "building tree 893 of 1000\n",
      "building tree 894 of 1000\n",
      "building tree 895 of 1000\n",
      "building tree 896 of 1000\n",
      "building tree 897 of 1000\n",
      "building tree 898 of 1000\n",
      "building tree 899 of 1000\n",
      "building tree 900 of 1000\n",
      "building tree 901 of 1000\n",
      "building tree 902 of 1000\n",
      "building tree 903 of 1000\n",
      "building tree 904 of 1000\n",
      "building tree 905 of 1000\n",
      "building tree 906 of 1000\n",
      "building tree 907 of 1000\n",
      "building tree 908 of 1000\n",
      "building tree 909 of 1000\n",
      "building tree 910 of 1000\n",
      "building tree 911 of 1000\n",
      "building tree 912 of 1000\n",
      "building tree 913 of 1000\n",
      "building tree 914 of 1000\n",
      "building tree 915 of 1000\n",
      "building tree 916 of 1000\n",
      "building tree 917 of 1000\n",
      "building tree 918 of 1000\n",
      "building tree 919 of 1000\n",
      "building tree 920 of 1000\n",
      "building tree 921 of 1000\n",
      "building tree 922 of 1000\n",
      "building tree 923 of 1000\n",
      "building tree 924 of 1000\n",
      "building tree 925 of 1000\n",
      "building tree 926 of 1000\n",
      "building tree 927 of 1000\n",
      "building tree 928 of 1000\n",
      "building tree 929 of 1000\n",
      "building tree 930 of 1000\n",
      "building tree 931 of 1000\n",
      "building tree 932 of 1000\n",
      "building tree 933 of 1000\n",
      "building tree 934 of 1000\n",
      "building tree 935 of 1000\n",
      "building tree 936 of 1000\n",
      "building tree 937 of 1000\n",
      "building tree 938 of 1000\n",
      "building tree 939 of 1000\n",
      "building tree 940 of 1000\n",
      "building tree 941 of 1000\n",
      "building tree 942 of 1000\n",
      "building tree 943 of 1000\n",
      "building tree 944 of 1000\n",
      "building tree 945 of 1000\n",
      "building tree 946 of 1000\n",
      "building tree 947 of 1000\n",
      "building tree 948 of 1000\n",
      "building tree 949 of 1000\n",
      "building tree 950 of 1000\n",
      "building tree 951 of 1000\n",
      "building tree 952 of 1000\n",
      "building tree 953 of 1000\n",
      "building tree 954 of 1000\n",
      "building tree 955 of 1000\n",
      "building tree 956 of 1000\n",
      "building tree 957 of 1000\n",
      "building tree 958 of 1000\n",
      "building tree 959 of 1000\n",
      "building tree 960 of 1000\n",
      "building tree 961 of 1000\n",
      "building tree 962 of 1000\n",
      "building tree 963 of 1000building tree 964 of 1000\n",
      "\n",
      "building tree 965 of 1000\n",
      "building tree 966 of 1000\n",
      "building tree 967 of 1000\n",
      "building tree 968 of 1000\n",
      "building tree 969 of 1000\n",
      "building tree 970 of 1000\n"
     ]
    },
    {
     "name": "stdout",
     "output_type": "stream",
     "text": [
      "building tree 971 of 1000\n",
      "building tree 972 of 1000\n",
      "building tree 973 of 1000\n",
      "building tree 974 of 1000\n",
      "building tree 975 of 1000\n",
      "building tree 976 of 1000\n",
      "building tree 977 of 1000\n",
      "building tree 978 of 1000\n",
      "building tree 979 of 1000\n",
      "building tree 980 of 1000\n",
      "building tree 981 of 1000\n",
      "building tree 982 of 1000\n",
      "building tree 983 of 1000building tree 984 of 1000\n",
      "building tree 985 of 1000\n",
      "\n",
      "building tree 986 of 1000\n",
      "building tree 987 of 1000\n",
      "building tree 988 of 1000\n",
      "building tree 989 of 1000\n",
      "building tree 990 of 1000\n",
      "building tree 991 of 1000\n",
      "building tree 992 of 1000\n",
      "building tree 993 of 1000\n",
      "building tree 994 of 1000\n",
      "building tree 995 of 1000\n",
      "building tree 996 of 1000\n",
      "building tree 997 of 1000\n",
      "building tree 998 of 1000\n",
      "building tree 999 of 1000\n",
      "building tree 1000 of 1000\n"
     ]
    },
    {
     "name": "stderr",
     "output_type": "stream",
     "text": [
      "[Parallel(n_jobs=-1)]: Done 1000 out of 1000 | elapsed:   32.6s finished\n"
     ]
    },
    {
     "data": {
      "text/plain": [
       "GridSearchCV(cv=5, error_score=nan,\n",
       "             estimator=Pipeline(memory=None,\n",
       "                                steps=[('randomforestclassifier',\n",
       "                                        RandomForestClassifier(bootstrap=True,\n",
       "                                                               ccp_alpha=0.0,\n",
       "                                                               class_weight=None,\n",
       "                                                               criterion='gini',\n",
       "                                                               max_depth=10,\n",
       "                                                               max_features='auto',\n",
       "                                                               max_leaf_nodes=None,\n",
       "                                                               max_samples=None,\n",
       "                                                               min_impurity_decrease=0.0,\n",
       "                                                               min_impurity_split=None,\n",
       "                                                               min_samples_leaf=1,\n",
       "                                                               min_samples_split=2,\n",
       "                                                               min_we...\n",
       "                         'randomforestclassifier__min_impurity_split': [None],\n",
       "                         'randomforestclassifier__min_samples_leaf': [1],\n",
       "                         'randomforestclassifier__min_samples_split': [2],\n",
       "                         'randomforestclassifier__min_weight_fraction_leaf': [0.0],\n",
       "                         'randomforestclassifier__random_state': [0],\n",
       "                         'randomforestclassifier__verbose': [2]},\n",
       "             pre_dispatch='2*n_jobs', refit=True, return_train_score=False,\n",
       "             scoring='accuracy', verbose=1)"
      ]
     },
     "execution_count": 46,
     "metadata": {},
     "output_type": "execute_result"
    }
   ],
   "source": [
    "grid_rforest = GridSearchCV(rforest,param_grid=params,cv=5,scoring='accuracy',verbose=1,n_jobs=-1)\n",
    "grid_rforest.fit(X_train,y_train)"
   ]
  },
  {
   "cell_type": "code",
   "execution_count": 47,
   "metadata": {
    "ExecuteTime": {
     "end_time": "2020-03-02T11:15:06.549678Z",
     "start_time": "2020-03-02T11:15:04.275520Z"
    },
    "deletable": false,
    "editable": false,
    "run_control": {
     "frozen": true
    }
   },
   "outputs": [
    {
     "data": {
      "text/plain": [
       "['../models/random_forest_model']"
      ]
     },
     "execution_count": 47,
     "metadata": {},
     "output_type": "execute_result"
    }
   ],
   "source": [
    "joblib.dump(grid_rforest, '../models/random_forest_model')"
   ]
  },
  {
   "cell_type": "code",
   "execution_count": 105,
   "metadata": {
    "ExecuteTime": {
     "end_time": "2020-03-02T13:48:25.443533Z",
     "start_time": "2020-03-02T13:48:24.654366Z"
    }
   },
   "outputs": [
    {
     "data": {
      "text/plain": [
       "0.715019966420496"
      ]
     },
     "execution_count": 105,
     "metadata": {},
     "output_type": "execute_result"
    }
   ],
   "source": [
    "model_006 = joblib.load('../models/random_forest_model')\n",
    "model_006.best_score_"
   ]
  },
  {
   "cell_type": "code",
   "execution_count": 287,
   "metadata": {
    "ExecuteTime": {
     "end_time": "2020-03-02T16:01:12.621399Z",
     "start_time": "2020-03-02T16:01:11.056024Z"
    }
   },
   "outputs": [
    {
     "name": "stderr",
     "output_type": "stream",
     "text": [
      "[Parallel(n_jobs=4)]: Using backend ThreadingBackend with 4 concurrent workers.\n",
      "[Parallel(n_jobs=4)]: Done  33 tasks      | elapsed:    0.0s\n",
      "[Parallel(n_jobs=4)]: Done 154 tasks      | elapsed:    0.0s\n",
      "[Parallel(n_jobs=4)]: Done 357 tasks      | elapsed:    0.0s\n",
      "[Parallel(n_jobs=4)]: Done 640 tasks      | elapsed:    0.1s\n",
      "[Parallel(n_jobs=4)]: Done 1000 out of 1000 | elapsed:    0.2s finished\n"
     ]
    },
    {
     "data": {
      "image/png": "[encoded data removed]",
      "text/plain": [
       "<Figure size 432x288 with 2 Axes>"
      ]
     },
     "metadata": {
      "needs_background": "light"
     },
     "output_type": "display_data"
    }
   ],
   "source": [
    "plot_confusion_matrix(y_test,model_006.predict(X_test))\n",
    "plt.ylim(-0.5,1.5)\n",
    "plt.savefig(\"confusion_rforest.jpg\",dpi=800)"
   ]
  },
  {
   "cell_type": "code",
   "execution_count": 51,
   "metadata": {
    "ExecuteTime": {
     "end_time": "2020-03-02T11:17:58.233791Z",
     "start_time": "2020-03-02T11:17:57.910895Z"
    }
   },
   "outputs": [
    {
     "name": "stderr",
     "output_type": "stream",
     "text": [
      "[Parallel(n_jobs=4)]: Using backend ThreadingBackend with 4 concurrent workers.\n",
      "[Parallel(n_jobs=4)]: Done  33 tasks      | elapsed:    0.0s\n",
      "[Parallel(n_jobs=4)]: Done 154 tasks      | elapsed:    0.0s\n",
      "[Parallel(n_jobs=4)]: Done 357 tasks      | elapsed:    0.0s\n",
      "[Parallel(n_jobs=4)]: Done 640 tasks      | elapsed:    0.1s\n"
     ]
    },
    {
     "name": "stdout",
     "output_type": "stream",
     "text": [
      "              precision    recall  f1-score   support\n",
      "\n",
      "           0       0.72      0.79      0.75       757\n",
      "           1       0.70      0.61      0.65       602\n",
      "\n",
      "    accuracy                           0.71      1359\n",
      "   macro avg       0.71      0.70      0.70      1359\n",
      "weighted avg       0.71      0.71      0.71      1359\n",
      "\n"
     ]
    },
    {
     "name": "stderr",
     "output_type": "stream",
     "text": [
      "[Parallel(n_jobs=4)]: Done 1000 out of 1000 | elapsed:    0.2s finished\n"
     ]
    }
   ],
   "source": [
    "print(classification_report(y_test,model_006.predict(X_test)))"
   ]
  },
  {
   "cell_type": "code",
   "execution_count": 52,
   "metadata": {
    "ExecuteTime": {
     "end_time": "2020-03-02T11:18:12.243820Z",
     "start_time": "2020-03-02T11:18:11.099604Z"
    },
    "scrolled": false
   },
   "outputs": [
    {
     "name": "stderr",
     "output_type": "stream",
     "text": [
      "[Parallel(n_jobs=4)]: Using backend ThreadingBackend with 4 concurrent workers.\n",
      "[Parallel(n_jobs=4)]: Done  33 tasks      | elapsed:    0.0s\n",
      "[Parallel(n_jobs=4)]: Done 154 tasks      | elapsed:    0.0s\n",
      "[Parallel(n_jobs=4)]: Done 357 tasks      | elapsed:    0.0s\n",
      "[Parallel(n_jobs=4)]: Done 640 tasks      | elapsed:    0.1s\n",
      "[Parallel(n_jobs=4)]: Done 1000 out of 1000 | elapsed:    0.2s finished\n",
      "[Parallel(n_jobs=4)]: Using backend ThreadingBackend with 4 concurrent workers.\n",
      "[Parallel(n_jobs=4)]: Done  33 tasks      | elapsed:    0.0s\n",
      "[Parallel(n_jobs=4)]: Done 154 tasks      | elapsed:    0.0s\n",
      "[Parallel(n_jobs=4)]: Done 357 tasks      | elapsed:    0.0s\n",
      "[Parallel(n_jobs=4)]: Done 640 tasks      | elapsed:    0.1s\n",
      "[Parallel(n_jobs=4)]: Done 1000 out of 1000 | elapsed:    0.1s finished\n"
     ]
    },
    {
     "data": {
      "image/png": "[encoded data removed]",
      "text/plain": [
       "<Figure size 432x288 with 1 Axes>"
      ]
     },
     "metadata": {
      "needs_background": "light"
     },
     "output_type": "display_data"
    },
    {
     "data": {
      "image/png": "[encoded data removed]",
      "text/plain": [
       "<Figure size 432x288 with 1 Axes>"
      ]
     },
     "metadata": {
      "needs_background": "light"
     },
     "output_type": "display_data"
    }
   ],
   "source": [
    "skplt.metrics.plot_roc_curve(y_test,model_006.predict_proba(X_test))\n",
    "skplt.metrics.plot_precision_recall_curve(y_test,model_006.predict_proba(X_test));"
   ]
  },
  {
   "cell_type": "markdown",
   "metadata": {},
   "source": [
    "### Neural Network"
   ]
  },
  {
   "cell_type": "code",
   "execution_count": 53,
   "metadata": {
    "ExecuteTime": {
     "end_time": "2020-03-02T11:18:24.951330Z",
     "start_time": "2020-03-02T11:18:24.907191Z"
    },
    "deletable": false,
    "editable": false,
    "run_control": {
     "frozen": true
    }
   },
   "outputs": [],
   "source": [
    "from sklearn.neural_network import MLPClassifier"
   ]
  },
  {
   "cell_type": "code",
   "execution_count": 216,
   "metadata": {
    "ExecuteTime": {
     "end_time": "2020-03-02T14:14:11.232161Z",
     "start_time": "2020-03-02T14:14:11.222737Z"
    },
    "deletable": false,
    "editable": false,
    "run_control": {
     "frozen": true
    }
   },
   "outputs": [],
   "source": [
    "nnet = MLPClassifier(solver='lbfgs',\n",
    "                    alpha=10**(2),\n",
    "                    hidden_layer_sizes=(55,35,15,5),\n",
    "                    activation='relu',\n",
    "                    random_state=0,\n",
    "                    batch_size='auto',\n",
    "                     early_stopping = True, n_iter_no_change=30)"
   ]
  },
  {
   "cell_type": "code",
   "execution_count": 217,
   "metadata": {
    "ExecuteTime": {
     "end_time": "2020-03-02T14:14:37.137000Z",
     "start_time": "2020-03-02T14:14:12.787388Z"
    },
    "deletable": false,
    "editable": false,
    "run_control": {
     "frozen": true
    },
    "scrolled": true
   },
   "outputs": [
    {
     "name": "stdout",
     "output_type": "stream",
     "text": [
      "Training score: 0.803\n",
      "Testing score: 0.717\n",
      "CrossVal score: 0.671\n"
     ]
    }
   ],
   "source": [
    "nnet = model_run(nnet,X_train,y_train,X_test,y_test)"
   ]
  },
  {
   "cell_type": "code",
   "execution_count": 91,
   "metadata": {
    "ExecuteTime": {
     "end_time": "2020-03-02T13:37:32.789855Z",
     "start_time": "2020-03-02T13:37:32.777427Z"
    },
    "deletable": false,
    "editable": false,
    "run_control": {
     "frozen": true
    },
    "scrolled": true
   },
   "outputs": [
    {
     "data": {
      "text/plain": [
       "MLPClassifier(activation='relu', alpha=100, batch_size='auto', beta_1=0.9,\n",
       "              beta_2=0.999, early_stopping=True, epsilon=1e-08,\n",
       "              hidden_layer_sizes=(55, 35, 15, 5), learning_rate='constant',\n",
       "              learning_rate_init=0.001, max_fun=15000, max_iter=200,\n",
       "              momentum=0.9, n_iter_no_change=30, nesterovs_momentum=True,\n",
       "              power_t=0.5, random_state=0, shuffle=True, solver='lbfgs',\n",
       "              tol=0.0001, validation_fraction=0.1, verbose=False,\n",
       "              warm_start=False)"
      ]
     },
     "execution_count": 91,
     "metadata": {},
     "output_type": "execute_result"
    }
   ],
   "source": [
    "nnet.named_steps['mlpclassifier']"
   ]
  },
  {
   "cell_type": "code",
   "execution_count": 245,
   "metadata": {
    "ExecuteTime": {
     "end_time": "2020-03-02T14:18:52.629660Z",
     "start_time": "2020-03-02T14:18:52.618253Z"
    },
    "deletable": false,
    "editable": false,
    "run_control": {
     "frozen": true
    }
   },
   "outputs": [],
   "source": [
    "params = {'mlpclassifier__activation': ['relu'],\n",
    " 'mlpclassifier__alpha': [100],\n",
    " 'mlpclassifier__batch_size': ['auto'],\n",
    " 'mlpclassifier__beta_1': [0.9],\n",
    " 'mlpclassifier__beta_2': [0.999],\n",
    " 'mlpclassifier__early_stopping': [True],\n",
    " 'mlpclassifier__epsilon': [1e-08],\n",
    " 'mlpclassifier__hidden_layer_sizes': [(100,45,15,1),(100,35,15,1)],\n",
    " 'mlpclassifier__learning_rate': ['constant'],\n",
    " 'mlpclassifier__learning_rate_init': [0.001],\n",
    " 'mlpclassifier__max_fun': [15000],\n",
    " 'mlpclassifier__max_iter': [200],\n",
    " 'mlpclassifier__momentum': [0.9],\n",
    " 'mlpclassifier__n_iter_no_change': [30],\n",
    " 'mlpclassifier__nesterovs_momentum': [True],\n",
    " 'mlpclassifier__power_t': [0.5],\n",
    " 'mlpclassifier__shuffle': [True],\n",
    " 'mlpclassifier__solver': ['lbfgs'],\n",
    " 'mlpclassifier__tol': [0.0001]}"
   ]
  },
  {
   "cell_type": "code",
   "execution_count": 246,
   "metadata": {
    "ExecuteTime": {
     "end_time": "2020-03-02T14:18:53.566540Z",
     "start_time": "2020-03-02T14:18:53.560092Z"
    },
    "deletable": false,
    "editable": false,
    "run_control": {
     "frozen": true
    }
   },
   "outputs": [],
   "source": [
    "grid_neural = GridSearchCV(nnet,param_grid=params,scoring='accuracy',verbose=1,n_jobs=-1)"
   ]
  },
  {
   "cell_type": "code",
   "execution_count": 247,
   "metadata": {
    "ExecuteTime": {
     "end_time": "2020-03-02T14:19:25.223860Z",
     "start_time": "2020-03-02T14:18:54.440661Z"
    },
    "deletable": false,
    "editable": false,
    "run_control": {
     "frozen": true
    }
   },
   "outputs": [
    {
     "name": "stdout",
     "output_type": "stream",
     "text": [
      "Fitting 5 folds for each of 2 candidates, totalling 10 fits\n"
     ]
    },
    {
     "name": "stderr",
     "output_type": "stream",
     "text": [
      "[Parallel(n_jobs=-1)]: Using backend LokyBackend with 4 concurrent workers.\n",
      "[Parallel(n_jobs=-1)]: Done  10 out of  10 | elapsed:   21.2s finished\n"
     ]
    },
    {
     "data": {
      "text/plain": [
       "GridSearchCV(cv=None, error_score=nan,\n",
       "             estimator=Pipeline(memory=None,\n",
       "                                steps=[('mlpclassifier',\n",
       "                                        MLPClassifier(activation='relu',\n",
       "                                                      alpha=100,\n",
       "                                                      batch_size='auto',\n",
       "                                                      beta_1=0.9, beta_2=0.999,\n",
       "                                                      early_stopping=True,\n",
       "                                                      epsilon=1e-08,\n",
       "                                                      hidden_layer_sizes=(55,\n",
       "                                                                          35,\n",
       "                                                                          15,\n",
       "                                                                          5),\n",
       "                                                      learning_rate='constant',\n",
       "                                                      learning_rate_init=0.001,\n",
       "                                                      max_fun=15000,\n",
       "                                                      max_iter=200,\n",
       "                                                      momentum=0.9,\n",
       "                                                      n_iter_no_change=3...\n",
       "                         'mlpclassifier__max_iter': [200],\n",
       "                         'mlpclassifier__momentum': [0.9],\n",
       "                         'mlpclassifier__n_iter_no_change': [30],\n",
       "                         'mlpclassifier__nesterovs_momentum': [True],\n",
       "                         'mlpclassifier__power_t': [0.5],\n",
       "                         'mlpclassifier__shuffle': [True],\n",
       "                         'mlpclassifier__solver': ['lbfgs'],\n",
       "                         'mlpclassifier__tol': [0.0001]},\n",
       "             pre_dispatch='2*n_jobs', refit=True, return_train_score=False,\n",
       "             scoring='accuracy', verbose=1)"
      ]
     },
     "execution_count": 247,
     "metadata": {},
     "output_type": "execute_result"
    }
   ],
   "source": [
    "grid_neural.fit(X_train,y_train)"
   ]
  },
  {
   "cell_type": "code",
   "execution_count": 248,
   "metadata": {
    "ExecuteTime": {
     "end_time": "2020-03-02T14:19:25.850308Z",
     "start_time": "2020-03-02T14:19:25.818567Z"
    },
    "deletable": false,
    "editable": false,
    "run_control": {
     "frozen": true
    }
   },
   "outputs": [
    {
     "data": {
      "text/plain": [
       "['../models/neural_network_model']"
      ]
     },
     "execution_count": 248,
     "metadata": {},
     "output_type": "execute_result"
    }
   ],
   "source": [
    "joblib.dump(grid_neural, '../models/neural_network_model')"
   ]
  },
  {
   "cell_type": "code",
   "execution_count": 249,
   "metadata": {
    "ExecuteTime": {
     "end_time": "2020-03-02T14:19:26.334405Z",
     "start_time": "2020-03-02T14:19:26.297700Z"
    }
   },
   "outputs": [
    {
     "data": {
      "text/plain": [
       "0.7159384048210816"
      ]
     },
     "execution_count": 249,
     "metadata": {},
     "output_type": "execute_result"
    }
   ],
   "source": [
    "model_007 = joblib.load('../models/neural_network_model')\n",
    "model_007.best_score_"
   ]
  },
  {
   "cell_type": "code",
   "execution_count": 251,
   "metadata": {
    "ExecuteTime": {
     "end_time": "2020-03-02T14:19:27.588787Z",
     "start_time": "2020-03-02T14:19:27.301114Z"
    }
   },
   "outputs": [
    {
     "data": {
      "text/plain": [
       "(-0.5, 1.5)"
      ]
     },
     "execution_count": 251,
     "metadata": {},
     "output_type": "execute_result"
    },
    {
     "data": {
      "image/png": "[encoded data removed]",
      "text/plain": [
       "<Figure size 432x288 with 2 Axes>"
      ]
     },
     "metadata": {
      "needs_background": "light"
     },
     "output_type": "display_data"
    }
   ],
   "source": [
    "plot_confusion_matrix(y_test,model_007.predict(X_test))\n",
    "plt.ylim(-0.5,1.5)"
   ]
  },
  {
   "cell_type": "code",
   "execution_count": 252,
   "metadata": {
    "ExecuteTime": {
     "end_time": "2020-03-02T14:19:28.098676Z",
     "start_time": "2020-03-02T14:19:28.061476Z"
    }
   },
   "outputs": [
    {
     "name": "stdout",
     "output_type": "stream",
     "text": [
      "              precision    recall  f1-score   support\n",
      "\n",
      "           0       0.72      0.74      0.73       757\n",
      "           1       0.66      0.63      0.64       602\n",
      "\n",
      "    accuracy                           0.69      1359\n",
      "   macro avg       0.69      0.68      0.69      1359\n",
      "weighted avg       0.69      0.69      0.69      1359\n",
      "\n"
     ]
    }
   ],
   "source": [
    "print(classification_report(y_test,model_007.predict(X_test)))"
   ]
  },
  {
   "cell_type": "code",
   "execution_count": 253,
   "metadata": {
    "ExecuteTime": {
     "end_time": "2020-03-02T14:19:29.213187Z",
     "start_time": "2020-03-02T14:19:28.657666Z"
    }
   },
   "outputs": [
    {
     "data": {
      "image/png": "[encoded data removed]",
      "text/plain": [
       "<Figure size 432x288 with 1 Axes>"
      ]
     },
     "metadata": {
      "needs_background": "light"
     },
     "output_type": "display_data"
    },
    {
     "data": {
      "image/png": "[encoded data removed]",
      "text/plain": [
       "<Figure size 432x288 with 1 Axes>"
      ]
     },
     "metadata": {
      "needs_background": "light"
     },
     "output_type": "display_data"
    }
   ],
   "source": [
    "skplt.metrics.plot_roc_curve(y_test,model_007.predict_proba(X_test))\n",
    "skplt.metrics.plot_precision_recall_curve(y_test,model_007.predict_proba(X_test));"
   ]
  },
  {
   "cell_type": "markdown",
   "metadata": {},
   "source": [
    "### Boosting Models"
   ]
  },
  {
   "cell_type": "code",
   "execution_count": 77,
   "metadata": {
    "ExecuteTime": {
     "end_time": "2020-03-02T11:45:36.880563Z",
     "start_time": "2020-03-02T11:44:42.474196Z"
    },
    "deletable": false,
    "editable": false,
    "run_control": {
     "frozen": true
    }
   },
   "outputs": [
    {
     "name": "stdout",
     "output_type": "stream",
     "text": [
      "Training score: 0.748\n",
      "Testing score: 0.706\n",
      "CrossVal score: 0.711\n"
     ]
    }
   ],
   "source": [
    "ada = AdaBoostClassifier(DecisionTreeClassifier(max_depth=2),n_estimators=100,learning_rate=0.1,random_state=0)\n",
    "\n",
    "ada = model_run(ada,X_train,y_train,X_test,y_test)"
   ]
  },
  {
   "cell_type": "code",
   "execution_count": 264,
   "metadata": {
    "ExecuteTime": {
     "end_time": "2020-03-02T15:24:55.826250Z",
     "start_time": "2020-03-02T15:24:11.129242Z"
    },
    "deletable": false,
    "editable": false,
    "run_control": {
     "frozen": true
    }
   },
   "outputs": [
    {
     "name": "stdout",
     "output_type": "stream",
     "text": [
      "Training score: 0.746\n",
      "Testing score: 0.720\n",
      "CrossVal score: 0.712\n"
     ]
    }
   ],
   "source": [
    "gradient_boost = GradientBoostingClassifier(max_depth=2,\n",
    "    n_estimators=100, learning_rate=0.1, random_state=0)\n",
    "\n",
    "gradient_boost = model_run(gradient_boost, X_train, y_train, X_test, y_test)"
   ]
  },
  {
   "cell_type": "markdown",
   "metadata": {},
   "source": [
    "Tuning the AdaBoost based on preliminary scores"
   ]
  },
  {
   "cell_type": "code",
   "execution_count": 272,
   "metadata": {
    "ExecuteTime": {
     "end_time": "2020-03-02T15:38:54.877450Z",
     "start_time": "2020-03-02T15:38:54.869514Z"
    },
    "deletable": false,
    "editable": false,
    "run_control": {
     "frozen": true
    }
   },
   "outputs": [],
   "source": [
    "params = {'gradientboostingclassifier__ccp_alpha': [0.0],\n",
    "          'gradientboostingclassifier__n_estimators': [100,200,300],\n",
    " 'gradientboostingclassifier__criterion': ['friedman_mse','mse'],\n",
    " 'gradientboostingclassifier__loss': ['deviance','exponential']}"
   ]
  },
  {
   "cell_type": "code",
   "execution_count": 273,
   "metadata": {
    "ExecuteTime": {
     "end_time": "2020-03-02T15:39:01.821064Z",
     "start_time": "2020-03-02T15:39:01.814122Z"
    },
    "deletable": false,
    "editable": false,
    "run_control": {
     "frozen": true
    }
   },
   "outputs": [],
   "source": [
    "grid_gradient = GridSearchCV(gradient_boost, param_grid=params,\n",
    "                        scoring='accuracy', verbose=1, n_jobs=-1)"
   ]
  },
  {
   "cell_type": "code",
   "execution_count": 274,
   "metadata": {
    "ExecuteTime": {
     "end_time": "2020-03-02T15:45:49.413992Z",
     "start_time": "2020-03-02T15:39:03.114349Z"
    },
    "deletable": false,
    "editable": false,
    "run_control": {
     "frozen": true
    }
   },
   "outputs": [
    {
     "name": "stdout",
     "output_type": "stream",
     "text": [
      "Fitting 5 folds for each of 12 candidates, totalling 60 fits\n"
     ]
    },
    {
     "name": "stderr",
     "output_type": "stream",
     "text": [
      "[Parallel(n_jobs=-1)]: Using backend LokyBackend with 4 concurrent workers.\n",
      "[Parallel(n_jobs=-1)]: Done  42 tasks      | elapsed:  4.6min\n",
      "[Parallel(n_jobs=-1)]: Done  60 out of  60 | elapsed:  6.6min finished\n"
     ]
    },
    {
     "data": {
      "text/plain": [
       "GridSearchCV(cv=None, error_score=nan,\n",
       "             estimator=Pipeline(memory=None,\n",
       "                                steps=[('gradientboostingclassifier',\n",
       "                                        GradientBoostingClassifier(ccp_alpha=0.0,\n",
       "                                                                   criterion='friedman_mse',\n",
       "                                                                   init=None,\n",
       "                                                                   learning_rate=0.1,\n",
       "                                                                   loss='deviance',\n",
       "                                                                   max_depth=2,\n",
       "                                                                   max_features=None,\n",
       "                                                                   max_leaf_nodes=None,\n",
       "                                                                   min_impurity_decrease=0.0,\n",
       "                                                                   min_impurity_split=None,\n",
       "                                                                   min_samples_leaf=1,\n",
       "                                                                   min_samples_spli...\n",
       "             iid='deprecated', n_jobs=-1,\n",
       "             param_grid={'gradientboostingclassifier__ccp_alpha': [0.0],\n",
       "                         'gradientboostingclassifier__criterion': ['friedman_mse',\n",
       "                                                                   'mse'],\n",
       "                         'gradientboostingclassifier__loss': ['deviance',\n",
       "                                                              'exponential'],\n",
       "                         'gradientboostingclassifier__n_estimators': [100, 200,\n",
       "                                                                      300]},\n",
       "             pre_dispatch='2*n_jobs', refit=True, return_train_score=False,\n",
       "             scoring='accuracy', verbose=1)"
      ]
     },
     "execution_count": 274,
     "metadata": {},
     "output_type": "execute_result"
    }
   ],
   "source": [
    "grid_gradient.fit(X_train,y_train)"
   ]
  },
  {
   "cell_type": "code",
   "execution_count": 275,
   "metadata": {
    "ExecuteTime": {
     "end_time": "2020-03-02T15:45:50.239793Z",
     "start_time": "2020-03-02T15:45:50.206561Z"
    },
    "deletable": false,
    "editable": false,
    "run_control": {
     "frozen": true
    }
   },
   "outputs": [
    {
     "data": {
      "text/plain": [
       "['../models/gradient_boost_model']"
      ]
     },
     "execution_count": 275,
     "metadata": {},
     "output_type": "execute_result"
    }
   ],
   "source": [
    "joblib.dump(grid_gradient, '../models/gradient_boost_model')"
   ]
  },
  {
   "cell_type": "code",
   "execution_count": 276,
   "metadata": {
    "ExecuteTime": {
     "end_time": "2020-03-02T15:45:50.896993Z",
     "start_time": "2020-03-02T15:45:50.863264Z"
    }
   },
   "outputs": [
    {
     "data": {
      "text/plain": [
       "0.7120772701320308"
      ]
     },
     "execution_count": 276,
     "metadata": {},
     "output_type": "execute_result"
    }
   ],
   "source": [
    "model_008 = joblib.load('../models/gradient_boost_model')\n",
    "model_008.best_score_"
   ]
  },
  {
   "cell_type": "code",
   "execution_count": 277,
   "metadata": {
    "ExecuteTime": {
     "end_time": "2020-03-02T15:45:51.637023Z",
     "start_time": "2020-03-02T15:45:51.618176Z"
    }
   },
   "outputs": [
    {
     "data": {
      "text/plain": [
       "{'gradientboostingclassifier__ccp_alpha': 0.0,\n",
       " 'gradientboostingclassifier__criterion': 'friedman_mse',\n",
       " 'gradientboostingclassifier__loss': 'deviance',\n",
       " 'gradientboostingclassifier__n_estimators': 100}"
      ]
     },
     "execution_count": 277,
     "metadata": {},
     "output_type": "execute_result"
    }
   ],
   "source": [
    "model_008.best_params_"
   ]
  },
  {
   "cell_type": "code",
   "execution_count": 278,
   "metadata": {
    "ExecuteTime": {
     "end_time": "2020-03-02T15:47:50.019070Z",
     "start_time": "2020-03-02T15:47:49.766606Z"
    }
   },
   "outputs": [
    {
     "data": {
      "text/plain": [
       "(-0.5, 1.5)"
      ]
     },
     "execution_count": 278,
     "metadata": {},
     "output_type": "execute_result"
    },
    {
     "data": {
      "image/png": "[encoded data removed]",
      "text/plain": [
       "<Figure size 432x288 with 2 Axes>"
      ]
     },
     "metadata": {
      "needs_background": "light"
     },
     "output_type": "display_data"
    }
   ],
   "source": [
    "plot_confusion_matrix(y_test,model_008.predict(X_test))\n",
    "plt.ylim(-0.5,1.5)"
   ]
  },
  {
   "cell_type": "code",
   "execution_count": 279,
   "metadata": {
    "ExecuteTime": {
     "end_time": "2020-03-02T15:47:51.252307Z",
     "start_time": "2020-03-02T15:47:51.227972Z"
    }
   },
   "outputs": [
    {
     "name": "stdout",
     "output_type": "stream",
     "text": [
      "              precision    recall  f1-score   support\n",
      "\n",
      "           0       0.73      0.79      0.76       757\n",
      "           1       0.70      0.64      0.67       602\n",
      "\n",
      "    accuracy                           0.72      1359\n",
      "   macro avg       0.72      0.71      0.71      1359\n",
      "weighted avg       0.72      0.72      0.72      1359\n",
      "\n"
     ]
    }
   ],
   "source": [
    "print(classification_report(y_test,model_008.predict(X_test)))"
   ]
  },
  {
   "cell_type": "code",
   "execution_count": 280,
   "metadata": {
    "ExecuteTime": {
     "end_time": "2020-03-02T15:47:53.254371Z",
     "start_time": "2020-03-02T15:47:52.765814Z"
    }
   },
   "outputs": [
    {
     "data": {
      "image/png": "[encoded data removed]",
      "text/plain": [
       "<Figure size 432x288 with 1 Axes>"
      ]
     },
     "metadata": {
      "needs_background": "light"
     },
     "output_type": "display_data"
    },
    {
     "data": {
      "image/png": "[encoded data removed]",
      "text/plain": [
       "<Figure size 432x288 with 1 Axes>"
      ]
     },
     "metadata": {
      "needs_background": "light"
     },
     "output_type": "display_data"
    }
   ],
   "source": [
    "skplt.metrics.plot_roc_curve(y_test,model_008.predict_proba(X_test))\n",
    "skplt.metrics.plot_precision_recall_curve(y_test,model_008.predict_proba(X_test));"
   ]
  }
 ],
 "metadata": {
  "kernelspec": {
   "display_name": "Python 3",
   "language": "python",
   "name": "python3"
  },
  "language_info": {
   "codemirror_mode": {
    "name": "ipython",
    "version": 3
   },
   "file_extension": ".py",
   "mimetype": "text/x-python",
   "name": "python",
   "nbconvert_exporter": "python",
   "pygments_lexer": "ipython3",
   "version": "3.7.3"
  },
  "toc": {
   "base_numbering": 1,
   "nav_menu": {},
   "number_sections": true,
   "sideBar": true,
   "skip_h1_title": false,
   "title_cell": "Table of Contents",
   "title_sidebar": "Contents",
   "toc_cell": true,
   "toc_position": {
    "height": "calc(100% - 180px)",
    "left": "10px",
    "top": "150px",
    "width": "218.875px"
   },
   "toc_section_display": true,
   "toc_window_display": true
  },
  "varInspector": {
   "cols": {
    "lenName": 16,
    "lenType": 16,
    "lenVar": 40
   },
   "kernels_config": {
    "python": {
     "delete_cmd_postfix": "",
     "delete_cmd_prefix": "del ",
     "library": "var_list.py",
     "varRefreshCmd": "print(var_dic_list())"
    },
    "r": {
     "delete_cmd_postfix": ") ",
     "delete_cmd_prefix": "rm(",
     "library": "var_list.r",
     "varRefreshCmd": "cat(var_dic_list()) "
    }
   },
   "types_to_exclude": [
    "module",
    "function",
    "builtin_function_or_method",
    "instance",
    "_Feature"
   ],
   "window_display": false
  }
 },
 "nbformat": 4,
 "nbformat_minor": 2
}
