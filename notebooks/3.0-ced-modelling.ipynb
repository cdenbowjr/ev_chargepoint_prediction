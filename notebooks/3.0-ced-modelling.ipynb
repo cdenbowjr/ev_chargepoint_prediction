{
 "cells": [
  {
   "cell_type": "markdown",
   "metadata": {
    "toc": true
   },
   "source": [
    "<h1>Table of Contents<span class=\"tocSkip\"></span></h1>\n",
    "<div class=\"toc\"><ul class=\"toc-item\"><li><span><a href=\"#Predicting-Electric-Vehicle(EV)-chargepoints-in-England\" data-toc-modified-id=\"Predicting-Electric-Vehicle(EV)-chargepoints-in-England-1\"><span class=\"toc-item-num\">1&nbsp;&nbsp;</span>Predicting Electric Vehicle(EV) chargepoints in England</a></span><ul class=\"toc-item\"><li><span><a href=\"#Modelling\" data-toc-modified-id=\"Modelling-1.1\"><span class=\"toc-item-num\">1.1&nbsp;&nbsp;</span>Modelling</a></span><ul class=\"toc-item\"><li><span><a href=\"#Splitting-dataframe-into-features-and-target-|-converting-target-to-binary-for-classification\" data-toc-modified-id=\"Splitting-dataframe-into-features-and-target-|-converting-target-to-binary-for-classification-1.1.1\"><span class=\"toc-item-num\">1.1.1&nbsp;&nbsp;</span>Splitting dataframe into features and target | converting target to binary for classification</a></span><ul class=\"toc-item\"><li><span><a href=\"#Train-test-split-(80%-Train,-20%-Test)\" data-toc-modified-id=\"Train-test-split-(80%-Train,-20%-Test)-1.1.1.1\"><span class=\"toc-item-num\">1.1.1.1&nbsp;&nbsp;</span>Train-test-split (80% Train, 20% Test)</a></span></li></ul></li><li><span><a href=\"#Building-classifier-pipeline\" data-toc-modified-id=\"Building-classifier-pipeline-1.1.2\"><span class=\"toc-item-num\">1.1.2&nbsp;&nbsp;</span>Building classifier pipeline</a></span></li><li><span><a href=\"#Logistic-regression\" data-toc-modified-id=\"Logistic-regression-1.1.3\"><span class=\"toc-item-num\">1.1.3&nbsp;&nbsp;</span>Logistic regression</a></span></li><li><span><a href=\"#Decision-Tree\" data-toc-modified-id=\"Decision-Tree-1.1.4\"><span class=\"toc-item-num\">1.1.4&nbsp;&nbsp;</span>Decision Tree</a></span></li><li><span><a href=\"#Gaussian-Naive-Bayes\" data-toc-modified-id=\"Gaussian-Naive-Bayes-1.1.5\"><span class=\"toc-item-num\">1.1.5&nbsp;&nbsp;</span>Gaussian Naive Bayes</a></span></li><li><span><a href=\"#Support-Vectors-(Linear-Model)\" data-toc-modified-id=\"Support-Vectors-(Linear-Model)-1.1.6\"><span class=\"toc-item-num\">1.1.6&nbsp;&nbsp;</span>Support Vectors (Linear Model)</a></span></li><li><span><a href=\"#Support-Vectors-(Radial-Based)\" data-toc-modified-id=\"Support-Vectors-(Radial-Based)-1.1.7\"><span class=\"toc-item-num\">1.1.7&nbsp;&nbsp;</span>Support Vectors (Radial Based)</a></span></li><li><span><a href=\"#K-Nearest-Neighbours\" data-toc-modified-id=\"K-Nearest-Neighbours-1.1.8\"><span class=\"toc-item-num\">1.1.8&nbsp;&nbsp;</span>K Nearest Neighbours</a></span></li><li><span><a href=\"#Random-Forest\" data-toc-modified-id=\"Random-Forest-1.1.9\"><span class=\"toc-item-num\">1.1.9&nbsp;&nbsp;</span>Random Forest</a></span></li><li><span><a href=\"#Neural-Network\" data-toc-modified-id=\"Neural-Network-1.1.10\"><span class=\"toc-item-num\">1.1.10&nbsp;&nbsp;</span>Neural Network</a></span></li><li><span><a href=\"#Boosting-Models\" data-toc-modified-id=\"Boosting-Models-1.1.11\"><span class=\"toc-item-num\">1.1.11&nbsp;&nbsp;</span>Boosting Models</a></span></li><li><span><a href=\"#Splitting-dataframe-into-features-and-target\" data-toc-modified-id=\"Splitting-dataframe-into-features-and-target-1.1.12\"><span class=\"toc-item-num\">1.1.12&nbsp;&nbsp;</span>Splitting dataframe into features and target</a></span><ul class=\"toc-item\"><li><span><a href=\"#Train-test-split-(80%-Train,-20%-Test)\" data-toc-modified-id=\"Train-test-split-(80%-Train,-20%-Test)-1.1.12.1\"><span class=\"toc-item-num\">1.1.12.1&nbsp;&nbsp;</span>Train-test-split (80% Train, 20% Test)</a></span></li></ul></li></ul></li></ul></li></ul></div>"
   ]
  },
  {
   "cell_type": "markdown",
   "metadata": {},
   "source": [
    "# Predicting Electric Vehicle(EV) chargepoints in England\n",
    "## Modelling"
   ]
  },
  {
   "cell_type": "code",
   "execution_count": 68,
   "metadata": {
    "ExecuteTime": {
     "end_time": "2020-03-02T11:25:30.225068Z",
     "start_time": "2020-03-02T11:25:29.845596Z"
    }
   },
   "outputs": [
    {
     "data": {
      "text/html": [
       "<div>\n",
       "<style scoped>\n",
       "    .dataframe tbody tr th:only-of-type {\n",
       "        vertical-align: middle;\n",
       "    }\n",
       "\n",
       "    .dataframe tbody tr th {\n",
       "        vertical-align: top;\n",
       "    }\n",
       "\n",
       "    .dataframe thead th {\n",
       "        text-align: right;\n",
       "    }\n",
       "</style>\n",
       "<table border=\"1\" class=\"dataframe\">\n",
       "  <thead>\n",
       "    <tr style=\"text-align: right;\">\n",
       "      <th></th>\n",
       "      <th>msoa11cd</th>\n",
       "      <th>msoa11nm</th>\n",
       "      <th>lad13cd</th>\n",
       "      <th>lad13nm</th>\n",
       "      <th>income_score</th>\n",
       "      <th>employment_score</th>\n",
       "      <th>idaci_score</th>\n",
       "      <th>idaopi_score</th>\n",
       "      <th>adultskills_score</th>\n",
       "      <th>health_score</th>\n",
       "      <th>...</th>\n",
       "      <th>elec_d_con_mdn</th>\n",
       "      <th>elec_nd_con</th>\n",
       "      <th>nd_meters</th>\n",
       "      <th>elec_nd_con_mean</th>\n",
       "      <th>elec_nd_con_mdn</th>\n",
       "      <th>residential_ratio</th>\n",
       "      <th>residential_meter_ratio</th>\n",
       "      <th>residential_mdn_ratio</th>\n",
       "      <th>metropolitan</th>\n",
       "      <th>charge_points</th>\n",
       "    </tr>\n",
       "  </thead>\n",
       "  <tbody>\n",
       "    <tr>\n",
       "      <th>0</th>\n",
       "      <td>E02006765</td>\n",
       "      <td>Wychavon 018</td>\n",
       "      <td>E07000238</td>\n",
       "      <td>Wychavon</td>\n",
       "      <td>-0.605381</td>\n",
       "      <td>-0.573660</td>\n",
       "      <td>-0.637344</td>\n",
       "      <td>-0.902425</td>\n",
       "      <td>-0.217255</td>\n",
       "      <td>-0.836885</td>\n",
       "      <td>...</td>\n",
       "      <td>1.017437</td>\n",
       "      <td>0.685358</td>\n",
       "      <td>0.519989</td>\n",
       "      <td>-0.305450</td>\n",
       "      <td>-0.400422</td>\n",
       "      <td>-0.696956</td>\n",
       "      <td>-0.823383</td>\n",
       "      <td>0.896452</td>\n",
       "      <td>0.0</td>\n",
       "      <td>6.0</td>\n",
       "    </tr>\n",
       "    <tr>\n",
       "      <th>1</th>\n",
       "      <td>E02006869</td>\n",
       "      <td>Sheffield 076</td>\n",
       "      <td>E08000019</td>\n",
       "      <td>Sheffield</td>\n",
       "      <td>0.346551</td>\n",
       "      <td>0.581285</td>\n",
       "      <td>0.225006</td>\n",
       "      <td>0.495515</td>\n",
       "      <td>0.865269</td>\n",
       "      <td>0.722658</td>\n",
       "      <td>...</td>\n",
       "      <td>-0.663149</td>\n",
       "      <td>-0.825844</td>\n",
       "      <td>-0.352399</td>\n",
       "      <td>0.852006</td>\n",
       "      <td>1.267850</td>\n",
       "      <td>1.225788</td>\n",
       "      <td>0.884991</td>\n",
       "      <td>-1.552253</td>\n",
       "      <td>1.0</td>\n",
       "      <td>0.0</td>\n",
       "    </tr>\n",
       "    <tr>\n",
       "      <th>2</th>\n",
       "      <td>E02006774</td>\n",
       "      <td>Wyre Forest 008</td>\n",
       "      <td>E07000239</td>\n",
       "      <td>Wyre Forest</td>\n",
       "      <td>0.274137</td>\n",
       "      <td>0.279842</td>\n",
       "      <td>0.104888</td>\n",
       "      <td>0.287807</td>\n",
       "      <td>0.408271</td>\n",
       "      <td>0.034357</td>\n",
       "      <td>...</td>\n",
       "      <td>-0.030677</td>\n",
       "      <td>-0.620824</td>\n",
       "      <td>-1.015851</td>\n",
       "      <td>-1.369678</td>\n",
       "      <td>-1.227389</td>\n",
       "      <td>0.641165</td>\n",
       "      <td>1.133435</td>\n",
       "      <td>1.119902</td>\n",
       "      <td>0.0</td>\n",
       "      <td>0.0</td>\n",
       "    </tr>\n",
       "    <tr>\n",
       "      <th>3</th>\n",
       "      <td>E02000996</td>\n",
       "      <td>Bolton 013</td>\n",
       "      <td>E08000001</td>\n",
       "      <td>Bolton</td>\n",
       "      <td>1.922412</td>\n",
       "      <td>2.012535</td>\n",
       "      <td>1.799706</td>\n",
       "      <td>1.343843</td>\n",
       "      <td>1.607318</td>\n",
       "      <td>1.823455</td>\n",
       "      <td>...</td>\n",
       "      <td>-0.045924</td>\n",
       "      <td>-1.215959</td>\n",
       "      <td>-1.019551</td>\n",
       "      <td>0.271194</td>\n",
       "      <td>0.405159</td>\n",
       "      <td>1.355991</td>\n",
       "      <td>1.184134</td>\n",
       "      <td>-0.464230</td>\n",
       "      <td>1.0</td>\n",
       "      <td>0.0</td>\n",
       "    </tr>\n",
       "    <tr>\n",
       "      <th>4</th>\n",
       "      <td>E02006606</td>\n",
       "      <td>Mid Sussex 003</td>\n",
       "      <td>E07000228</td>\n",
       "      <td>Mid Sussex</td>\n",
       "      <td>-1.616707</td>\n",
       "      <td>-2.045091</td>\n",
       "      <td>-1.505672</td>\n",
       "      <td>-1.429771</td>\n",
       "      <td>-0.683208</td>\n",
       "      <td>-2.137470</td>\n",
       "      <td>...</td>\n",
       "      <td>0.482730</td>\n",
       "      <td>-1.200421</td>\n",
       "      <td>-1.444683</td>\n",
       "      <td>-1.112559</td>\n",
       "      <td>-0.868930</td>\n",
       "      <td>1.468005</td>\n",
       "      <td>1.585986</td>\n",
       "      <td>1.041607</td>\n",
       "      <td>0.0</td>\n",
       "      <td>0.0</td>\n",
       "    </tr>\n",
       "  </tbody>\n",
       "</table>\n",
       "<p>5 rows × 134 columns</p>\n",
       "</div>"
      ],
      "text/plain": [
       "    msoa11cd         msoa11nm    lad13cd      lad13nm  income_score  \\\n",
       "0  E02006765     Wychavon 018  E07000238     Wychavon     -0.605381   \n",
       "1  E02006869    Sheffield 076  E08000019    Sheffield      0.346551   \n",
       "2  E02006774  Wyre Forest 008  E07000239  Wyre Forest      0.274137   \n",
       "3  E02000996       Bolton 013  E08000001       Bolton      1.922412   \n",
       "4  E02006606   Mid Sussex 003  E07000228   Mid Sussex     -1.616707   \n",
       "\n",
       "   employment_score  idaci_score  idaopi_score  adultskills_score  \\\n",
       "0         -0.573660    -0.637344     -0.902425          -0.217255   \n",
       "1          0.581285     0.225006      0.495515           0.865269   \n",
       "2          0.279842     0.104888      0.287807           0.408271   \n",
       "3          2.012535     1.799706      1.343843           1.607318   \n",
       "4         -2.045091    -1.505672     -1.429771          -0.683208   \n",
       "\n",
       "   health_score  ...  elec_d_con_mdn  elec_nd_con  nd_meters  \\\n",
       "0     -0.836885  ...        1.017437     0.685358   0.519989   \n",
       "1      0.722658  ...       -0.663149    -0.825844  -0.352399   \n",
       "2      0.034357  ...       -0.030677    -0.620824  -1.015851   \n",
       "3      1.823455  ...       -0.045924    -1.215959  -1.019551   \n",
       "4     -2.137470  ...        0.482730    -1.200421  -1.444683   \n",
       "\n",
       "   elec_nd_con_mean  elec_nd_con_mdn  residential_ratio  \\\n",
       "0         -0.305450        -0.400422          -0.696956   \n",
       "1          0.852006         1.267850           1.225788   \n",
       "2         -1.369678        -1.227389           0.641165   \n",
       "3          0.271194         0.405159           1.355991   \n",
       "4         -1.112559        -0.868930           1.468005   \n",
       "\n",
       "   residential_meter_ratio  residential_mdn_ratio  metropolitan  charge_points  \n",
       "0                -0.823383               0.896452           0.0            6.0  \n",
       "1                 0.884991              -1.552253           1.0            0.0  \n",
       "2                 1.133435               1.119902           0.0            0.0  \n",
       "3                 1.184134              -0.464230           1.0            0.0  \n",
       "4                 1.585986               1.041607           0.0            0.0  \n",
       "\n",
       "[5 rows x 134 columns]"
      ]
     },
     "execution_count": 68,
     "metadata": {},
     "output_type": "execute_result"
    }
   ],
   "source": [
    "from sklearn.pipeline import Pipeline, FeatureUnion, make_pipeline, make_union\n",
    "import pandas as pd\n",
    "import numpy as np\n",
    "import matplotlib.pyplot as plt\n",
    "\n",
    "import joblib\n",
    "import pickle\n",
    "\n",
    "# Sklearn packages\n",
    "from sklearn.tree import DecisionTreeClassifier\n",
    "from sklearn.preprocessing import StandardScaler, OneHotEncoder, LabelEncoder, MinMaxScaler, PowerTransformer\n",
    "from sklearn.impute import SimpleImputer\n",
    "from sklearn.model_selection import train_test_split, cross_val_score, GridSearchCV\n",
    "from sklearn.linear_model import LinearRegression, LogisticRegression, RidgeCV, LassoCV, ElasticNetCV, LogisticRegressionCV\n",
    "from sklearn.naive_bayes import GaussianNB, MultinomialNB, BernoulliNB\n",
    "from sklearn.svm import SVC\n",
    "from sklearn.neighbors import KNeighborsClassifier\n",
    "from sklearn.ensemble import RandomForestClassifier, RandomForestRegressor, AdaBoostClassifier, BaggingClassifier, GradientBoostingClassifier\n",
    "from sklearn.metrics import confusion_matrix, classification_report\n",
    "import scikitplot as skplt\n",
    "from scikitplot.metrics import plot_confusion_matrix\n",
    "\n",
    "from sklearn.base import BaseEstimator, TransformerMixin\n",
    "\n",
    "import warnings\n",
    "warnings.filterwarnings('ignore')\n",
    "\n",
    "\n",
    "df = pd.read_csv(\"../data/processed/full_processed_data.csv\")\\\n",
    "\n",
    "df.head()"
   ]
  },
  {
   "cell_type": "markdown",
   "metadata": {},
   "source": [
    "### Splitting dataframe into features and target | converting target to binary for classification"
   ]
  },
  {
   "cell_type": "code",
   "execution_count": 7,
   "metadata": {
    "ExecuteTime": {
     "end_time": "2020-03-02T10:54:34.307573Z",
     "start_time": "2020-03-02T10:54:34.284787Z"
    }
   },
   "outputs": [],
   "source": [
    "X = df.drop(['charge_points'], axis=1)\n",
    "X = X.loc[:, 'income_score':]\n",
    "y = df.charge_points.apply(lambda x: 1 if x > 0 else 0).values"
   ]
  },
  {
   "cell_type": "code",
   "execution_count": 8,
   "metadata": {
    "ExecuteTime": {
     "end_time": "2020-03-02T10:54:35.966962Z",
     "start_time": "2020-03-02T10:54:35.944641Z"
    }
   },
   "outputs": [
    {
     "data": {
      "text/plain": [
       "0    0.556766\n",
       "1    0.443234\n",
       "Name: 0, dtype: float64"
      ]
     },
     "execution_count": 8,
     "metadata": {},
     "output_type": "execute_result"
    }
   ],
   "source": [
    "pd.DataFrame(y.reshape(-1,1)).iloc[:,0].value_counts(normalize=True)"
   ]
  },
  {
   "cell_type": "code",
   "execution_count": null,
   "metadata": {
    "deletable": false,
    "editable": false,
    "run_control": {
     "frozen": true
    }
   },
   "outputs": [],
   "source": [
    "pipe_cat = Pipeline(steps=[('selector',TypeSelector('category')),\n",
    "                       ('encoder',OneHotEncoder(categories = \"auto\",sparse=False,handle_unknown='ignore'))])\n",
    "\n",
    "pipe_num = Pipeline(steps=[('selector',TypeSelector(np.number)),\n",
    "                       ('scaler',StandardScaler())])\n",
    "\n",
    "feat_u = FeatureUnion(n_jobs=1, transformer_list=[('pipenum',pipe_num),('pipecat',pipe_cat)])"
   ]
  },
  {
   "cell_type": "markdown",
   "metadata": {},
   "source": [
    "#### Train-test-split (80% Train, 20% Test)"
   ]
  },
  {
   "cell_type": "code",
   "execution_count": 9,
   "metadata": {
    "ExecuteTime": {
     "end_time": "2020-03-02T10:54:40.058034Z",
     "start_time": "2020-03-02T10:54:40.034227Z"
    }
   },
   "outputs": [],
   "source": [
    "X_train, X_test, y_train, y_test = train_test_split(X, y, test_size=0.2, random_state=0,shuffle=True, stratify=y)"
   ]
  },
  {
   "cell_type": "code",
   "execution_count": 5,
   "metadata": {
    "ExecuteTime": {
     "end_time": "2020-03-02T01:10:27.974881Z",
     "start_time": "2020-03-02T01:10:27.374967Z"
    },
    "scrolled": false
   },
   "outputs": [
    {
     "name": "stdout",
     "output_type": "stream",
     "text": [
      "Optimization terminated successfully.\n",
      "         Current function value: 0.526417\n",
      "         Iterations 7\n"
     ]
    },
    {
     "data": {
      "text/html": [
       "<table class=\"simpletable\">\n",
       "<caption>Logit Regression Results</caption>\n",
       "<tr>\n",
       "  <th>Dep. Variable:</th>           <td>y</td>        <th>  No. Observations:  </th>  <td>  6791</td> \n",
       "</tr>\n",
       "<tr>\n",
       "  <th>Model:</th>                 <td>Logit</td>      <th>  Df Residuals:      </th>  <td>  6662</td> \n",
       "</tr>\n",
       "<tr>\n",
       "  <th>Method:</th>                 <td>MLE</td>       <th>  Df Model:          </th>  <td>   128</td> \n",
       "</tr>\n",
       "<tr>\n",
       "  <th>Date:</th>            <td>Mon, 02 Mar 2020</td> <th>  Pseudo R-squ.:     </th>  <td>0.2334</td> \n",
       "</tr>\n",
       "<tr>\n",
       "  <th>Time:</th>                <td>01:10:27</td>     <th>  Log-Likelihood:    </th> <td> -3574.9</td>\n",
       "</tr>\n",
       "<tr>\n",
       "  <th>converged:</th>             <td>True</td>       <th>  LL-Null:           </th> <td> -4663.3</td>\n",
       "</tr>\n",
       "<tr>\n",
       "  <th>Covariance Type:</th>     <td>nonrobust</td>    <th>  LLR p-value:       </th>  <td> 0.000</td> \n",
       "</tr>\n",
       "</table>\n",
       "<table class=\"simpletable\">\n",
       "<tr>\n",
       "             <td></td>                <th>coef</th>     <th>std err</th>      <th>z</th>      <th>P>|z|</th>  <th>[0.025</th>    <th>0.975]</th>  \n",
       "</tr>\n",
       "<tr>\n",
       "  <th>income_score</th>            <td>   -0.0258</td> <td>    0.483</td> <td>   -0.053</td> <td> 0.957</td> <td>   -0.972</td> <td>    0.920</td>\n",
       "</tr>\n",
       "<tr>\n",
       "  <th>employment_score</th>        <td>   -0.0540</td> <td>    0.231</td> <td>   -0.234</td> <td> 0.815</td> <td>   -0.506</td> <td>    0.398</td>\n",
       "</tr>\n",
       "<tr>\n",
       "  <th>idaci_score</th>             <td>    0.0073</td> <td>    0.209</td> <td>    0.035</td> <td> 0.972</td> <td>   -0.403</td> <td>    0.417</td>\n",
       "</tr>\n",
       "<tr>\n",
       "  <th>idaopi_score</th>            <td>    0.2171</td> <td>    0.195</td> <td>    1.111</td> <td> 0.266</td> <td>   -0.166</td> <td>    0.600</td>\n",
       "</tr>\n",
       "<tr>\n",
       "  <th>adultskills_score</th>       <td>   -0.4277</td> <td>    0.106</td> <td>   -4.043</td> <td> 0.000</td> <td>   -0.635</td> <td>   -0.220</td>\n",
       "</tr>\n",
       "<tr>\n",
       "  <th>health_score</th>            <td>   -0.0392</td> <td>    0.104</td> <td>   -0.375</td> <td> 0.707</td> <td>   -0.244</td> <td>    0.166</td>\n",
       "</tr>\n",
       "<tr>\n",
       "  <th>crime_score</th>             <td>   -0.0016</td> <td>    0.061</td> <td>   -0.027</td> <td> 0.979</td> <td>   -0.122</td> <td>    0.118</td>\n",
       "</tr>\n",
       "<tr>\n",
       "  <th>chanyp_score</th>            <td>    0.0268</td> <td>    0.078</td> <td>    0.345</td> <td> 0.730</td> <td>   -0.125</td> <td>    0.179</td>\n",
       "</tr>\n",
       "<tr>\n",
       "  <th>geo_bar_score</th>           <td>    0.1304</td> <td>    0.061</td> <td>    2.147</td> <td> 0.032</td> <td>    0.011</td> <td>    0.249</td>\n",
       "</tr>\n",
       "<tr>\n",
       "  <th>widerbar_score</th>          <td>    0.0160</td> <td>    0.071</td> <td>    0.227</td> <td> 0.821</td> <td>   -0.122</td> <td>    0.154</td>\n",
       "</tr>\n",
       "<tr>\n",
       "  <th>indoor_score</th>            <td>   -0.1055</td> <td>    0.048</td> <td>   -2.177</td> <td> 0.030</td> <td>   -0.200</td> <td>   -0.011</td>\n",
       "</tr>\n",
       "<tr>\n",
       "  <th>outdoor_score</th>           <td>   -0.0798</td> <td>    0.054</td> <td>   -1.466</td> <td> 0.143</td> <td>   -0.187</td> <td>    0.027</td>\n",
       "</tr>\n",
       "<tr>\n",
       "  <th>total_pop</th>               <td>   -0.0670</td> <td>    0.291</td> <td>   -0.230</td> <td> 0.818</td> <td>   -0.638</td> <td>    0.504</td>\n",
       "</tr>\n",
       "<tr>\n",
       "  <th>under16_pop</th>             <td>    0.1559</td> <td>    0.119</td> <td>    1.309</td> <td> 0.191</td> <td>   -0.077</td> <td>    0.389</td>\n",
       "</tr>\n",
       "<tr>\n",
       "  <th>16_59_pop</th>               <td>   -1.5384</td> <td>    0.820</td> <td>   -1.875</td> <td> 0.061</td> <td>   -3.146</td> <td>    0.070</td>\n",
       "</tr>\n",
       "<tr>\n",
       "  <th>over60_pop</th>              <td>   -0.0160</td> <td>    0.143</td> <td>   -0.112</td> <td> 0.911</td> <td>   -0.296</td> <td>    0.264</td>\n",
       "</tr>\n",
       "<tr>\n",
       "  <th>workingage_pop</th>          <td>    1.5036</td> <td>    0.800</td> <td>    1.881</td> <td> 0.060</td> <td>   -0.064</td> <td>    3.071</td>\n",
       "</tr>\n",
       "<tr>\n",
       "  <th>total_inc</th>               <td>   -0.2298</td> <td>    0.147</td> <td>   -1.564</td> <td> 0.118</td> <td>   -0.518</td> <td>    0.058</td>\n",
       "</tr>\n",
       "<tr>\n",
       "  <th>total_netinc</th>            <td>    0.0550</td> <td>    0.138</td> <td>    0.400</td> <td> 0.689</td> <td>   -0.215</td> <td>    0.325</td>\n",
       "</tr>\n",
       "<tr>\n",
       "  <th>total_netb4hsing</th>        <td>    0.2874</td> <td>    0.198</td> <td>    1.452</td> <td> 0.146</td> <td>   -0.100</td> <td>    0.675</td>\n",
       "</tr>\n",
       "<tr>\n",
       "  <th>total_netafterhsing</th>     <td>   -0.1233</td> <td>    0.174</td> <td>   -0.711</td> <td> 0.477</td> <td>   -0.463</td> <td>    0.217</td>\n",
       "</tr>\n",
       "<tr>\n",
       "  <th>walk_work</th>               <td>    0.6449</td> <td>    0.297</td> <td>    2.173</td> <td> 0.030</td> <td>    0.063</td> <td>    1.227</td>\n",
       "</tr>\n",
       "<tr>\n",
       "  <th>walk_empbus</th>             <td>   -0.4778</td> <td>    0.187</td> <td>   -2.562</td> <td> 0.010</td> <td>   -0.843</td> <td>   -0.112</td>\n",
       "</tr>\n",
       "<tr>\n",
       "  <th>walk_school</th>             <td>   -0.2740</td> <td>    0.201</td> <td>   -1.362</td> <td> 0.173</td> <td>   -0.668</td> <td>    0.120</td>\n",
       "</tr>\n",
       "<tr>\n",
       "  <th>walk_shopping</th>           <td>   -0.4776</td> <td>    0.295</td> <td>   -1.621</td> <td> 0.105</td> <td>   -1.055</td> <td>    0.100</td>\n",
       "</tr>\n",
       "<tr>\n",
       "  <th>walk_personbus</th>          <td>    0.3733</td> <td>    0.270</td> <td>    1.383</td> <td> 0.167</td> <td>   -0.156</td> <td>    0.902</td>\n",
       "</tr>\n",
       "<tr>\n",
       "  <th>walk_social</th>             <td>   -0.0548</td> <td>    0.251</td> <td>   -0.219</td> <td> 0.827</td> <td>   -0.546</td> <td>    0.436</td>\n",
       "</tr>\n",
       "<tr>\n",
       "  <th>walk_friends</th>            <td>   -0.2677</td> <td>    0.244</td> <td>   -1.098</td> <td> 0.272</td> <td>   -0.746</td> <td>    0.210</td>\n",
       "</tr>\n",
       "<tr>\n",
       "  <th>walk_holiday</th>            <td>    0.0261</td> <td>    0.194</td> <td>    0.134</td> <td> 0.893</td> <td>   -0.355</td> <td>    0.407</td>\n",
       "</tr>\n",
       "<tr>\n",
       "  <th>cycle_work</th>              <td>   -0.5495</td> <td>    0.225</td> <td>   -2.444</td> <td> 0.015</td> <td>   -0.990</td> <td>   -0.109</td>\n",
       "</tr>\n",
       "<tr>\n",
       "  <th>cycle_empbus</th>            <td>    0.2048</td> <td>    0.155</td> <td>    1.322</td> <td> 0.186</td> <td>   -0.099</td> <td>    0.508</td>\n",
       "</tr>\n",
       "<tr>\n",
       "  <th>cycle_school</th>            <td>   -0.0023</td> <td>    0.133</td> <td>   -0.017</td> <td> 0.986</td> <td>   -0.263</td> <td>    0.259</td>\n",
       "</tr>\n",
       "<tr>\n",
       "  <th>cycle_shopping</th>          <td>    0.4390</td> <td>    0.257</td> <td>    1.708</td> <td> 0.088</td> <td>   -0.065</td> <td>    0.943</td>\n",
       "</tr>\n",
       "<tr>\n",
       "  <th>cycle_personbus</th>         <td>   -0.1069</td> <td>    0.210</td> <td>   -0.509</td> <td> 0.610</td> <td>   -0.518</td> <td>    0.304</td>\n",
       "</tr>\n",
       "<tr>\n",
       "  <th>cycle_social</th>            <td>    0.2974</td> <td>    0.262</td> <td>    1.133</td> <td> 0.257</td> <td>   -0.217</td> <td>    0.812</td>\n",
       "</tr>\n",
       "<tr>\n",
       "  <th>cycle_friends</th>           <td>   -0.0461</td> <td>    0.206</td> <td>   -0.224</td> <td> 0.823</td> <td>   -0.450</td> <td>    0.357</td>\n",
       "</tr>\n",
       "<tr>\n",
       "  <th>cycle_holiday</th>           <td>   -0.2370</td> <td>    0.287</td> <td>   -0.825</td> <td> 0.409</td> <td>   -0.800</td> <td>    0.326</td>\n",
       "</tr>\n",
       "<tr>\n",
       "  <th>cardriver_work</th>          <td>   -0.2751</td> <td>    0.389</td> <td>   -0.706</td> <td> 0.480</td> <td>   -1.038</td> <td>    0.488</td>\n",
       "</tr>\n",
       "<tr>\n",
       "  <th>cardriver_empbus</th>        <td>    1.3191</td> <td>    0.339</td> <td>    3.887</td> <td> 0.000</td> <td>    0.654</td> <td>    1.984</td>\n",
       "</tr>\n",
       "<tr>\n",
       "  <th>cardriver_school</th>        <td>   -0.1189</td> <td>    0.155</td> <td>   -0.769</td> <td> 0.442</td> <td>   -0.422</td> <td>    0.184</td>\n",
       "</tr>\n",
       "<tr>\n",
       "  <th>cardriver_shopping</th>      <td>   -0.1700</td> <td>    0.215</td> <td>   -0.791</td> <td> 0.429</td> <td>   -0.591</td> <td>    0.251</td>\n",
       "</tr>\n",
       "<tr>\n",
       "  <th>cardriver_personbus</th>     <td>   -0.1292</td> <td>    0.192</td> <td>   -0.671</td> <td> 0.502</td> <td>   -0.506</td> <td>    0.248</td>\n",
       "</tr>\n",
       "<tr>\n",
       "  <th>cardriver_social</th>        <td>    0.0246</td> <td>    0.249</td> <td>    0.099</td> <td> 0.921</td> <td>   -0.463</td> <td>    0.512</td>\n",
       "</tr>\n",
       "<tr>\n",
       "  <th>cardriver_friends</th>       <td>    0.0168</td> <td>    0.211</td> <td>    0.080</td> <td> 0.936</td> <td>   -0.397</td> <td>    0.430</td>\n",
       "</tr>\n",
       "<tr>\n",
       "  <th>cardriver_holiday</th>       <td>    0.0902</td> <td>    0.345</td> <td>    0.262</td> <td> 0.794</td> <td>   -0.585</td> <td>    0.766</td>\n",
       "</tr>\n",
       "<tr>\n",
       "  <th>carpassenger_work</th>       <td>    0.2850</td> <td>    0.338</td> <td>    0.843</td> <td> 0.399</td> <td>   -0.377</td> <td>    0.947</td>\n",
       "</tr>\n",
       "<tr>\n",
       "  <th>carpassenger_empbus</th>     <td>   -0.4037</td> <td>    0.240</td> <td>   -1.685</td> <td> 0.092</td> <td>   -0.873</td> <td>    0.066</td>\n",
       "</tr>\n",
       "<tr>\n",
       "  <th>carpassenger_school</th>     <td>    0.3368</td> <td>    0.206</td> <td>    1.635</td> <td> 0.102</td> <td>   -0.067</td> <td>    0.740</td>\n",
       "</tr>\n",
       "<tr>\n",
       "  <th>carpassenger_shopping</th>   <td>   -0.0134</td> <td>    0.381</td> <td>   -0.035</td> <td> 0.972</td> <td>   -0.759</td> <td>    0.732</td>\n",
       "</tr>\n",
       "<tr>\n",
       "  <th>carpassenger_personbus</th>  <td>   -0.2661</td> <td>    0.342</td> <td>   -0.777</td> <td> 0.437</td> <td>   -0.937</td> <td>    0.405</td>\n",
       "</tr>\n",
       "<tr>\n",
       "  <th>carpassenger_social</th>     <td>   -0.1725</td> <td>    0.380</td> <td>   -0.455</td> <td> 0.649</td> <td>   -0.916</td> <td>    0.571</td>\n",
       "</tr>\n",
       "<tr>\n",
       "  <th>carpassenger_friends</th>    <td>   -0.1342</td> <td>    0.195</td> <td>   -0.686</td> <td> 0.492</td> <td>   -0.517</td> <td>    0.249</td>\n",
       "</tr>\n",
       "<tr>\n",
       "  <th>carpassenger_holiday</th>    <td>    0.0686</td> <td>    0.395</td> <td>    0.174</td> <td> 0.862</td> <td>   -0.705</td> <td>    0.843</td>\n",
       "</tr>\n",
       "<tr>\n",
       "  <th>buscoach_work</th>           <td>   -0.2424</td> <td>    0.376</td> <td>   -0.645</td> <td> 0.519</td> <td>   -0.979</td> <td>    0.494</td>\n",
       "</tr>\n",
       "<tr>\n",
       "  <th>buscoach_empbus</th>         <td>    0.7371</td> <td>    0.270</td> <td>    2.734</td> <td> 0.006</td> <td>    0.209</td> <td>    1.265</td>\n",
       "</tr>\n",
       "<tr>\n",
       "  <th>buscoach_school</th>         <td>   -0.1748</td> <td>    0.136</td> <td>   -1.283</td> <td> 0.199</td> <td>   -0.442</td> <td>    0.092</td>\n",
       "</tr>\n",
       "<tr>\n",
       "  <th>buscoach_shopping</th>       <td>    0.3425</td> <td>    0.357</td> <td>    0.959</td> <td> 0.338</td> <td>   -0.358</td> <td>    1.043</td>\n",
       "</tr>\n",
       "<tr>\n",
       "  <th>buscoach_personbus</th>      <td>   -0.3520</td> <td>    0.350</td> <td>   -1.006</td> <td> 0.315</td> <td>   -1.038</td> <td>    0.334</td>\n",
       "</tr>\n",
       "<tr>\n",
       "  <th>buscoach_social</th>         <td>   -0.0436</td> <td>    0.306</td> <td>   -0.142</td> <td> 0.887</td> <td>   -0.643</td> <td>    0.556</td>\n",
       "</tr>\n",
       "<tr>\n",
       "  <th>buscoach_friends</th>        <td>    0.0280</td> <td>    0.243</td> <td>    0.115</td> <td> 0.908</td> <td>   -0.449</td> <td>    0.505</td>\n",
       "</tr>\n",
       "<tr>\n",
       "  <th>buscoach_holiday</th>        <td>    0.5896</td> <td>    0.210</td> <td>    2.806</td> <td> 0.005</td> <td>    0.178</td> <td>    1.001</td>\n",
       "</tr>\n",
       "<tr>\n",
       "  <th>rail_work</th>               <td>   -0.5309</td> <td>    0.230</td> <td>   -2.304</td> <td> 0.021</td> <td>   -0.983</td> <td>   -0.079</td>\n",
       "</tr>\n",
       "<tr>\n",
       "  <th>rail_empbus</th>             <td>    0.0629</td> <td>    0.196</td> <td>    0.320</td> <td> 0.749</td> <td>   -0.322</td> <td>    0.448</td>\n",
       "</tr>\n",
       "<tr>\n",
       "  <th>rail_school</th>             <td>   -0.0673</td> <td>    0.151</td> <td>   -0.446</td> <td> 0.655</td> <td>   -0.363</td> <td>    0.228</td>\n",
       "</tr>\n",
       "<tr>\n",
       "  <th>rail_shopping</th>           <td>    0.6471</td> <td>    0.246</td> <td>    2.630</td> <td> 0.009</td> <td>    0.165</td> <td>    1.129</td>\n",
       "</tr>\n",
       "<tr>\n",
       "  <th>rail_personbus</th>          <td>    0.1668</td> <td>    0.228</td> <td>    0.730</td> <td> 0.466</td> <td>   -0.281</td> <td>    0.615</td>\n",
       "</tr>\n",
       "<tr>\n",
       "  <th>rail_social</th>             <td>    0.1516</td> <td>    0.244</td> <td>    0.621</td> <td> 0.535</td> <td>   -0.327</td> <td>    0.630</td>\n",
       "</tr>\n",
       "<tr>\n",
       "  <th>rail_friends</th>            <td>   -0.1162</td> <td>    0.202</td> <td>   -0.576</td> <td> 0.565</td> <td>   -0.512</td> <td>    0.280</td>\n",
       "</tr>\n",
       "<tr>\n",
       "  <th>rail_holiday</th>            <td>   -0.0606</td> <td>    0.219</td> <td>   -0.276</td> <td> 0.782</td> <td>   -0.491</td> <td>    0.369</td>\n",
       "</tr>\n",
       "<tr>\n",
       "  <th>no_car</th>                  <td>   -0.3505</td> <td>    0.184</td> <td>   -1.908</td> <td> 0.056</td> <td>   -0.711</td> <td>    0.009</td>\n",
       "</tr>\n",
       "<tr>\n",
       "  <th>one_car</th>                 <td>    0.0908</td> <td>    0.189</td> <td>    0.481</td> <td> 0.631</td> <td>   -0.280</td> <td>    0.461</td>\n",
       "</tr>\n",
       "<tr>\n",
       "  <th>two_car</th>                 <td>   -0.2918</td> <td>    0.389</td> <td>   -0.750</td> <td> 0.453</td> <td>   -1.054</td> <td>    0.470</td>\n",
       "</tr>\n",
       "<tr>\n",
       "  <th>three+_car</th>              <td>    0.3258</td> <td>    0.328</td> <td>    0.992</td> <td> 0.321</td> <td>   -0.318</td> <td>    0.970</td>\n",
       "</tr>\n",
       "<tr>\n",
       "  <th>total_cars</th>              <td>   -0.5210</td> <td>    0.715</td> <td>   -0.729</td> <td> 0.466</td> <td>   -1.922</td> <td>    0.880</td>\n",
       "</tr>\n",
       "<tr>\n",
       "  <th>2019_q2</th>                 <td>   -0.1494</td> <td>    0.217</td> <td>   -0.689</td> <td> 0.491</td> <td>   -0.574</td> <td>    0.275</td>\n",
       "</tr>\n",
       "<tr>\n",
       "  <th>2019_q1</th>                 <td>    0.4630</td> <td>    0.666</td> <td>    0.696</td> <td> 0.487</td> <td>   -0.842</td> <td>    1.768</td>\n",
       "</tr>\n",
       "<tr>\n",
       "  <th>2018_q4</th>                 <td>   -0.4034</td> <td>    0.742</td> <td>   -0.544</td> <td> 0.586</td> <td>   -1.857</td> <td>    1.050</td>\n",
       "</tr>\n",
       "<tr>\n",
       "  <th>2018_q3</th>                 <td>    0.3298</td> <td>    0.642</td> <td>    0.513</td> <td> 0.608</td> <td>   -0.929</td> <td>    1.589</td>\n",
       "</tr>\n",
       "<tr>\n",
       "  <th>2018_q2</th>                 <td>   -0.4161</td> <td>    0.746</td> <td>   -0.558</td> <td> 0.577</td> <td>   -1.879</td> <td>    1.047</td>\n",
       "</tr>\n",
       "<tr>\n",
       "  <th>2018_q1</th>                 <td>   -0.2008</td> <td>    0.744</td> <td>   -0.270</td> <td> 0.787</td> <td>   -1.659</td> <td>    1.257</td>\n",
       "</tr>\n",
       "<tr>\n",
       "  <th>2017_q4</th>                 <td>   -0.5768</td> <td>    0.555</td> <td>   -1.039</td> <td> 0.299</td> <td>   -1.665</td> <td>    0.512</td>\n",
       "</tr>\n",
       "<tr>\n",
       "  <th>2017_q3</th>                 <td>    1.0440</td> <td>    0.581</td> <td>    1.796</td> <td> 0.072</td> <td>   -0.095</td> <td>    2.183</td>\n",
       "</tr>\n",
       "<tr>\n",
       "  <th>2017_q2</th>                 <td>   -0.5416</td> <td>    0.546</td> <td>   -0.991</td> <td> 0.322</td> <td>   -1.613</td> <td>    0.529</td>\n",
       "</tr>\n",
       "<tr>\n",
       "  <th>2017_q1</th>                 <td>    0.6349</td> <td>    0.569</td> <td>    1.115</td> <td> 0.265</td> <td>   -0.481</td> <td>    1.751</td>\n",
       "</tr>\n",
       "<tr>\n",
       "  <th>2016_q4</th>                 <td>   -0.4133</td> <td>    0.485</td> <td>   -0.852</td> <td> 0.394</td> <td>   -1.364</td> <td>    0.538</td>\n",
       "</tr>\n",
       "<tr>\n",
       "  <th>2016_q3</th>                 <td>    0.7644</td> <td>    0.462</td> <td>    1.655</td> <td> 0.098</td> <td>   -0.141</td> <td>    1.670</td>\n",
       "</tr>\n",
       "<tr>\n",
       "  <th>2016_q2</th>                 <td>   -0.5035</td> <td>    0.345</td> <td>   -1.457</td> <td> 0.145</td> <td>   -1.181</td> <td>    0.174</td>\n",
       "</tr>\n",
       "<tr>\n",
       "  <th>2016_q1</th>                 <td>   -0.1209</td> <td>    0.409</td> <td>   -0.295</td> <td> 0.768</td> <td>   -0.923</td> <td>    0.681</td>\n",
       "</tr>\n",
       "<tr>\n",
       "  <th>2015_q4</th>                 <td>    0.1991</td> <td>    0.376</td> <td>    0.529</td> <td> 0.597</td> <td>   -0.538</td> <td>    0.936</td>\n",
       "</tr>\n",
       "<tr>\n",
       "  <th>2015_q3</th>                 <td>    0.3059</td> <td>    0.366</td> <td>    0.837</td> <td> 0.403</td> <td>   -0.411</td> <td>    1.023</td>\n",
       "</tr>\n",
       "<tr>\n",
       "  <th>2015_q2</th>                 <td>   -0.5475</td> <td>    0.313</td> <td>   -1.748</td> <td> 0.080</td> <td>   -1.161</td> <td>    0.066</td>\n",
       "</tr>\n",
       "<tr>\n",
       "  <th>2015_q1</th>                 <td>    0.2704</td> <td>    0.287</td> <td>    0.944</td> <td> 0.345</td> <td>   -0.291</td> <td>    0.832</td>\n",
       "</tr>\n",
       "<tr>\n",
       "  <th>2014_q4</th>                 <td>   -0.0720</td> <td>    0.255</td> <td>   -0.282</td> <td> 0.778</td> <td>   -0.573</td> <td>    0.429</td>\n",
       "</tr>\n",
       "<tr>\n",
       "  <th>2014_q3</th>                 <td>   -0.1381</td> <td>    0.241</td> <td>   -0.572</td> <td> 0.567</td> <td>   -0.611</td> <td>    0.335</td>\n",
       "</tr>\n",
       "<tr>\n",
       "  <th>2014_q2</th>                 <td>    0.0103</td> <td>    0.260</td> <td>    0.040</td> <td> 0.968</td> <td>   -0.499</td> <td>    0.519</td>\n",
       "</tr>\n",
       "<tr>\n",
       "  <th>2014_q1</th>                 <td>    0.2405</td> <td>    0.277</td> <td>    0.869</td> <td> 0.385</td> <td>   -0.302</td> <td>    0.783</td>\n",
       "</tr>\n",
       "<tr>\n",
       "  <th>2013_q4</th>                 <td>    0.0405</td> <td>    0.235</td> <td>    0.172</td> <td> 0.863</td> <td>   -0.420</td> <td>    0.501</td>\n",
       "</tr>\n",
       "<tr>\n",
       "  <th>2013_q3</th>                 <td>   -0.2790</td> <td>    0.214</td> <td>   -1.304</td> <td> 0.192</td> <td>   -0.698</td> <td>    0.140</td>\n",
       "</tr>\n",
       "<tr>\n",
       "  <th>2013_q2</th>                 <td>    0.2642</td> <td>    0.240</td> <td>    1.099</td> <td> 0.272</td> <td>   -0.207</td> <td>    0.735</td>\n",
       "</tr>\n",
       "<tr>\n",
       "  <th>2013_q1</th>                 <td>   -0.0924</td> <td>    0.249</td> <td>   -0.371</td> <td> 0.711</td> <td>   -0.581</td> <td>    0.396</td>\n",
       "</tr>\n",
       "<tr>\n",
       "  <th>2012_q4</th>                 <td>   -0.1402</td> <td>    0.254</td> <td>   -0.551</td> <td> 0.581</td> <td>   -0.638</td> <td>    0.358</td>\n",
       "</tr>\n",
       "<tr>\n",
       "  <th>2012_q3</th>                 <td>    0.2710</td> <td>    0.231</td> <td>    1.172</td> <td> 0.241</td> <td>   -0.182</td> <td>    0.724</td>\n",
       "</tr>\n",
       "<tr>\n",
       "  <th>2012_q2</th>                 <td>    0.0846</td> <td>    0.237</td> <td>    0.357</td> <td> 0.721</td> <td>   -0.379</td> <td>    0.548</td>\n",
       "</tr>\n",
       "<tr>\n",
       "  <th>2012_q1</th>                 <td>   -0.1134</td> <td>    0.218</td> <td>   -0.520</td> <td> 0.603</td> <td>   -0.541</td> <td>    0.314</td>\n",
       "</tr>\n",
       "<tr>\n",
       "  <th>2011_q4</th>                 <td>    0.0062</td> <td>    0.156</td> <td>    0.040</td> <td> 0.968</td> <td>   -0.300</td> <td>    0.312</td>\n",
       "</tr>\n",
       "<tr>\n",
       "  <th>num_parks</th>               <td>   -0.1659</td> <td>    0.388</td> <td>   -0.428</td> <td> 0.669</td> <td>   -0.926</td> <td>    0.594</td>\n",
       "</tr>\n",
       "<tr>\n",
       "  <th>num_parking</th>             <td>    6.0132</td> <td>    2.360</td> <td>    2.548</td> <td> 0.011</td> <td>    1.388</td> <td>   10.638</td>\n",
       "</tr>\n",
       "<tr>\n",
       "  <th>num_train_st</th>            <td>   -0.7143</td> <td>    1.502</td> <td>   -0.476</td> <td> 0.634</td> <td>   -3.658</td> <td>    2.230</td>\n",
       "</tr>\n",
       "<tr>\n",
       "  <th>num_gas_st</th>              <td>    0.5053</td> <td>    0.350</td> <td>    1.443</td> <td> 0.149</td> <td>   -0.181</td> <td>    1.192</td>\n",
       "</tr>\n",
       "<tr>\n",
       "  <th>num_hotels</th>              <td>    0.6294</td> <td>    0.568</td> <td>    1.109</td> <td> 0.267</td> <td>   -0.483</td> <td>    1.742</td>\n",
       "</tr>\n",
       "<tr>\n",
       "  <th>num_supermarkets</th>        <td>    0.4794</td> <td>    1.455</td> <td>    0.329</td> <td> 0.742</td> <td>   -2.373</td> <td>    3.332</td>\n",
       "</tr>\n",
       "<tr>\n",
       "  <th>park_distance</th>           <td>    0.2321</td> <td>    0.388</td> <td>    0.598</td> <td> 0.550</td> <td>   -0.528</td> <td>    0.992</td>\n",
       "</tr>\n",
       "<tr>\n",
       "  <th>parking_distance</th>        <td>   -5.9684</td> <td>    2.355</td> <td>   -2.535</td> <td> 0.011</td> <td>  -10.584</td> <td>   -1.353</td>\n",
       "</tr>\n",
       "<tr>\n",
       "  <th>train_st_distance</th>       <td>    0.7301</td> <td>    1.497</td> <td>    0.488</td> <td> 0.626</td> <td>   -2.204</td> <td>    3.665</td>\n",
       "</tr>\n",
       "<tr>\n",
       "  <th>gas_st_distance</th>         <td>   -0.4538</td> <td>    0.349</td> <td>   -1.299</td> <td> 0.194</td> <td>   -1.138</td> <td>    0.231</td>\n",
       "</tr>\n",
       "<tr>\n",
       "  <th>hotel_distance</th>          <td>   -0.6635</td> <td>    0.562</td> <td>   -1.180</td> <td> 0.238</td> <td>   -1.766</td> <td>    0.439</td>\n",
       "</tr>\n",
       "<tr>\n",
       "  <th>supermarkets_distance</th>   <td>   -0.4792</td> <td>    1.453</td> <td>   -0.330</td> <td> 0.742</td> <td>   -3.327</td> <td>    2.368</td>\n",
       "</tr>\n",
       "<tr>\n",
       "  <th>elec_d_con</th>              <td>   -0.6863</td> <td>    0.460</td> <td>   -1.492</td> <td> 0.136</td> <td>   -1.588</td> <td>    0.215</td>\n",
       "</tr>\n",
       "<tr>\n",
       "  <th>d_meters</th>                <td>    0.1626</td> <td>    0.449</td> <td>    0.362</td> <td> 0.717</td> <td>   -0.718</td> <td>    1.043</td>\n",
       "</tr>\n",
       "<tr>\n",
       "  <th>elec_d_con_mean</th>         <td>   -0.5273</td> <td>    0.268</td> <td>   -1.970</td> <td> 0.049</td> <td>   -1.052</td> <td>   -0.003</td>\n",
       "</tr>\n",
       "<tr>\n",
       "  <th>elec_d_con_mdn</th>          <td>    1.1732</td> <td>    0.486</td> <td>    2.416</td> <td> 0.016</td> <td>    0.221</td> <td>    2.125</td>\n",
       "</tr>\n",
       "<tr>\n",
       "  <th>elec_nd_con</th>             <td>   12.4688</td> <td>    4.386</td> <td>    2.843</td> <td> 0.004</td> <td>    3.873</td> <td>   21.065</td>\n",
       "</tr>\n",
       "<tr>\n",
       "  <th>nd_meters</th>               <td>  -10.3119</td> <td>    4.763</td> <td>   -2.165</td> <td> 0.030</td> <td>  -19.647</td> <td>   -0.976</td>\n",
       "</tr>\n",
       "<tr>\n",
       "  <th>elec_nd_con_mean</th>        <td>   -0.0176</td> <td>    0.050</td> <td>   -0.350</td> <td> 0.726</td> <td>   -0.116</td> <td>    0.081</td>\n",
       "</tr>\n",
       "<tr>\n",
       "  <th>elec_nd_con_mdn</th>         <td>    1.3413</td> <td>    1.089</td> <td>    1.232</td> <td> 0.218</td> <td>   -0.793</td> <td>    3.475</td>\n",
       "</tr>\n",
       "<tr>\n",
       "  <th>residential_ratio</th>       <td>    3.1146</td> <td>    1.095</td> <td>    2.844</td> <td> 0.004</td> <td>    0.968</td> <td>    5.261</td>\n",
       "</tr>\n",
       "<tr>\n",
       "  <th>residential_meter_ratio</th> <td>   -1.1160</td> <td>    1.517</td> <td>   -0.736</td> <td> 0.462</td> <td>   -4.090</td> <td>    1.858</td>\n",
       "</tr>\n",
       "<tr>\n",
       "  <th>residential_mdn_ratio</th>   <td>   -1.9662</td> <td>    0.883</td> <td>   -2.227</td> <td> 0.026</td> <td>   -3.696</td> <td>   -0.236</td>\n",
       "</tr>\n",
       "<tr>\n",
       "  <th>metropolitan</th>            <td>   -0.5272</td> <td>    0.073</td> <td>   -7.193</td> <td> 0.000</td> <td>   -0.671</td> <td>   -0.384</td>\n",
       "</tr>\n",
       "</table>"
      ],
      "text/plain": [
       "<class 'statsmodels.iolib.summary.Summary'>\n",
       "\"\"\"\n",
       "                           Logit Regression Results                           \n",
       "==============================================================================\n",
       "Dep. Variable:                      y   No. Observations:                 6791\n",
       "Model:                          Logit   Df Residuals:                     6662\n",
       "Method:                           MLE   Df Model:                          128\n",
       "Date:                Mon, 02 Mar 2020   Pseudo R-squ.:                  0.2334\n",
       "Time:                        01:10:27   Log-Likelihood:                -3574.9\n",
       "converged:                       True   LL-Null:                       -4663.3\n",
       "Covariance Type:            nonrobust   LLR p-value:                     0.000\n",
       "===========================================================================================\n",
       "                              coef    std err          z      P>|z|      [0.025      0.975]\n",
       "-------------------------------------------------------------------------------------------\n",
       "income_score               -0.0258      0.483     -0.053      0.957      -0.972       0.920\n",
       "employment_score           -0.0540      0.231     -0.234      0.815      -0.506       0.398\n",
       "idaci_score                 0.0073      0.209      0.035      0.972      -0.403       0.417\n",
       "idaopi_score                0.2171      0.195      1.111      0.266      -0.166       0.600\n",
       "adultskills_score          -0.4277      0.106     -4.043      0.000      -0.635      -0.220\n",
       "health_score               -0.0392      0.104     -0.375      0.707      -0.244       0.166\n",
       "crime_score                -0.0016      0.061     -0.027      0.979      -0.122       0.118\n",
       "chanyp_score                0.0268      0.078      0.345      0.730      -0.125       0.179\n",
       "geo_bar_score               0.1304      0.061      2.147      0.032       0.011       0.249\n",
       "widerbar_score              0.0160      0.071      0.227      0.821      -0.122       0.154\n",
       "indoor_score               -0.1055      0.048     -2.177      0.030      -0.200      -0.011\n",
       "outdoor_score              -0.0798      0.054     -1.466      0.143      -0.187       0.027\n",
       "total_pop                  -0.0670      0.291     -0.230      0.818      -0.638       0.504\n",
       "under16_pop                 0.1559      0.119      1.309      0.191      -0.077       0.389\n",
       "16_59_pop                  -1.5384      0.820     -1.875      0.061      -3.146       0.070\n",
       "over60_pop                 -0.0160      0.143     -0.112      0.911      -0.296       0.264\n",
       "workingage_pop              1.5036      0.800      1.881      0.060      -0.064       3.071\n",
       "total_inc                  -0.2298      0.147     -1.564      0.118      -0.518       0.058\n",
       "total_netinc                0.0550      0.138      0.400      0.689      -0.215       0.325\n",
       "total_netb4hsing            0.2874      0.198      1.452      0.146      -0.100       0.675\n",
       "total_netafterhsing        -0.1233      0.174     -0.711      0.477      -0.463       0.217\n",
       "walk_work                   0.6449      0.297      2.173      0.030       0.063       1.227\n",
       "walk_empbus                -0.4778      0.187     -2.562      0.010      -0.843      -0.112\n",
       "walk_school                -0.2740      0.201     -1.362      0.173      -0.668       0.120\n",
       "walk_shopping              -0.4776      0.295     -1.621      0.105      -1.055       0.100\n",
       "walk_personbus              0.3733      0.270      1.383      0.167      -0.156       0.902\n",
       "walk_social                -0.0548      0.251     -0.219      0.827      -0.546       0.436\n",
       "walk_friends               -0.2677      0.244     -1.098      0.272      -0.746       0.210\n",
       "walk_holiday                0.0261      0.194      0.134      0.893      -0.355       0.407\n",
       "cycle_work                 -0.5495      0.225     -2.444      0.015      -0.990      -0.109\n",
       "cycle_empbus                0.2048      0.155      1.322      0.186      -0.099       0.508\n",
       "cycle_school               -0.0023      0.133     -0.017      0.986      -0.263       0.259\n",
       "cycle_shopping              0.4390      0.257      1.708      0.088      -0.065       0.943\n",
       "cycle_personbus            -0.1069      0.210     -0.509      0.610      -0.518       0.304\n",
       "cycle_social                0.2974      0.262      1.133      0.257      -0.217       0.812\n",
       "cycle_friends              -0.0461      0.206     -0.224      0.823      -0.450       0.357\n",
       "cycle_holiday              -0.2370      0.287     -0.825      0.409      -0.800       0.326\n",
       "cardriver_work             -0.2751      0.389     -0.706      0.480      -1.038       0.488\n",
       "cardriver_empbus            1.3191      0.339      3.887      0.000       0.654       1.984\n",
       "cardriver_school           -0.1189      0.155     -0.769      0.442      -0.422       0.184\n",
       "cardriver_shopping         -0.1700      0.215     -0.791      0.429      -0.591       0.251\n",
       "cardriver_personbus        -0.1292      0.192     -0.671      0.502      -0.506       0.248\n",
       "cardriver_social            0.0246      0.249      0.099      0.921      -0.463       0.512\n",
       "cardriver_friends           0.0168      0.211      0.080      0.936      -0.397       0.430\n",
       "cardriver_holiday           0.0902      0.345      0.262      0.794      -0.585       0.766\n",
       "carpassenger_work           0.2850      0.338      0.843      0.399      -0.377       0.947\n",
       "carpassenger_empbus        -0.4037      0.240     -1.685      0.092      -0.873       0.066\n",
       "carpassenger_school         0.3368      0.206      1.635      0.102      -0.067       0.740\n",
       "carpassenger_shopping      -0.0134      0.381     -0.035      0.972      -0.759       0.732\n",
       "carpassenger_personbus     -0.2661      0.342     -0.777      0.437      -0.937       0.405\n",
       "carpassenger_social        -0.1725      0.380     -0.455      0.649      -0.916       0.571\n",
       "carpassenger_friends       -0.1342      0.195     -0.686      0.492      -0.517       0.249\n",
       "carpassenger_holiday        0.0686      0.395      0.174      0.862      -0.705       0.843\n",
       "buscoach_work              -0.2424      0.376     -0.645      0.519      -0.979       0.494\n",
       "buscoach_empbus             0.7371      0.270      2.734      0.006       0.209       1.265\n",
       "buscoach_school            -0.1748      0.136     -1.283      0.199      -0.442       0.092\n",
       "buscoach_shopping           0.3425      0.357      0.959      0.338      -0.358       1.043\n",
       "buscoach_personbus         -0.3520      0.350     -1.006      0.315      -1.038       0.334\n",
       "buscoach_social            -0.0436      0.306     -0.142      0.887      -0.643       0.556\n",
       "buscoach_friends            0.0280      0.243      0.115      0.908      -0.449       0.505\n",
       "buscoach_holiday            0.5896      0.210      2.806      0.005       0.178       1.001\n",
       "rail_work                  -0.5309      0.230     -2.304      0.021      -0.983      -0.079\n",
       "rail_empbus                 0.0629      0.196      0.320      0.749      -0.322       0.448\n",
       "rail_school                -0.0673      0.151     -0.446      0.655      -0.363       0.228\n",
       "rail_shopping               0.6471      0.246      2.630      0.009       0.165       1.129\n",
       "rail_personbus              0.1668      0.228      0.730      0.466      -0.281       0.615\n",
       "rail_social                 0.1516      0.244      0.621      0.535      -0.327       0.630\n",
       "rail_friends               -0.1162      0.202     -0.576      0.565      -0.512       0.280\n",
       "rail_holiday               -0.0606      0.219     -0.276      0.782      -0.491       0.369\n",
       "no_car                     -0.3505      0.184     -1.908      0.056      -0.711       0.009\n",
       "one_car                     0.0908      0.189      0.481      0.631      -0.280       0.461\n",
       "two_car                    -0.2918      0.389     -0.750      0.453      -1.054       0.470\n",
       "three+_car                  0.3258      0.328      0.992      0.321      -0.318       0.970\n",
       "total_cars                 -0.5210      0.715     -0.729      0.466      -1.922       0.880\n",
       "2019_q2                    -0.1494      0.217     -0.689      0.491      -0.574       0.275\n",
       "2019_q1                     0.4630      0.666      0.696      0.487      -0.842       1.768\n",
       "2018_q4                    -0.4034      0.742     -0.544      0.586      -1.857       1.050\n",
       "2018_q3                     0.3298      0.642      0.513      0.608      -0.929       1.589\n",
       "2018_q2                    -0.4161      0.746     -0.558      0.577      -1.879       1.047\n",
       "2018_q1                    -0.2008      0.744     -0.270      0.787      -1.659       1.257\n",
       "2017_q4                    -0.5768      0.555     -1.039      0.299      -1.665       0.512\n",
       "2017_q3                     1.0440      0.581      1.796      0.072      -0.095       2.183\n",
       "2017_q2                    -0.5416      0.546     -0.991      0.322      -1.613       0.529\n",
       "2017_q1                     0.6349      0.569      1.115      0.265      -0.481       1.751\n",
       "2016_q4                    -0.4133      0.485     -0.852      0.394      -1.364       0.538\n",
       "2016_q3                     0.7644      0.462      1.655      0.098      -0.141       1.670\n",
       "2016_q2                    -0.5035      0.345     -1.457      0.145      -1.181       0.174\n",
       "2016_q1                    -0.1209      0.409     -0.295      0.768      -0.923       0.681\n",
       "2015_q4                     0.1991      0.376      0.529      0.597      -0.538       0.936\n",
       "2015_q3                     0.3059      0.366      0.837      0.403      -0.411       1.023\n",
       "2015_q2                    -0.5475      0.313     -1.748      0.080      -1.161       0.066\n",
       "2015_q1                     0.2704      0.287      0.944      0.345      -0.291       0.832\n",
       "2014_q4                    -0.0720      0.255     -0.282      0.778      -0.573       0.429\n",
       "2014_q3                    -0.1381      0.241     -0.572      0.567      -0.611       0.335\n",
       "2014_q2                     0.0103      0.260      0.040      0.968      -0.499       0.519\n",
       "2014_q1                     0.2405      0.277      0.869      0.385      -0.302       0.783\n",
       "2013_q4                     0.0405      0.235      0.172      0.863      -0.420       0.501\n",
       "2013_q3                    -0.2790      0.214     -1.304      0.192      -0.698       0.140\n",
       "2013_q2                     0.2642      0.240      1.099      0.272      -0.207       0.735\n",
       "2013_q1                    -0.0924      0.249     -0.371      0.711      -0.581       0.396\n",
       "2012_q4                    -0.1402      0.254     -0.551      0.581      -0.638       0.358\n",
       "2012_q3                     0.2710      0.231      1.172      0.241      -0.182       0.724\n",
       "2012_q2                     0.0846      0.237      0.357      0.721      -0.379       0.548\n",
       "2012_q1                    -0.1134      0.218     -0.520      0.603      -0.541       0.314\n",
       "2011_q4                     0.0062      0.156      0.040      0.968      -0.300       0.312\n",
       "num_parks                  -0.1659      0.388     -0.428      0.669      -0.926       0.594\n",
       "num_parking                 6.0132      2.360      2.548      0.011       1.388      10.638\n",
       "num_train_st               -0.7143      1.502     -0.476      0.634      -3.658       2.230\n",
       "num_gas_st                  0.5053      0.350      1.443      0.149      -0.181       1.192\n",
       "num_hotels                  0.6294      0.568      1.109      0.267      -0.483       1.742\n",
       "num_supermarkets            0.4794      1.455      0.329      0.742      -2.373       3.332\n",
       "park_distance               0.2321      0.388      0.598      0.550      -0.528       0.992\n",
       "parking_distance           -5.9684      2.355     -2.535      0.011     -10.584      -1.353\n",
       "train_st_distance           0.7301      1.497      0.488      0.626      -2.204       3.665\n",
       "gas_st_distance            -0.4538      0.349     -1.299      0.194      -1.138       0.231\n",
       "hotel_distance             -0.6635      0.562     -1.180      0.238      -1.766       0.439\n",
       "supermarkets_distance      -0.4792      1.453     -0.330      0.742      -3.327       2.368\n",
       "elec_d_con                 -0.6863      0.460     -1.492      0.136      -1.588       0.215\n",
       "d_meters                    0.1626      0.449      0.362      0.717      -0.718       1.043\n",
       "elec_d_con_mean            -0.5273      0.268     -1.970      0.049      -1.052      -0.003\n",
       "elec_d_con_mdn              1.1732      0.486      2.416      0.016       0.221       2.125\n",
       "elec_nd_con                12.4688      4.386      2.843      0.004       3.873      21.065\n",
       "nd_meters                 -10.3119      4.763     -2.165      0.030     -19.647      -0.976\n",
       "elec_nd_con_mean           -0.0176      0.050     -0.350      0.726      -0.116       0.081\n",
       "elec_nd_con_mdn             1.3413      1.089      1.232      0.218      -0.793       3.475\n",
       "residential_ratio           3.1146      1.095      2.844      0.004       0.968       5.261\n",
       "residential_meter_ratio    -1.1160      1.517     -0.736      0.462      -4.090       1.858\n",
       "residential_mdn_ratio      -1.9662      0.883     -2.227      0.026      -3.696      -0.236\n",
       "metropolitan               -0.5272      0.073     -7.193      0.000      -0.671      -0.384\n",
       "===========================================================================================\n",
       "\"\"\""
      ]
     },
     "execution_count": 5,
     "metadata": {},
     "output_type": "execute_result"
    }
   ],
   "source": [
    "import statsmodels.api as sm\n",
    "import statsmodels.formula.api as smf\n",
    "import patsy\n",
    "\n",
    "model = sm.Logit(y,X)\n",
    "results = model.fit()\n",
    "results.summary()\n",
    "#get_col_names(df)"
   ]
  },
  {
   "cell_type": "markdown",
   "metadata": {},
   "source": [
    "### Building classifier pipeline"
   ]
  },
  {
   "cell_type": "code",
   "execution_count": 15,
   "metadata": {
    "ExecuteTime": {
     "end_time": "2020-03-02T10:55:40.706054Z",
     "start_time": "2020-03-02T10:55:40.700600Z"
    }
   },
   "outputs": [],
   "source": [
    "#Function for executing preprocessing steps then running a classifier of choice\n",
    "def model_run(model,X_train,y_train,X_test,y_test):\n",
    "    classifier_pipeline = make_pipeline(\n",
    "    model)\n",
    "    classifier_pipeline.fit(X_train,y_train)\n",
    "    train =classifier_pipeline.score(X_train,y_train)\n",
    "    test =classifier_pipeline.score(X_test,y_test)\n",
    "    cross_val = cross_val_score(classifier_pipeline,X_train,y_train,cv=5).mean()\n",
    "    print(f\"Training score: {train:.3f}\")\n",
    "    print(f\"Testing score: {test:.3f}\")\n",
    "    print(f\"CrossVal score: {cross_val:.3f}\")\n",
    "    return classifier_pipeline\n",
    "    #return classifier_pipeline.fit()"
   ]
  },
  {
   "cell_type": "markdown",
   "metadata": {},
   "source": [
    "### Logistic regression"
   ]
  },
  {
   "cell_type": "code",
   "execution_count": 8,
   "metadata": {
    "ExecuteTime": {
     "end_time": "2020-03-02T01:11:39.496992Z",
     "start_time": "2020-03-02T01:11:36.465968Z"
    },
    "deletable": false,
    "editable": false,
    "run_control": {
     "frozen": true
    },
    "scrolled": true
   },
   "outputs": [
    {
     "name": "stdout",
     "output_type": "stream",
     "text": [
      "Training score: 0.733\n",
      "Testing score: 0.725\n",
      "CrossVal score: 0.714\n"
     ]
    }
   ],
   "source": [
    "#Running model with Logistic Regression\n",
    "log_r = LogisticRegression(random_state=0,solver='liblinear')\n",
    "log_r = model_run(log_r,X_train,y_train,X_test,y_test)"
   ]
  },
  {
   "cell_type": "code",
   "execution_count": 9,
   "metadata": {
    "ExecuteTime": {
     "end_time": "2020-03-02T01:11:41.034385Z",
     "start_time": "2020-03-02T01:11:41.029350Z"
    },
    "deletable": false,
    "editable": false,
    "run_control": {
     "frozen": true
    }
   },
   "outputs": [],
   "source": [
    "#Specifying GridSearch parameters\n",
    "params = {'logisticregression__C': np.logspace(-1,0),\n",
    " 'logisticregression__fit_intercept': [True],\n",
    "'logisticregression__class_weight': [None],\n",
    " 'logisticregression__penalty': ['l2'],\n",
    "    'logisticregression__verbose': [1],\n",
    "        'logisticregression__random_state':[0],\n",
    "          'logisticregression__intercept_scaling': [1]\n",
    "          \n",
    "}"
   ]
  },
  {
   "cell_type": "code",
   "execution_count": 10,
   "metadata": {
    "ExecuteTime": {
     "end_time": "2020-03-02T01:11:45.223098Z",
     "start_time": "2020-03-02T01:11:45.219018Z"
    },
    "deletable": false,
    "editable": false,
    "run_control": {
     "frozen": true
    }
   },
   "outputs": [],
   "source": [
    "grid_log_r = GridSearchCV(log_r,param_grid=params,cv=5,scoring='accuracy',verbose=1,n_jobs=-1)"
   ]
  },
  {
   "cell_type": "code",
   "execution_count": 12,
   "metadata": {
    "ExecuteTime": {
     "end_time": "2020-03-02T01:12:57.667288Z",
     "start_time": "2020-03-02T01:12:23.875823Z"
    },
    "deletable": false,
    "editable": false,
    "run_control": {
     "frozen": true
    },
    "scrolled": true
   },
   "outputs": [
    {
     "name": "stdout",
     "output_type": "stream",
     "text": [
      "Fitting 5 folds for each of 50 candidates, totalling 250 fits\n"
     ]
    },
    {
     "name": "stderr",
     "output_type": "stream",
     "text": [
      "[Parallel(n_jobs=-1)]: Using backend LokyBackend with 4 concurrent workers.\n",
      "[Parallel(n_jobs=-1)]: Done  42 tasks      | elapsed:    4.7s\n",
      "[Parallel(n_jobs=-1)]: Done 192 tasks      | elapsed:   23.1s\n",
      "[Parallel(n_jobs=-1)]: Done 250 out of 250 | elapsed:   33.3s finished\n"
     ]
    },
    {
     "name": "stdout",
     "output_type": "stream",
     "text": [
      "[LibLinear]"
     ]
    },
    {
     "data": {
      "text/plain": [
       "['../models/logistic_regression_model']"
      ]
     },
     "execution_count": 12,
     "metadata": {},
     "output_type": "execute_result"
    }
   ],
   "source": [
    "grid_log_r.fit(X_train,y_train)\n",
    "joblib.dump(grid_log_r, '../models/logistic_regression_model')"
   ]
  },
  {
   "cell_type": "code",
   "execution_count": 16,
   "metadata": {
    "ExecuteTime": {
     "end_time": "2020-03-02T10:56:03.524218Z",
     "start_time": "2020-03-02T10:56:03.506859Z"
    }
   },
   "outputs": [
    {
     "data": {
      "text/plain": [
       "0.7179630015536027"
      ]
     },
     "execution_count": 16,
     "metadata": {},
     "output_type": "execute_result"
    }
   ],
   "source": [
    "model_001 = joblib.load('../models/logistic_regression_model')\n",
    "model_001.best_score_"
   ]
  },
  {
   "cell_type": "code",
   "execution_count": 17,
   "metadata": {
    "ExecuteTime": {
     "end_time": "2020-03-02T10:56:04.791826Z",
     "start_time": "2020-03-02T10:56:04.785877Z"
    }
   },
   "outputs": [
    {
     "data": {
      "text/plain": [
       "{'logisticregression__C': 0.21209508879201905,\n",
       " 'logisticregression__class_weight': None,\n",
       " 'logisticregression__fit_intercept': True,\n",
       " 'logisticregression__intercept_scaling': 1,\n",
       " 'logisticregression__penalty': 'l2',\n",
       " 'logisticregression__random_state': 0,\n",
       " 'logisticregression__verbose': 1}"
      ]
     },
     "execution_count": 17,
     "metadata": {},
     "output_type": "execute_result"
    }
   ],
   "source": [
    "model_001.best_params_"
   ]
  },
  {
   "cell_type": "code",
   "execution_count": 76,
   "metadata": {
    "ExecuteTime": {
     "end_time": "2020-03-02T11:43:38.744398Z",
     "start_time": "2020-03-02T11:43:38.427955Z"
    }
   },
   "outputs": [
    {
     "data": {
      "image/png": "[encoded data removed]",
      "text/plain": [
       "<Figure size 432x288 with 2 Axes>"
      ]
     },
     "metadata": {
      "needs_background": "light"
     },
     "output_type": "display_data"
    }
   ],
   "source": [
    "import matplotlib.pyplot as plt\n",
    "plot_confusion_matrix(y_test,model_001.predict(X_test))\n",
    "plt.ylim(-0.5,1.5);\n",
    "plt.savefig(\"../reports/figures/modelling/logistic_regression_confusion_matrix.jpg\",dpi=144)"
   ]
  },
  {
   "cell_type": "code",
   "execution_count": 19,
   "metadata": {
    "ExecuteTime": {
     "end_time": "2020-03-02T10:56:08.145564Z",
     "start_time": "2020-03-02T10:56:08.128204Z"
    }
   },
   "outputs": [
    {
     "name": "stdout",
     "output_type": "stream",
     "text": [
      "              precision    recall  f1-score   support\n",
      "\n",
      "           0       0.74      0.79      0.76       757\n",
      "           1       0.71      0.65      0.68       602\n",
      "\n",
      "    accuracy                           0.72      1359\n",
      "   macro avg       0.72      0.72      0.72      1359\n",
      "weighted avg       0.72      0.72      0.72      1359\n",
      "\n"
     ]
    }
   ],
   "source": [
    "print(classification_report(y_test,model_001.predict(X_test)))"
   ]
  },
  {
   "cell_type": "code",
   "execution_count": 81,
   "metadata": {
    "ExecuteTime": {
     "end_time": "2020-03-02T11:51:14.226290Z",
     "start_time": "2020-03-02T11:51:13.595869Z"
    }
   },
   "outputs": [
    {
     "data": {
      "image/png": "[encoded data removed]",
      "text/plain": [
       "<Figure size 432x288 with 1 Axes>"
      ]
     },
     "metadata": {
      "needs_background": "light"
     },
     "output_type": "display_data"
    },
    {
     "data": {
      "image/png": "[encoded data removed]",
      "text/plain": [
       "<Figure size 432x288 with 1 Axes>"
      ]
     },
     "metadata": {
      "needs_background": "light"
     },
     "output_type": "display_data"
    }
   ],
   "source": [
    "skplt.metrics.plot_roc_curve(y_test,model_001.predict_proba(X_test))\n",
    "plt.savefig(\"../reports/figures/modelling/logistic_regression_roc_curves.jpg\",dpi=144)\n",
    "skplt.metrics.plot_precision_recall_curve(y_test,model_001.predict_proba(X_test))\n",
    "plt.savefig(\"../reports/figures/modelling/logistic_regression_pr_curves.jpg\",dpi=144);"
   ]
  },
  {
   "cell_type": "markdown",
   "metadata": {
    "deletable": false,
    "editable": false,
    "run_control": {
     "frozen": true
    }
   },
   "source": [
    "### Decision Tree"
   ]
  },
  {
   "cell_type": "code",
   "execution_count": 18,
   "metadata": {
    "ExecuteTime": {
     "end_time": "2020-03-02T09:24:57.159414Z",
     "start_time": "2020-03-02T09:24:56.603070Z"
    },
    "deletable": false,
    "editable": false,
    "run_control": {
     "frozen": true
    }
   },
   "outputs": [
    {
     "name": "stdout",
     "output_type": "stream",
     "text": [
      "Training score: 0.682\n",
      "Testing score: 0.685\n",
      "CrossVal score: 0.675\n"
     ]
    }
   ],
   "source": [
    "#Running model with DecisionTreeClassifier\n",
    "d_tree = DecisionTreeClassifier(max_depth=2,random_state=0)\n",
    "d_tree = model_run(d_tree,X_train,y_train,X_test,y_test)\n",
    "\n",
    "#Specifying GridSearch parameters\n",
    "params = {'decisiontreeclassifier__class_weight': [None,'balanced'],\n",
    " 'decisiontreeclassifier__criterion': ['gini','entropy'],\n",
    " 'decisiontreeclassifier__max_depth': range(2,10),\n",
    " 'decisiontreeclassifier__max_features': [None],\n",
    " 'decisiontreeclassifier__max_leaf_nodes': [None],\n",
    " 'decisiontreeclassifier__min_impurity_decrease': [0.0],\n",
    " 'decisiontreeclassifier__min_impurity_split': [None],\n",
    " 'decisiontreeclassifier__min_samples_leaf': [1],\n",
    " 'decisiontreeclassifier__min_samples_split': [2],\n",
    " 'decisiontreeclassifier__min_weight_fraction_leaf': [0.0],\n",
    " 'decisiontreeclassifier__presort': [False],\n",
    " 'decisiontreeclassifier__random_state': [0],\n",
    " 'decisiontreeclassifier__splitter': ['best']}\n"
   ]
  },
  {
   "cell_type": "code",
   "execution_count": 21,
   "metadata": {
    "ExecuteTime": {
     "end_time": "2020-03-02T09:26:30.095673Z",
     "start_time": "2020-03-02T09:26:30.091706Z"
    },
    "deletable": false,
    "editable": false,
    "run_control": {
     "frozen": true
    }
   },
   "outputs": [],
   "source": [
    "grid_d_tree = GridSearchCV(d_tree,param_grid=params,cv=5,scoring='accuracy',verbose=1,n_jobs=-1)"
   ]
  },
  {
   "cell_type": "code",
   "execution_count": 22,
   "metadata": {
    "ExecuteTime": {
     "end_time": "2020-03-02T09:27:04.478959Z",
     "start_time": "2020-03-02T09:26:38.621505Z"
    },
    "deletable": false,
    "editable": false,
    "run_control": {
     "frozen": true
    }
   },
   "outputs": [
    {
     "name": "stdout",
     "output_type": "stream",
     "text": [
      "Fitting 5 folds for each of 32 candidates, totalling 160 fits\n"
     ]
    },
    {
     "name": "stderr",
     "output_type": "stream",
     "text": [
      "[Parallel(n_jobs=-1)]: Using backend LokyBackend with 4 concurrent workers.\n",
      "[Parallel(n_jobs=-1)]: Done  42 tasks      | elapsed:    5.7s\n",
      "[Parallel(n_jobs=-1)]: Done 160 out of 160 | elapsed:   25.4s finished\n"
     ]
    },
    {
     "data": {
      "text/plain": [
       "['../models/decision_tree_model']"
      ]
     },
     "execution_count": 22,
     "metadata": {},
     "output_type": "execute_result"
    }
   ],
   "source": [
    "grid_d_tree.fit(X_train,y_train)\n",
    "joblib.dump(grid_d_tree, '../models/decision_tree_model')"
   ]
  },
  {
   "cell_type": "code",
   "execution_count": 21,
   "metadata": {
    "ExecuteTime": {
     "end_time": "2020-03-02T10:56:27.379844Z",
     "start_time": "2020-03-02T10:56:27.364967Z"
    }
   },
   "outputs": [
    {
     "data": {
      "text/plain": [
       "0.6868555386697976"
      ]
     },
     "execution_count": 21,
     "metadata": {},
     "output_type": "execute_result"
    }
   ],
   "source": [
    "model_002 = joblib.load('../models/decision_tree_model')\n",
    "model_002.best_score_"
   ]
  },
  {
   "cell_type": "code",
   "execution_count": 22,
   "metadata": {
    "ExecuteTime": {
     "end_time": "2020-03-02T10:56:29.448831Z",
     "start_time": "2020-03-02T10:56:29.275233Z"
    }
   },
   "outputs": [
    {
     "data": {
      "text/plain": [
       "(-0.5, 1.5)"
      ]
     },
     "execution_count": 22,
     "metadata": {},
     "output_type": "execute_result"
    },
    {
     "data": {
      "image/png": "[encoded data removed]",
      "text/plain": [
       "<Figure size 432x288 with 2 Axes>"
      ]
     },
     "metadata": {
      "needs_background": "light"
     },
     "output_type": "display_data"
    }
   ],
   "source": [
    "plot_confusion_matrix(y_test,model_002.predict(X_test))\n",
    "plt.ylim(-0.5,1.5)"
   ]
  },
  {
   "cell_type": "code",
   "execution_count": 23,
   "metadata": {
    "ExecuteTime": {
     "end_time": "2020-03-02T10:56:31.118000Z",
     "start_time": "2020-03-02T10:56:31.103616Z"
    }
   },
   "outputs": [
    {
     "name": "stdout",
     "output_type": "stream",
     "text": [
      "              precision    recall  f1-score   support\n",
      "\n",
      "           0       0.73      0.71      0.72       757\n",
      "           1       0.65      0.67      0.66       602\n",
      "\n",
      "    accuracy                           0.69      1359\n",
      "   macro avg       0.69      0.69      0.69      1359\n",
      "weighted avg       0.69      0.69      0.69      1359\n",
      "\n"
     ]
    }
   ],
   "source": [
    "print(classification_report(y_test,model_002.predict(X_test)))"
   ]
  },
  {
   "cell_type": "code",
   "execution_count": 24,
   "metadata": {
    "ExecuteTime": {
     "end_time": "2020-03-02T10:56:33.293920Z",
     "start_time": "2020-03-02T10:56:32.913489Z"
    },
    "scrolled": false
   },
   "outputs": [
    {
     "data": {
      "image/png": "[encoded data removed]",
      "text/plain": [
       "<Figure size 432x288 with 1 Axes>"
      ]
     },
     "metadata": {
      "needs_background": "light"
     },
     "output_type": "display_data"
    },
    {
     "data": {
      "image/png": "[encoded data removed]",
      "text/plain": [
       "<Figure size 432x288 with 1 Axes>"
      ]
     },
     "metadata": {
      "needs_background": "light"
     },
     "output_type": "display_data"
    }
   ],
   "source": [
    "skplt.metrics.plot_roc_curve(y_test,model_002.predict_proba(X_test))\n",
    "skplt.metrics.plot_precision_recall_curve(y_test,model_002.predict_proba(X_test));"
   ]
  },
  {
   "cell_type": "markdown",
   "metadata": {
    "deletable": false,
    "editable": false,
    "run_control": {
     "frozen": true
    }
   },
   "source": [
    "### Gaussian Naive Bayes"
   ]
  },
  {
   "cell_type": "code",
   "execution_count": 27,
   "metadata": {
    "ExecuteTime": {
     "end_time": "2020-03-02T09:28:19.294228Z",
     "start_time": "2020-03-02T09:28:19.070037Z"
    },
    "deletable": false,
    "editable": false,
    "run_control": {
     "frozen": true
    }
   },
   "outputs": [
    {
     "name": "stdout",
     "output_type": "stream",
     "text": [
      "Training score: 0.686\n",
      "Testing score: 0.692\n",
      "CrossVal score: 0.686\n"
     ]
    }
   ],
   "source": [
    "#Running model with DecisionTreeClassifier\n",
    "gaus_nb =GaussianNB()\n",
    "gaus_nb = model_run(gaus_nb,X_train,y_train,X_test,y_test)"
   ]
  },
  {
   "cell_type": "code",
   "execution_count": 28,
   "metadata": {
    "ExecuteTime": {
     "end_time": "2020-03-02T09:28:26.154974Z",
     "start_time": "2020-03-02T09:28:26.137617Z"
    },
    "deletable": false,
    "editable": false,
    "run_control": {
     "frozen": true
    }
   },
   "outputs": [],
   "source": [
    "joblib.dump(gaus_nb, '../models/gaussian_naivebayes_model')"
   ]
  },
  {
   "cell_type": "code",
   "execution_count": 25,
   "metadata": {
    "ExecuteTime": {
     "end_time": "2020-03-02T10:57:09.174040Z",
     "start_time": "2020-03-02T10:57:09.169081Z"
    }
   },
   "outputs": [],
   "source": [
    "model_003 = joblib.load('../models/gaussian_naivebayes_model')"
   ]
  },
  {
   "cell_type": "code",
   "execution_count": 26,
   "metadata": {
    "ExecuteTime": {
     "end_time": "2020-03-02T10:57:13.739387Z",
     "start_time": "2020-03-02T10:57:13.519165Z"
    }
   },
   "outputs": [
    {
     "data": {
      "text/plain": [
       "(-0.5, 1.5)"
      ]
     },
     "execution_count": 26,
     "metadata": {},
     "output_type": "execute_result"
    },
    {
     "data": {
      "image/png": "[encoded data removed]",
      "text/plain": [
       "<Figure size 432x288 with 2 Axes>"
      ]
     },
     "metadata": {
      "needs_background": "light"
     },
     "output_type": "display_data"
    }
   ],
   "source": [
    "plot_confusion_matrix(y_test,model_003.predict(X_test))\n",
    "plt.ylim(-0.5,1.5)"
   ]
  },
  {
   "cell_type": "code",
   "execution_count": 27,
   "metadata": {
    "ExecuteTime": {
     "end_time": "2020-03-02T10:57:14.418409Z",
     "start_time": "2020-03-02T10:57:14.398569Z"
    }
   },
   "outputs": [
    {
     "name": "stdout",
     "output_type": "stream",
     "text": [
      "              precision    recall  f1-score   support\n",
      "\n",
      "           0       0.72      0.73      0.72       757\n",
      "           1       0.65      0.65      0.65       602\n",
      "\n",
      "    accuracy                           0.69      1359\n",
      "   macro avg       0.69      0.69      0.69      1359\n",
      "weighted avg       0.69      0.69      0.69      1359\n",
      "\n"
     ]
    }
   ],
   "source": [
    "print(classification_report(y_test,model_003.predict(X_test)))"
   ]
  },
  {
   "cell_type": "code",
   "execution_count": 28,
   "metadata": {
    "ExecuteTime": {
     "end_time": "2020-03-02T10:57:15.844130Z",
     "start_time": "2020-03-02T10:57:15.357195Z"
    },
    "scrolled": false
   },
   "outputs": [
    {
     "data": {
      "image/png": "[encoded data removed]",
      "text/plain": [
       "<Figure size 432x288 with 1 Axes>"
      ]
     },
     "metadata": {
      "needs_background": "light"
     },
     "output_type": "display_data"
    },
    {
     "data": {
      "image/png": "[encoded data removed]",
      "text/plain": [
       "<Figure size 432x288 with 1 Axes>"
      ]
     },
     "metadata": {
      "needs_background": "light"
     },
     "output_type": "display_data"
    }
   ],
   "source": [
    "skplt.metrics.plot_roc_curve(y_test,model_003.predict_proba(X_test))\n",
    "skplt.metrics.plot_precision_recall_curve(y_test,model_003.predict_proba(X_test));"
   ]
  },
  {
   "cell_type": "markdown",
   "metadata": {},
   "source": [
    "### Support Vectors (Linear Model)"
   ]
  },
  {
   "cell_type": "code",
   "execution_count": 32,
   "metadata": {
    "ExecuteTime": {
     "end_time": "2020-03-02T09:30:07.621313Z",
     "start_time": "2020-03-02T09:30:07.617348Z"
    },
    "deletable": false,
    "editable": false,
    "run_control": {
     "frozen": true
    }
   },
   "outputs": [],
   "source": [
    "from sklearn.svm import LinearSVC\n",
    "linear_svc = LinearSVC(random_state=0)"
   ]
  },
  {
   "cell_type": "code",
   "execution_count": 34,
   "metadata": {
    "ExecuteTime": {
     "end_time": "2020-03-02T09:30:43.469033Z",
     "start_time": "2020-03-02T09:30:34.300194Z"
    },
    "deletable": false,
    "editable": false,
    "run_control": {
     "frozen": true
    }
   },
   "outputs": [
    {
     "name": "stdout",
     "output_type": "stream",
     "text": [
      "Training score: 0.734\n",
      "Testing score: 0.720\n",
      "CrossVal score: 0.715\n"
     ]
    }
   ],
   "source": [
    "linear_svc = model_run(linear_svc,X_train,y_train,X_test,y_test)"
   ]
  },
  {
   "cell_type": "code",
   "execution_count": 38,
   "metadata": {
    "ExecuteTime": {
     "end_time": "2020-03-02T09:31:36.418257Z",
     "start_time": "2020-03-02T09:31:36.411314Z"
    },
    "deletable": false,
    "editable": false,
    "run_control": {
     "frozen": true
    }
   },
   "outputs": [
    {
     "data": {
      "text/plain": [
       "LinearSVC(C=1.0, class_weight=None, dual=True, fit_intercept=True,\n",
       "          intercept_scaling=1, loss='squared_hinge', max_iter=1000,\n",
       "          multi_class='ovr', penalty='l2', random_state=0, tol=0.0001,\n",
       "          verbose=0)"
      ]
     },
     "execution_count": 38,
     "metadata": {},
     "output_type": "execute_result"
    }
   ],
   "source": [
    "linear_svc.named_steps['linearsvc']"
   ]
  },
  {
   "cell_type": "code",
   "execution_count": 40,
   "metadata": {
    "ExecuteTime": {
     "end_time": "2020-03-02T09:34:29.993907Z",
     "start_time": "2020-03-02T09:34:29.985475Z"
    },
    "deletable": false,
    "editable": false,
    "run_control": {
     "frozen": true
    }
   },
   "outputs": [],
   "source": [
    "params = {'linearsvc__C': np.logspace(-1,1,10),\n",
    " 'linearsvc__class_weight': [None,'balanced'],\n",
    " 'linearsvc__dual': [True],\n",
    " 'linearsvc__fit_intercept': [True],\n",
    " 'linearsvc__intercept_scaling': [1],\n",
    " 'linearsvc__loss': ['squared_hinge'],\n",
    " 'linearsvc__multi_class': ['ovr'],\n",
    " 'linearsvc__penalty': ['l2']}"
   ]
  },
  {
   "cell_type": "code",
   "execution_count": 41,
   "metadata": {
    "ExecuteTime": {
     "end_time": "2020-03-02T09:36:41.152153Z",
     "start_time": "2020-03-02T09:35:18.375764Z"
    },
    "deletable": false,
    "editable": false,
    "run_control": {
     "frozen": true
    }
   },
   "outputs": [
    {
     "name": "stdout",
     "output_type": "stream",
     "text": [
      "Fitting 5 folds for each of 20 candidates, totalling 100 fits\n"
     ]
    },
    {
     "name": "stderr",
     "output_type": "stream",
     "text": [
      "[Parallel(n_jobs=-1)]: Using backend LokyBackend with 4 concurrent workers.\n",
      "[Parallel(n_jobs=-1)]: Done  42 tasks      | elapsed:   33.1s\n",
      "[Parallel(n_jobs=-1)]: Done 100 out of 100 | elapsed:  1.3min finished\n"
     ]
    },
    {
     "data": {
      "text/plain": [
       "GridSearchCV(cv=5, error_score=nan,\n",
       "             estimator=Pipeline(memory=None,\n",
       "                                steps=[('linearsvc',\n",
       "                                        LinearSVC(C=1.0, class_weight=None,\n",
       "                                                  dual=True, fit_intercept=True,\n",
       "                                                  intercept_scaling=1,\n",
       "                                                  loss='squared_hinge',\n",
       "                                                  max_iter=1000,\n",
       "                                                  multi_class='ovr',\n",
       "                                                  penalty='l2', random_state=0,\n",
       "                                                  tol=0.0001, verbose=0))],\n",
       "                                verbose=False),\n",
       "             iid='deprecated', n_jobs=-1,\n",
       "             param_grid={'linearsvc__C': array([ 0...\n",
       "        1.29154967,  2.15443469,  3.59381366,  5.9948425 , 10.        ]),\n",
       "                         'linearsvc__class_weight': [None, 'balanced'],\n",
       "                         'linearsvc__dual': [True],\n",
       "                         'linearsvc__fit_intercept': [True],\n",
       "                         'linearsvc__intercept_scaling': [1],\n",
       "                         'linearsvc__loss': ['squared_hinge'],\n",
       "                         'linearsvc__multi_class': ['ovr'],\n",
       "                         'linearsvc__penalty': ['l2']},\n",
       "             pre_dispatch='2*n_jobs', refit=True, return_train_score=False,\n",
       "             scoring='accuracy', verbose=1)"
      ]
     },
     "execution_count": 41,
     "metadata": {},
     "output_type": "execute_result"
    }
   ],
   "source": [
    "grid_d_linsvc = GridSearchCV(linear_svc,param_grid=params,cv=5,scoring='accuracy',verbose=1,n_jobs=-1)\n",
    "grid_d_linsvc.fit(X_train,y_train)"
   ]
  },
  {
   "cell_type": "code",
   "execution_count": 42,
   "metadata": {
    "ExecuteTime": {
     "end_time": "2020-03-02T09:39:23.349221Z",
     "start_time": "2020-03-02T09:39:23.334838Z"
    },
    "deletable": false,
    "editable": false,
    "run_control": {
     "frozen": true
    }
   },
   "outputs": [
    {
     "data": {
      "text/plain": [
       "['../models/linear_svm_model']"
      ]
     },
     "execution_count": 42,
     "metadata": {},
     "output_type": "execute_result"
    }
   ],
   "source": [
    "joblib.dump(grid_d_linsvc, '../models/linear_svm_model')"
   ]
  },
  {
   "cell_type": "code",
   "execution_count": 29,
   "metadata": {
    "ExecuteTime": {
     "end_time": "2020-03-02T10:57:46.279939Z",
     "start_time": "2020-03-02T10:57:46.268034Z"
    }
   },
   "outputs": [
    {
     "data": {
      "text/plain": [
       "0.7170442243083758"
      ]
     },
     "execution_count": 29,
     "metadata": {},
     "output_type": "execute_result"
    }
   ],
   "source": [
    "model_004 = joblib.load('../models/linear_svm_model')\n",
    "model_004.best_score_"
   ]
  },
  {
   "cell_type": "markdown",
   "metadata": {},
   "source": [
    "### Support Vectors (Radial Based)"
   ]
  },
  {
   "cell_type": "code",
   "execution_count": null,
   "metadata": {
    "ExecuteTime": {
     "end_time": "2020-03-02T01:01:17.111574Z",
     "start_time": "2020-03-02T01:00:55.949254Z"
    },
    "deletable": false,
    "editable": false,
    "run_control": {
     "frozen": true
    }
   },
   "outputs": [],
   "source": [
    "#Running model with SVM\n",
    "svc = SVC(random_state=0)\n",
    "svc = model_run(svc,X_train,y_train,X_test,y_test)"
   ]
  },
  {
   "cell_type": "code",
   "execution_count": null,
   "metadata": {
    "ExecuteTime": {
     "end_time": "2020-03-02T01:03:19.999110Z",
     "start_time": "2020-03-02T01:03:19.992166Z"
    },
    "deletable": false,
    "editable": false,
    "run_control": {
     "frozen": true
    }
   },
   "outputs": [],
   "source": [
    "svc.named_steps['svc']"
   ]
  },
  {
   "cell_type": "code",
   "execution_count": null,
   "metadata": {
    "ExecuteTime": {
     "end_time": "2020-03-02T01:04:28.876503Z",
     "start_time": "2020-03-02T01:04:28.870055Z"
    },
    "deletable": false,
    "editable": false,
    "run_control": {
     "frozen": true
    }
   },
   "outputs": [],
   "source": [
    "#Specifying GridSearch parameters\n",
    "params = {'svc__C': np.logspace(-1,1,10),\n",
    " 'svc__class_weight': [None,'balanced'],\n",
    " 'svc__coef0': [0.0],\n",
    " 'svc__decision_function_shape': ['ovr'],\n",
    " 'svc__degree': [3],\n",
    " 'svc__gamma': ['auto'],\n",
    " 'svc__kernel': ['rbf'],\n",
    " 'svc__max_iter': [-1],\n",
    " 'svc__probability': [True],\n",
    " 'svc__random_state': [0],\n",
    " 'svc__shrinking': [True],\n",
    " 'svc__tol': [0.001],\n",
    " 'svc__verbose': [1]}\n"
   ]
  },
  {
   "cell_type": "code",
   "execution_count": null,
   "metadata": {
    "ExecuteTime": {
     "start_time": "2020-03-02T01:05:17.707Z"
    },
    "deletable": false,
    "editable": false,
    "run_control": {
     "frozen": true
    }
   },
   "outputs": [],
   "source": [
    "grid_d_svc = GridSearchCV(svc,param_grid=params,cv=5,scoring='accuracy',verbose=1,n_jobs=-1)\n",
    "grid_d_svc.fit(X_train,y_train)"
   ]
  },
  {
   "cell_type": "code",
   "execution_count": null,
   "metadata": {
    "deletable": false,
    "editable": false,
    "run_control": {
     "frozen": true
    }
   },
   "outputs": [],
   "source": [
    "joblib.dump(grid_d_svc, '../models/rbf_svm_model')\n",
    "model_004a = joblib.load('../models/rbf_svm_model')\n",
    "model_004a.best_score_"
   ]
  },
  {
   "cell_type": "code",
   "execution_count": null,
   "metadata": {
    "deletable": false,
    "editable": false,
    "run_control": {
     "frozen": true
    }
   },
   "outputs": [],
   "source": [
    "model_004a.best_params_"
   ]
  },
  {
   "cell_type": "code",
   "execution_count": null,
   "metadata": {
    "deletable": false,
    "editable": false,
    "run_control": {
     "frozen": true
    }
   },
   "outputs": [],
   "source": [
    "plot_confusion_matrix(y_test,model_004.predict(X_test))\n",
    "plt.ylim(-0.5,1.5)"
   ]
  },
  {
   "cell_type": "code",
   "execution_count": null,
   "metadata": {
    "deletable": false,
    "editable": false,
    "run_control": {
     "frozen": true
    }
   },
   "outputs": [],
   "source": [
    "print(classification_report(y_test,model_004.predict(X_test)))"
   ]
  },
  {
   "cell_type": "code",
   "execution_count": null,
   "metadata": {
    "deletable": false,
    "editable": false,
    "run_control": {
     "frozen": true
    },
    "scrolled": false
   },
   "outputs": [],
   "source": [
    "skplt.metrics.plot_roc_curve(y_test,model_004.predict_proba(X_test))\n",
    "skplt.metrics.plot_precision_recall_curve(y_test,model_004.predict_proba(X_test));"
   ]
  },
  {
   "cell_type": "markdown",
   "metadata": {
    "deletable": false,
    "editable": false,
    "run_control": {
     "frozen": true
    }
   },
   "source": [
    "### K Nearest Neighbours"
   ]
  },
  {
   "cell_type": "code",
   "execution_count": 44,
   "metadata": {
    "ExecuteTime": {
     "end_time": "2020-03-02T09:41:44.432850Z",
     "start_time": "2020-03-02T09:41:27.246962Z"
    },
    "deletable": false,
    "editable": false,
    "run_control": {
     "frozen": true
    }
   },
   "outputs": [
    {
     "name": "stdout",
     "output_type": "stream",
     "text": [
      "Training score: 0.781\n",
      "Testing score: 0.684\n",
      "CrossVal score: 0.670\n"
     ]
    }
   ],
   "source": [
    "knn = KNeighborsClassifier()\n",
    "knn = model_run(knn,X_train,y_train,X_test,y_test)"
   ]
  },
  {
   "cell_type": "code",
   "execution_count": 45,
   "metadata": {
    "ExecuteTime": {
     "end_time": "2020-03-02T10:24:30.408920Z",
     "start_time": "2020-03-02T10:24:30.396959Z"
    },
    "deletable": false,
    "editable": false,
    "run_control": {
     "frozen": true
    }
   },
   "outputs": [],
   "source": [
    "#Specifying GridSearch parameters\n",
    "params = {'kneighborsclassifier__algorithm': ['auto'],\n",
    " 'kneighborsclassifier__leaf_size': [30],\n",
    " 'kneighborsclassifier__metric': ['minkowski'],\n",
    " 'kneighborsclassifier__metric_params': [None],\n",
    " 'kneighborsclassifier__n_jobs': [-1],\n",
    " 'kneighborsclassifier__n_neighbors': range(2,10),\n",
    " 'kneighborsclassifier__p': [2],\n",
    " 'kneighborsclassifier__weights': ['uniform']}"
   ]
  },
  {
   "cell_type": "code",
   "execution_count": 46,
   "metadata": {
    "ExecuteTime": {
     "end_time": "2020-03-02T10:24:59.461250Z",
     "start_time": "2020-03-02T10:24:35.293639Z"
    },
    "deletable": false,
    "editable": false,
    "run_control": {
     "frozen": true
    }
   },
   "outputs": [
    {
     "name": "stdout",
     "output_type": "stream",
     "text": [
      "Fitting 5 folds for each of 8 candidates, totalling 40 fits\n"
     ]
    },
    {
     "name": "stderr",
     "output_type": "stream",
     "text": [
      "[Parallel(n_jobs=1)]: Using backend SequentialBackend with 1 concurrent workers.\n",
      "[Parallel(n_jobs=1)]: Done  40 out of  40 | elapsed:   23.9s finished\n"
     ]
    },
    {
     "data": {
      "text/plain": [
       "GridSearchCV(cv=5, error_score=nan,\n",
       "             estimator=Pipeline(memory=None,\n",
       "                                steps=[('kneighborsclassifier',\n",
       "                                        KNeighborsClassifier(algorithm='auto',\n",
       "                                                             leaf_size=30,\n",
       "                                                             metric='minkowski',\n",
       "                                                             metric_params=None,\n",
       "                                                             n_jobs=None,\n",
       "                                                             n_neighbors=5, p=2,\n",
       "                                                             weights='uniform'))],\n",
       "                                verbose=False),\n",
       "             iid='deprecated', n_jobs=None,\n",
       "             param_grid={'kneighborsclassifier__algorithm': ['auto'],\n",
       "                         'kneighborsclas..._size': [30],\n",
       "                         'kneighborsclassifier__metric': ['minkowski'],\n",
       "                         'kneighborsclassifier__metric_params': [None],\n",
       "                         'kneighborsclassifier__n_jobs': [-1],\n",
       "                         'kneighborsclassifier__n_neighbors': range(2, 10),\n",
       "                         'kneighborsclassifier__p': [2],\n",
       "                         'kneighborsclassifier__weights': ['uniform']},\n",
       "             pre_dispatch='2*n_jobs', refit=True, return_train_score=False,\n",
       "             scoring='accuracy', verbose=1)"
      ]
     },
     "execution_count": 46,
     "metadata": {},
     "output_type": "execute_result"
    }
   ],
   "source": [
    "grid_knn = GridSearchCV(knn,param_grid=params,cv=5,scoring='accuracy',verbose=1)\n",
    "grid_knn.fit(X_train,y_train)"
   ]
  },
  {
   "cell_type": "code",
   "execution_count": 47,
   "metadata": {
    "ExecuteTime": {
     "end_time": "2020-03-02T10:35:34.463521Z",
     "start_time": "2020-03-02T10:35:34.389122Z"
    },
    "deletable": false,
    "editable": false,
    "run_control": {
     "frozen": true
    }
   },
   "outputs": [
    {
     "data": {
      "text/plain": [
       "['../models/knn_model']"
      ]
     },
     "execution_count": 47,
     "metadata": {},
     "output_type": "execute_result"
    }
   ],
   "source": [
    "joblib.dump(grid_knn, '../models/knn_model')"
   ]
  },
  {
   "cell_type": "code",
   "execution_count": 30,
   "metadata": {
    "ExecuteTime": {
     "end_time": "2020-03-02T10:59:46.308289Z",
     "start_time": "2020-03-02T10:59:46.276049Z"
    }
   },
   "outputs": [
    {
     "data": {
      "text/plain": [
       "0.6824325995652623"
      ]
     },
     "execution_count": 30,
     "metadata": {},
     "output_type": "execute_result"
    }
   ],
   "source": [
    "model_005 = joblib.load('../models/knn_model')\n",
    "model_005.best_score_"
   ]
  },
  {
   "cell_type": "code",
   "execution_count": 31,
   "metadata": {
    "ExecuteTime": {
     "end_time": "2020-03-02T10:59:58.107137Z",
     "start_time": "2020-03-02T10:59:58.102180Z"
    },
    "scrolled": false
   },
   "outputs": [
    {
     "data": {
      "text/plain": [
       "{'kneighborsclassifier__algorithm': 'auto',\n",
       " 'kneighborsclassifier__leaf_size': 30,\n",
       " 'kneighborsclassifier__metric': 'minkowski',\n",
       " 'kneighborsclassifier__metric_params': None,\n",
       " 'kneighborsclassifier__n_jobs': -1,\n",
       " 'kneighborsclassifier__n_neighbors': 9,\n",
       " 'kneighborsclassifier__p': 2,\n",
       " 'kneighborsclassifier__weights': 'uniform'}"
      ]
     },
     "execution_count": 31,
     "metadata": {},
     "output_type": "execute_result"
    }
   ],
   "source": [
    "model_005.best_params_"
   ]
  },
  {
   "cell_type": "code",
   "execution_count": 32,
   "metadata": {
    "ExecuteTime": {
     "end_time": "2020-03-02T10:59:59.997083Z",
     "start_time": "2020-03-02T10:59:58.991655Z"
    }
   },
   "outputs": [
    {
     "data": {
      "text/plain": [
       "(-0.5, 1.5)"
      ]
     },
     "execution_count": 32,
     "metadata": {},
     "output_type": "execute_result"
    },
    {
     "data": {
      "image/png": "[encoded data removed]",
      "text/plain": [
       "<Figure size 432x288 with 2 Axes>"
      ]
     },
     "metadata": {
      "needs_background": "light"
     },
     "output_type": "display_data"
    }
   ],
   "source": [
    "plot_confusion_matrix(y_test,model_005.predict(X_test))\n",
    "plt.ylim(-0.5,1.5)"
   ]
  },
  {
   "cell_type": "code",
   "execution_count": 33,
   "metadata": {
    "ExecuteTime": {
     "end_time": "2020-03-02T11:00:01.138201Z",
     "start_time": "2020-03-02T11:00:00.258437Z"
    },
    "scrolled": true
   },
   "outputs": [
    {
     "name": "stdout",
     "output_type": "stream",
     "text": [
      "              precision    recall  f1-score   support\n",
      "\n",
      "           0       0.70      0.80      0.74       757\n",
      "           1       0.69      0.56      0.62       602\n",
      "\n",
      "    accuracy                           0.69      1359\n",
      "   macro avg       0.69      0.68      0.68      1359\n",
      "weighted avg       0.69      0.69      0.69      1359\n",
      "\n"
     ]
    }
   ],
   "source": [
    "print(classification_report(y_test,model_005.predict(X_test)))"
   ]
  },
  {
   "cell_type": "code",
   "execution_count": 34,
   "metadata": {
    "ExecuteTime": {
     "end_time": "2020-03-02T11:00:06.063911Z",
     "start_time": "2020-03-02T11:00:04.253008Z"
    },
    "scrolled": false
   },
   "outputs": [
    {
     "data": {
      "image/png": "[encoded data removed]",
      "text/plain": [
       "<Figure size 432x288 with 1 Axes>"
      ]
     },
     "metadata": {
      "needs_background": "light"
     },
     "output_type": "display_data"
    },
    {
     "data": {
      "image/png": "[encoded data removed]",
      "text/plain": [
       "<Figure size 432x288 with 1 Axes>"
      ]
     },
     "metadata": {
      "needs_background": "light"
     },
     "output_type": "display_data"
    }
   ],
   "source": [
    "skplt.metrics.plot_roc_curve(y_test,model_005.predict_proba(X_test))\n",
    "skplt.metrics.plot_precision_recall_curve(y_test,model_005.predict_proba(X_test));"
   ]
  },
  {
   "cell_type": "markdown",
   "metadata": {},
   "source": [
    "### Random Forest"
   ]
  },
  {
   "cell_type": "code",
   "execution_count": 35,
   "metadata": {
    "ExecuteTime": {
     "end_time": "2020-03-02T11:00:19.333474Z",
     "start_time": "2020-03-02T11:00:19.330498Z"
    },
    "deletable": false,
    "editable": false,
    "run_control": {
     "frozen": true
    }
   },
   "outputs": [],
   "source": [
    "from sklearn.ensemble import RandomForestClassifier, RandomForestRegressor"
   ]
  },
  {
   "cell_type": "code",
   "execution_count": 42,
   "metadata": {
    "ExecuteTime": {
     "end_time": "2020-03-02T11:06:22.260945Z",
     "start_time": "2020-03-02T11:05:21.514968Z"
    },
    "deletable": false,
    "editable": false,
    "run_control": {
     "frozen": true
    }
   },
   "outputs": [
    {
     "name": "stdout",
     "output_type": "stream",
     "text": [
      "Training score: 0.929\n",
      "Testing score: 0.709\n",
      "CrossVal score: 0.713\n"
     ]
    }
   ],
   "source": [
    "rforest = RandomForestClassifier(max_depth=10,n_estimators=1000,n_jobs=-1)\n",
    "rforest = model_run(rforest,X_train,y_train,X_test,y_test)"
   ]
  },
  {
   "cell_type": "code",
   "execution_count": 43,
   "metadata": {
    "ExecuteTime": {
     "end_time": "2020-03-02T11:06:57.012462Z",
     "start_time": "2020-03-02T11:06:57.006017Z"
    },
    "deletable": false,
    "editable": false,
    "run_control": {
     "frozen": true
    }
   },
   "outputs": [
    {
     "data": {
      "text/plain": [
       "RandomForestClassifier(bootstrap=True, ccp_alpha=0.0, class_weight=None,\n",
       "                       criterion='gini', max_depth=10, max_features='auto',\n",
       "                       max_leaf_nodes=None, max_samples=None,\n",
       "                       min_impurity_decrease=0.0, min_impurity_split=None,\n",
       "                       min_samples_leaf=1, min_samples_split=2,\n",
       "                       min_weight_fraction_leaf=0.0, n_estimators=1000,\n",
       "                       n_jobs=-1, oob_score=False, random_state=None, verbose=0,\n",
       "                       warm_start=False)"
      ]
     },
     "execution_count": 43,
     "metadata": {},
     "output_type": "execute_result"
    }
   ],
   "source": [
    "rforest.named_steps.randomforestclassifier"
   ]
  },
  {
   "cell_type": "code",
   "execution_count": 45,
   "metadata": {
    "ExecuteTime": {
     "end_time": "2020-03-02T11:09:13.303752Z",
     "start_time": "2020-03-02T11:09:13.298795Z"
    },
    "deletable": false,
    "editable": false,
    "run_control": {
     "frozen": true
    }
   },
   "outputs": [],
   "source": [
    "#Specifying GridSearch parameters\n",
    "params = {'randomforestclassifier__criterion': ['gini','entropy'],\n",
    " 'randomforestclassifier__max_depth': [10],\n",
    " 'randomforestclassifier__max_features': ['auto'],\n",
    " 'randomforestclassifier__max_leaf_nodes': [None],\n",
    " 'randomforestclassifier__min_impurity_decrease': [0.0],\n",
    " 'randomforestclassifier__min_impurity_split': [None],\n",
    " 'randomforestclassifier__min_samples_leaf': [1],\n",
    " 'randomforestclassifier__min_samples_split': [2],\n",
    " 'randomforestclassifier__min_weight_fraction_leaf': [0.0],\n",
    " 'randomforestclassifier__random_state': [0],\n",
    " 'randomforestclassifier__verbose': [2]}"
   ]
  },
  {
   "cell_type": "code",
   "execution_count": 46,
   "metadata": {
    "ExecuteTime": {
     "end_time": "2020-03-02T11:12:07.982059Z",
     "start_time": "2020-03-02T11:09:30.332537Z"
    },
    "deletable": false,
    "editable": false,
    "run_control": {
     "frozen": true
    },
    "scrolled": false
   },
   "outputs": [
    {
     "name": "stdout",
     "output_type": "stream",
     "text": [
      "Fitting 5 folds for each of 2 candidates, totalling 10 fits\n"
     ]
    },
    {
     "name": "stderr",
     "output_type": "stream",
     "text": [
      "[Parallel(n_jobs=-1)]: Using backend LokyBackend with 4 concurrent workers.\n",
      "[Parallel(n_jobs=-1)]: Done  10 out of  10 | elapsed:  2.1min finished\n",
      "[Parallel(n_jobs=-1)]: Using backend ThreadingBackend with 4 concurrent workers.\n"
     ]
    },
    {
     "name": "stdout",
     "output_type": "stream",
     "text": [
      "building tree 1 of 1000building tree 2 of 1000\n",
      "\n",
      "building tree 3 of 1000building tree 4 of 1000\n",
      "\n",
      "building tree 5 of 1000\n",
      "building tree 6 of 1000\n",
      "building tree 7 of 1000\n",
      "building tree 8 of 1000\n",
      "building tree 9 of 1000\n",
      "building tree 10 of 1000\n",
      "building tree 11 of 1000\n",
      "building tree 12 of 1000\n",
      "building tree 13 of 1000\n",
      "building tree 14 of 1000\n",
      "building tree 15 of 1000building tree 16 of 1000\n",
      "\n",
      "building tree 17 of 1000\n",
      "building tree 18 of 1000\n",
      "building tree 19 of 1000\n",
      "building tree 20 of 1000\n",
      "building tree 21 of 1000\n",
      "building tree 22 of 1000\n",
      "building tree 23 of 1000\n",
      "building tree 24 of 1000\n",
      "building tree 25 of 1000building tree 26 of 1000\n",
      "\n",
      "building tree 27 of 1000\n",
      "building tree 28 of 1000\n",
      "building tree 29 of 1000\n",
      "building tree 30 of 1000\n",
      "building tree 31 of 1000\n",
      "building tree 32 of 1000\n",
      "building tree 33 of 1000\n",
      "building tree 34 of 1000\n",
      "building tree 35 of 1000\n",
      "building tree 36 of 1000\n",
      "building tree 37 of 1000"
     ]
    },
    {
     "name": "stderr",
     "output_type": "stream",
     "text": [
      "[Parallel(n_jobs=-1)]: Done  33 tasks      | elapsed:    1.1s\n"
     ]
    },
    {
     "name": "stdout",
     "output_type": "stream",
     "text": [
      "\n",
      "building tree 38 of 1000\n",
      "building tree 39 of 1000\n",
      "building tree 40 of 1000\n",
      "building tree 41 of 1000\n",
      "building tree 42 of 1000\n",
      "building tree 43 of 1000\n",
      "building tree 44 of 1000\n",
      "building tree 45 of 1000\n",
      "building tree 46 of 1000\n",
      "building tree 47 of 1000\n",
      "building tree 48 of 1000\n",
      "building tree 49 of 1000\n",
      "building tree 50 of 1000\n",
      "building tree 51 of 1000\n",
      "building tree 52 of 1000\n",
      "building tree 53 of 1000\n",
      "building tree 54 of 1000\n",
      "building tree 55 of 1000\n",
      "building tree 56 of 1000\n",
      "building tree 57 of 1000\n",
      "building tree 58 of 1000\n",
      "building tree 59 of 1000\n",
      "building tree 60 of 1000\n",
      "building tree 61 of 1000\n",
      "building tree 62 of 1000\n",
      "building tree 63 of 1000\n",
      "building tree 64 of 1000\n",
      "building tree 65 of 1000\n",
      "building tree 66 of 1000\n",
      "building tree 67 of 1000\n",
      "building tree 68 of 1000\n",
      "building tree 69 of 1000building tree 70 of 1000\n",
      "\n",
      "building tree 71 of 1000\n",
      "building tree 72 of 1000\n",
      "building tree 73 of 1000\n",
      "building tree 74 of 1000\n",
      "building tree 75 of 1000\n",
      "building tree 76 of 1000\n",
      "building tree 77 of 1000\n",
      "building tree 78 of 1000\n",
      "building tree 79 of 1000\n",
      "building tree 80 of 1000\n",
      "building tree 81 of 1000\n",
      "building tree 82 of 1000\n",
      "building tree 83 of 1000\n",
      "building tree 84 of 1000\n",
      "building tree 85 of 1000\n",
      "building tree 86 of 1000\n",
      "building tree 87 of 1000\n",
      "building tree 88 of 1000\n",
      "building tree 89 of 1000\n",
      "building tree 90 of 1000\n",
      "building tree 91 of 1000\n",
      "building tree 92 of 1000\n",
      "building tree 93 of 1000\n",
      "building tree 94 of 1000\n",
      "building tree 95 of 1000\n",
      "building tree 96 of 1000\n",
      "building tree 97 of 1000\n",
      "building tree 98 of 1000\n",
      "building tree 99 of 1000\n",
      "building tree 100 of 1000\n",
      "building tree 101 of 1000\n",
      "building tree 102 of 1000\n",
      "building tree 103 of 1000\n",
      "building tree 104 of 1000\n",
      "building tree 105 of 1000\n",
      "building tree 106 of 1000\n",
      "building tree 107 of 1000\n",
      "building tree 108 of 1000\n",
      "building tree 109 of 1000\n",
      "building tree 110 of 1000\n",
      "building tree 111 of 1000\n",
      "building tree 112 of 1000\n",
      "building tree 113 of 1000\n",
      "building tree 114 of 1000\n",
      "building tree 115 of 1000\n",
      "building tree 116 of 1000\n",
      "building tree 117 of 1000\n",
      "building tree 118 of 1000\n",
      "building tree 119 of 1000\n",
      "building tree 120 of 1000\n",
      "building tree 121 of 1000\n",
      "building tree 122 of 1000\n",
      "building tree 123 of 1000\n",
      "building tree 124 of 1000\n",
      "building tree 125 of 1000\n",
      "building tree 126 of 1000\n",
      "building tree 127 of 1000\n",
      "building tree 128 of 1000\n",
      "building tree 129 of 1000\n",
      "building tree 130 of 1000\n",
      "building tree 131 of 1000\n",
      "building tree 132 of 1000\n",
      "building tree 133 of 1000\n",
      "building tree 134 of 1000\n",
      "building tree 135 of 1000\n",
      "building tree 136 of 1000\n",
      "building tree 137 of 1000\n",
      "building tree 138 of 1000\n",
      "building tree 139 of 1000\n",
      "building tree 140 of 1000\n",
      "building tree 141 of 1000\n",
      "building tree 142 of 1000\n",
      "building tree 143 of 1000\n",
      "building tree 144 of 1000building tree 145 of 1000\n",
      "\n",
      "building tree 146 of 1000\n",
      "building tree 147 of 1000\n",
      "building tree 148 of 1000\n",
      "building tree 149 of 1000\n",
      "building tree 150 of 1000\n",
      "building tree 151 of 1000\n",
      "building tree 152 of 1000\n",
      "building tree 153 of 1000\n",
      "building tree 154 of 1000\n",
      "building tree 155 of 1000\n",
      "building tree 156 of 1000\n",
      "building tree 157 of 1000\n",
      "building tree 158 of 1000\n"
     ]
    },
    {
     "name": "stderr",
     "output_type": "stream",
     "text": [
      "[Parallel(n_jobs=-1)]: Done 154 tasks      | elapsed:    5.7s\n"
     ]
    },
    {
     "name": "stdout",
     "output_type": "stream",
     "text": [
      "building tree 159 of 1000\n",
      "building tree 160 of 1000\n",
      "building tree 161 of 1000\n",
      "building tree 162 of 1000\n",
      "building tree 163 of 1000\n",
      "building tree 164 of 1000\n",
      "building tree 165 of 1000\n",
      "building tree 166 of 1000\n",
      "building tree 167 of 1000\n",
      "building tree 168 of 1000\n",
      "building tree 169 of 1000\n",
      "building tree 170 of 1000\n",
      "building tree 171 of 1000\n",
      "building tree 172 of 1000\n",
      "building tree 173 of 1000\n",
      "building tree 174 of 1000\n",
      "building tree 175 of 1000\n",
      "building tree 176 of 1000\n",
      "building tree 177 of 1000\n",
      "building tree 178 of 1000\n",
      "building tree 179 of 1000\n",
      "building tree 180 of 1000\n",
      "building tree 181 of 1000\n",
      "building tree 182 of 1000\n",
      "building tree 183 of 1000\n",
      "building tree 184 of 1000\n",
      "building tree 185 of 1000\n",
      "building tree 186 of 1000\n",
      "building tree 187 of 1000\n",
      "building tree 188 of 1000\n",
      "building tree 189 of 1000\n",
      "building tree 190 of 1000building tree 191 of 1000\n",
      "\n",
      "building tree 192 of 1000\n",
      "building tree 193 of 1000\n",
      "building tree 194 of 1000\n",
      "building tree 195 of 1000\n",
      "building tree 196 of 1000\n",
      "building tree 197 of 1000\n",
      "building tree 198 of 1000\n",
      "building tree 199 of 1000\n",
      "building tree 200 of 1000\n",
      "building tree 201 of 1000\n",
      "building tree 202 of 1000\n",
      "building tree 203 of 1000\n",
      "building tree 204 of 1000\n",
      "building tree 205 of 1000\n",
      "building tree 206 of 1000\n",
      "building tree 207 of 1000\n",
      "building tree 208 of 1000\n",
      "building tree 209 of 1000\n",
      "building tree 210 of 1000\n",
      "building tree 211 of 1000\n",
      "building tree 212 of 1000\n",
      "building tree 213 of 1000\n",
      "building tree 214 of 1000\n",
      "building tree 215 of 1000\n",
      "building tree 216 of 1000\n",
      "building tree 217 of 1000\n",
      "building tree 218 of 1000\n",
      "building tree 219 of 1000\n",
      "building tree 220 of 1000\n",
      "building tree 221 of 1000\n",
      "building tree 222 of 1000\n",
      "building tree 223 of 1000\n",
      "building tree 224 of 1000\n",
      "building tree 225 of 1000\n",
      "building tree 226 of 1000\n",
      "building tree 227 of 1000\n",
      "building tree 228 of 1000\n",
      "building tree 229 of 1000\n",
      "building tree 230 of 1000\n",
      "building tree 231 of 1000\n",
      "building tree 232 of 1000\n",
      "building tree 233 of 1000\n",
      "building tree 234 of 1000\n",
      "building tree 235 of 1000\n",
      "building tree 236 of 1000\n",
      "building tree 237 of 1000\n",
      "building tree 238 of 1000\n",
      "building tree 239 of 1000\n",
      "building tree 240 of 1000\n",
      "building tree 241 of 1000\n",
      "building tree 242 of 1000\n",
      "building tree 243 of 1000\n",
      "building tree 244 of 1000\n",
      "building tree 245 of 1000\n",
      "building tree 246 of 1000\n",
      "building tree 247 of 1000\n",
      "building tree 248 of 1000\n",
      "building tree 249 of 1000\n",
      "building tree 250 of 1000\n",
      "building tree 251 of 1000\n",
      "building tree 252 of 1000\n",
      "building tree 253 of 1000\n",
      "building tree 254 of 1000\n",
      "building tree 255 of 1000\n",
      "building tree 256 of 1000\n",
      "building tree 257 of 1000\n",
      "building tree 258 of 1000\n",
      "building tree 259 of 1000\n",
      "building tree 260 of 1000\n",
      "building tree 261 of 1000\n",
      "building tree 262 of 1000\n",
      "building tree 263 of 1000\n",
      "building tree 264 of 1000\n",
      "building tree 265 of 1000\n",
      "building tree 266 of 1000\n",
      "building tree 267 of 1000\n",
      "building tree 268 of 1000\n",
      "building tree 269 of 1000\n",
      "building tree 270 of 1000\n",
      "building tree 271 of 1000\n",
      "building tree 272 of 1000\n",
      "building tree 273 of 1000\n",
      "building tree 274 of 1000\n",
      "building tree 275 of 1000\n",
      "building tree 276 of 1000\n",
      "building tree 277 of 1000\n",
      "building tree 278 of 1000\n",
      "building tree 279 of 1000\n",
      "building tree 280 of 1000\n",
      "building tree 281 of 1000\n",
      "building tree 282 of 1000\n",
      "building tree 283 of 1000\n",
      "building tree 284 of 1000\n",
      "building tree 285 of 1000\n",
      "building tree 286 of 1000\n",
      "building tree 287 of 1000\n",
      "building tree 288 of 1000\n",
      "building tree 289 of 1000\n",
      "building tree 290 of 1000\n",
      "building tree 291 of 1000\n",
      "building tree 292 of 1000\n",
      "building tree 293 of 1000\n",
      "building tree 294 of 1000\n",
      "building tree 295 of 1000\n",
      "building tree 296 of 1000\n",
      "building tree 297 of 1000\n",
      "building tree 298 of 1000\n",
      "building tree 299 of 1000\n",
      "building tree 300 of 1000\n",
      "building tree 301 of 1000\n",
      "building tree 302 of 1000\n",
      "building tree 303 of 1000\n",
      "building tree 304 of 1000\n",
      "building tree 305 of 1000\n",
      "building tree 306 of 1000\n",
      "building tree 307 of 1000\n",
      "building tree 308 of 1000\n",
      "building tree 309 of 1000\n",
      "building tree 310 of 1000\n",
      "building tree 311 of 1000\n",
      "building tree 312 of 1000\n",
      "building tree 313 of 1000\n",
      "building tree 314 of 1000\n",
      "building tree 315 of 1000\n",
      "building tree 316 of 1000\n",
      "building tree 317 of 1000\n",
      "building tree 318 of 1000\n",
      "building tree 319 of 1000\n",
      "building tree 320 of 1000\n",
      "building tree 321 of 1000\n",
      "building tree 322 of 1000\n",
      "building tree 323 of 1000\n",
      "building tree 324 of 1000\n",
      "building tree 325 of 1000\n",
      "building tree 326 of 1000\n",
      "building tree 327 of 1000\n",
      "building tree 328 of 1000\n",
      "building tree 329 of 1000\n",
      "building tree 330 of 1000\n",
      "building tree 331 of 1000building tree 332 of 1000\n",
      "\n",
      "building tree 333 of 1000\n",
      "building tree 334 of 1000\n",
      "building tree 335 of 1000\n",
      "building tree 336 of 1000\n",
      "building tree 337 of 1000\n",
      "building tree 338 of 1000\n",
      "building tree 339 of 1000\n",
      "building tree 340 of 1000\n",
      "building tree 341 of 1000\n",
      "building tree 342 of 1000\n",
      "building tree 343 of 1000\n",
      "building tree 344 of 1000\n",
      "building tree 345 of 1000\n",
      "building tree 346 of 1000\n",
      "building tree 347 of 1000\n",
      "building tree 348 of 1000\n",
      "building tree 349 of 1000\n",
      "building tree 350 of 1000\n",
      "building tree 351 of 1000\n",
      "building tree 352 of 1000\n",
      "building tree 353 of 1000\n",
      "building tree 354 of 1000\n",
      "building tree 355 of 1000\n",
      "building tree 356 of 1000\n",
      "building tree 357 of 1000\n",
      "building tree 358 of 1000\n",
      "building tree 359 of 1000\n",
      "building tree 360 of 1000\n",
      "building tree 361 of 1000\n",
      "building tree 362 of 1000\n",
      "building tree 363 of 1000\n",
      "building tree 364 of 1000\n",
      "building tree 365 of 1000\n",
      "building tree 366 of 1000\n",
      "building tree 367 of 1000"
     ]
    },
    {
     "name": "stderr",
     "output_type": "stream",
     "text": [
      "[Parallel(n_jobs=-1)]: Done 357 tasks      | elapsed:   12.2s\n"
     ]
    },
    {
     "name": "stdout",
     "output_type": "stream",
     "text": [
      "\n",
      "building tree 368 of 1000\n",
      "building tree 369 of 1000\n",
      "building tree 370 of 1000\n",
      "building tree 371 of 1000\n",
      "building tree 372 of 1000\n",
      "building tree 373 of 1000\n",
      "building tree 374 of 1000\n",
      "building tree 375 of 1000\n",
      "building tree 376 of 1000\n",
      "building tree 377 of 1000\n",
      "building tree 378 of 1000\n",
      "building tree 379 of 1000\n",
      "building tree 380 of 1000\n",
      "building tree 381 of 1000\n",
      "building tree 382 of 1000\n",
      "building tree 383 of 1000\n",
      "building tree 384 of 1000\n",
      "building tree 385 of 1000\n",
      "building tree 386 of 1000\n",
      "building tree 387 of 1000\n",
      "building tree 388 of 1000\n",
      "building tree 389 of 1000\n",
      "building tree 390 of 1000\n",
      "building tree 391 of 1000\n",
      "building tree 392 of 1000\n",
      "building tree 393 of 1000\n",
      "building tree 394 of 1000\n",
      "building tree 395 of 1000\n",
      "building tree 396 of 1000\n",
      "building tree 397 of 1000\n",
      "building tree 398 of 1000\n",
      "building tree 399 of 1000\n",
      "building tree 400 of 1000\n",
      "building tree 401 of 1000\n",
      "building tree 402 of 1000\n",
      "building tree 403 of 1000\n",
      "building tree 404 of 1000\n",
      "building tree 405 of 1000\n",
      "building tree 406 of 1000\n",
      "building tree 407 of 1000\n",
      "building tree 408 of 1000\n",
      "building tree 409 of 1000\n",
      "building tree 410 of 1000\n",
      "building tree 411 of 1000\n",
      "building tree 412 of 1000building tree 413 of 1000\n",
      "\n",
      "building tree 414 of 1000\n",
      "building tree 415 of 1000\n",
      "building tree 416 of 1000\n",
      "building tree 417 of 1000\n",
      "building tree 418 of 1000\n",
      "building tree 419 of 1000\n",
      "building tree 420 of 1000\n",
      "building tree 421 of 1000\n",
      "building tree 422 of 1000\n",
      "building tree 423 of 1000\n",
      "building tree 424 of 1000\n",
      "building tree 425 of 1000\n",
      "building tree 426 of 1000\n",
      "building tree 427 of 1000\n",
      "building tree 428 of 1000\n",
      "building tree 429 of 1000\n",
      "building tree 430 of 1000\n",
      "building tree 431 of 1000\n",
      "building tree 432 of 1000\n",
      "building tree 433 of 1000\n",
      "building tree 434 of 1000\n",
      "building tree 435 of 1000\n",
      "building tree 436 of 1000\n",
      "building tree 437 of 1000\n",
      "building tree 438 of 1000\n",
      "building tree 439 of 1000\n",
      "building tree 440 of 1000\n",
      "building tree 441 of 1000\n",
      "building tree 442 of 1000\n",
      "building tree 443 of 1000\n",
      "building tree 444 of 1000\n",
      "building tree 445 of 1000\n",
      "building tree 446 of 1000\n",
      "building tree 447 of 1000\n",
      "building tree 448 of 1000\n",
      "building tree 449 of 1000\n",
      "building tree 450 of 1000\n",
      "building tree 451 of 1000\n",
      "building tree 452 of 1000\n",
      "building tree 453 of 1000\n",
      "building tree 454 of 1000\n",
      "building tree 455 of 1000\n",
      "building tree 456 of 1000\n",
      "building tree 457 of 1000\n",
      "building tree 458 of 1000\n",
      "building tree 459 of 1000\n",
      "building tree 460 of 1000\n",
      "building tree 461 of 1000\n",
      "building tree 462 of 1000\n",
      "building tree 463 of 1000\n",
      "building tree 464 of 1000\n",
      "building tree 465 of 1000\n",
      "building tree 466 of 1000\n",
      "building tree 467 of 1000\n",
      "building tree 468 of 1000\n",
      "building tree 469 of 1000\n",
      "building tree 470 of 1000\n",
      "building tree 471 of 1000\n",
      "building tree 472 of 1000\n",
      "building tree 473 of 1000\n",
      "building tree 474 of 1000\n",
      "building tree 475 of 1000\n",
      "building tree 476 of 1000\n",
      "building tree 477 of 1000\n",
      "building tree 478 of 1000\n",
      "building tree 479 of 1000\n",
      "building tree 480 of 1000\n",
      "building tree 481 of 1000\n",
      "building tree 482 of 1000\n",
      "building tree 483 of 1000\n",
      "building tree 484 of 1000\n",
      "building tree 485 of 1000\n",
      "building tree 486 of 1000\n",
      "building tree 487 of 1000\n",
      "building tree 488 of 1000\n",
      "building tree 489 of 1000\n",
      "building tree 490 of 1000\n",
      "building tree 491 of 1000\n",
      "building tree 492 of 1000\n",
      "building tree 493 of 1000\n",
      "building tree 494 of 1000\n",
      "building tree 495 of 1000\n",
      "building tree 496 of 1000\n",
      "building tree 497 of 1000\n",
      "building tree 498 of 1000\n",
      "building tree 499 of 1000\n",
      "building tree 500 of 1000\n",
      "building tree 501 of 1000\n",
      "building tree 502 of 1000\n",
      "building tree 503 of 1000\n",
      "building tree 504 of 1000\n",
      "building tree 505 of 1000\n",
      "building tree 506 of 1000\n",
      "building tree 507 of 1000\n",
      "building tree 508 of 1000\n",
      "building tree 509 of 1000\n",
      "building tree 510 of 1000\n",
      "building tree 511 of 1000\n",
      "building tree 512 of 1000\n",
      "building tree 513 of 1000\n",
      "building tree 514 of 1000\n",
      "building tree 515 of 1000\n",
      "building tree 516 of 1000\n",
      "building tree 517 of 1000\n",
      "building tree 518 of 1000\n",
      "building tree 519 of 1000\n",
      "building tree 520 of 1000\n",
      "building tree 521 of 1000\n",
      "building tree 522 of 1000\n",
      "building tree 523 of 1000\n",
      "building tree 524 of 1000\n",
      "building tree 525 of 1000\n",
      "building tree 526 of 1000\n",
      "building tree 527 of 1000\n",
      "building tree 528 of 1000\n",
      "building tree 529 of 1000\n",
      "building tree 530 of 1000\n",
      "building tree 531 of 1000\n",
      "building tree 532 of 1000\n",
      "building tree 533 of 1000\n",
      "building tree 534 of 1000\n",
      "building tree 535 of 1000\n",
      "building tree 536 of 1000\n",
      "building tree 537 of 1000\n",
      "building tree 538 of 1000\n",
      "building tree 539 of 1000\n",
      "building tree 540 of 1000\n",
      "building tree 541 of 1000\n",
      "building tree 542 of 1000\n",
      "building tree 543 of 1000\n",
      "building tree 544 of 1000\n",
      "building tree 545 of 1000\n",
      "building tree 546 of 1000\n",
      "building tree 547 of 1000\n",
      "building tree 548 of 1000\n",
      "building tree 549 of 1000\n",
      "building tree 550 of 1000\n",
      "building tree 551 of 1000\n",
      "building tree 552 of 1000\n",
      "building tree 553 of 1000\n",
      "building tree 554 of 1000\n",
      "building tree 555 of 1000\n",
      "building tree 556 of 1000\n",
      "building tree 557 of 1000\n",
      "building tree 558 of 1000\n",
      "building tree 559 of 1000\n",
      "building tree 560 of 1000\n",
      "building tree 561 of 1000\n",
      "building tree 562 of 1000\n",
      "building tree 563 of 1000\n",
      "building tree 564 of 1000\n",
      "building tree 565 of 1000\n",
      "building tree 566 of 1000\n",
      "building tree 567 of 1000\n",
      "building tree 568 of 1000\n",
      "building tree 569 of 1000\n",
      "building tree 570 of 1000\n",
      "building tree 571 of 1000\n",
      "building tree 572 of 1000\n",
      "building tree 573 of 1000\n",
      "building tree 574 of 1000\n",
      "building tree 575 of 1000\n",
      "building tree 576 of 1000\n",
      "building tree 577 of 1000\n",
      "building tree 578 of 1000\n",
      "building tree 579 of 1000\n",
      "building tree 580 of 1000\n",
      "building tree 581 of 1000\n",
      "building tree 582 of 1000\n",
      "building tree 583 of 1000\n",
      "building tree 584 of 1000\n",
      "building tree 585 of 1000\n",
      "building tree 586 of 1000\n",
      "building tree 587 of 1000\n",
      "building tree 588 of 1000\n",
      "building tree 589 of 1000\n",
      "building tree 590 of 1000\n",
      "building tree 591 of 1000\n",
      "building tree 592 of 1000\n",
      "building tree 593 of 1000\n",
      "building tree 594 of 1000\n",
      "building tree 595 of 1000\n",
      "building tree 596 of 1000\n",
      "building tree 597 of 1000\n",
      "building tree 598 of 1000\n",
      "building tree 599 of 1000\n",
      "building tree 600 of 1000\n",
      "building tree 601 of 1000\n",
      "building tree 602 of 1000\n",
      "building tree 603 of 1000\n",
      "building tree 604 of 1000\n",
      "building tree 605 of 1000\n",
      "building tree 606 of 1000\n",
      "building tree 607 of 1000\n",
      "building tree 608 of 1000\n",
      "building tree 609 of 1000\n",
      "building tree 610 of 1000\n",
      "building tree 611 of 1000\n",
      "building tree 612 of 1000\n",
      "building tree 613 of 1000\n",
      "building tree 614 of 1000\n",
      "building tree 615 of 1000\n",
      "building tree 616 of 1000\n",
      "building tree 617 of 1000\n",
      "building tree 618 of 1000\n",
      "building tree 619 of 1000\n",
      "building tree 620 of 1000\n",
      "building tree 621 of 1000\n",
      "building tree 622 of 1000\n",
      "building tree 623 of 1000\n",
      "building tree 624 of 1000\n",
      "building tree 625 of 1000\n",
      "building tree 626 of 1000\n",
      "building tree 627 of 1000\n",
      "building tree 628 of 1000\n",
      "building tree 629 of 1000\n",
      "building tree 630 of 1000\n",
      "building tree 631 of 1000\n",
      "building tree 632 of 1000\n",
      "building tree 633 of 1000\n",
      "building tree 634 of 1000\n",
      "building tree 635 of 1000\n",
      "building tree 636 of 1000\n",
      "building tree 637 of 1000\n",
      "building tree 638 of 1000\n",
      "building tree 639 of 1000\n",
      "building tree 640 of 1000\n",
      "building tree 641 of 1000\n",
      "building tree 642 of 1000\n",
      "building tree 643 of 1000\n",
      "building tree 644 of 1000\n",
      "building tree 645 of 1000\n",
      "building tree 646 of 1000\n",
      "building tree 647 of 1000\n",
      "building tree 648 of 1000\n",
      "building tree 649 of 1000\n"
     ]
    },
    {
     "name": "stderr",
     "output_type": "stream",
     "text": [
      "[Parallel(n_jobs=-1)]: Done 640 tasks      | elapsed:   21.0s\n"
     ]
    },
    {
     "name": "stdout",
     "output_type": "stream",
     "text": [
      "building tree 650 of 1000\n",
      "building tree 651 of 1000\n",
      "building tree 652 of 1000\n",
      "building tree 653 of 1000\n",
      "building tree 654 of 1000\n",
      "building tree 655 of 1000\n",
      "building tree 656 of 1000\n",
      "building tree 657 of 1000\n",
      "building tree 658 of 1000\n",
      "building tree 659 of 1000\n",
      "building tree 660 of 1000\n",
      "building tree 661 of 1000\n",
      "building tree 662 of 1000\n",
      "building tree 663 of 1000\n",
      "building tree 664 of 1000\n",
      "building tree 665 of 1000\n",
      "building tree 666 of 1000\n",
      "building tree 667 of 1000\n",
      "building tree 668 of 1000\n",
      "building tree 669 of 1000\n",
      "building tree 670 of 1000\n",
      "building tree 671 of 1000\n",
      "building tree 672 of 1000\n",
      "building tree 673 of 1000\n",
      "building tree 674 of 1000\n",
      "building tree 675 of 1000\n",
      "building tree 676 of 1000\n",
      "building tree 677 of 1000\n",
      "building tree 678 of 1000\n",
      "building tree 679 of 1000\n",
      "building tree 680 of 1000\n",
      "building tree 681 of 1000\n",
      "building tree 682 of 1000\n",
      "building tree 683 of 1000\n",
      "building tree 684 of 1000\n",
      "building tree 685 of 1000\n",
      "building tree 686 of 1000\n",
      "building tree 687 of 1000\n",
      "building tree 688 of 1000\n",
      "building tree 689 of 1000\n",
      "building tree 690 of 1000\n",
      "building tree 691 of 1000\n",
      "building tree 692 of 1000\n",
      "building tree 693 of 1000\n",
      "building tree 694 of 1000\n",
      "building tree 695 of 1000\n",
      "building tree 696 of 1000\n",
      "building tree 697 of 1000\n",
      "building tree 698 of 1000\n",
      "building tree 699 of 1000\n",
      "building tree 700 of 1000\n",
      "building tree 701 of 1000\n",
      "building tree 702 of 1000\n",
      "building tree 703 of 1000\n",
      "building tree 704 of 1000\n",
      "building tree 705 of 1000\n",
      "building tree 706 of 1000\n",
      "building tree 707 of 1000\n",
      "building tree 708 of 1000building tree 709 of 1000\n",
      "\n",
      "building tree 710 of 1000\n",
      "building tree 711 of 1000\n",
      "building tree 712 of 1000\n",
      "building tree 713 of 1000\n",
      "building tree 714 of 1000\n",
      "building tree 715 of 1000\n",
      "building tree 716 of 1000\n",
      "building tree 717 of 1000\n",
      "building tree 718 of 1000\n",
      "building tree 719 of 1000\n",
      "building tree 720 of 1000\n",
      "building tree 721 of 1000\n",
      "building tree 722 of 1000\n",
      "building tree 723 of 1000\n",
      "building tree 724 of 1000\n",
      "building tree 725 of 1000\n",
      "building tree 726 of 1000\n",
      "building tree 727 of 1000\n",
      "building tree 728 of 1000\n",
      "building tree 729 of 1000\n",
      "building tree 730 of 1000\n",
      "building tree 731 of 1000\n",
      "building tree 732 of 1000\n",
      "building tree 733 of 1000\n",
      "building tree 734 of 1000\n",
      "building tree 735 of 1000\n",
      "building tree 736 of 1000\n",
      "building tree 737 of 1000\n",
      "building tree 738 of 1000\n",
      "building tree 739 of 1000\n",
      "building tree 740 of 1000\n",
      "building tree 741 of 1000\n",
      "building tree 742 of 1000\n",
      "building tree 743 of 1000\n",
      "building tree 744 of 1000\n",
      "building tree 745 of 1000\n",
      "building tree 746 of 1000\n",
      "building tree 747 of 1000\n",
      "building tree 748 of 1000\n",
      "building tree 749 of 1000\n",
      "building tree 750 of 1000\n",
      "building tree 751 of 1000\n",
      "building tree 752 of 1000\n",
      "building tree 753 of 1000\n",
      "building tree 754 of 1000\n",
      "building tree 755 of 1000\n",
      "building tree 756 of 1000\n",
      "building tree 757 of 1000\n",
      "building tree 758 of 1000\n",
      "building tree 759 of 1000\n",
      "building tree 760 of 1000\n",
      "building tree 761 of 1000\n",
      "building tree 762 of 1000\n",
      "building tree 763 of 1000\n",
      "building tree 764 of 1000\n",
      "building tree 765 of 1000\n",
      "building tree 766 of 1000\n",
      "building tree 767 of 1000\n",
      "building tree 768 of 1000\n",
      "building tree 769 of 1000\n",
      "building tree 770 of 1000\n",
      "building tree 771 of 1000\n",
      "building tree 772 of 1000\n",
      "building tree 773 of 1000\n",
      "building tree 774 of 1000\n",
      "building tree 775 of 1000\n",
      "building tree 776 of 1000\n",
      "building tree 777 of 1000\n",
      "building tree 778 of 1000\n",
      "building tree 779 of 1000\n",
      "building tree 780 of 1000\n",
      "building tree 781 of 1000\n",
      "building tree 782 of 1000\n",
      "building tree 783 of 1000\n",
      "building tree 784 of 1000\n",
      "building tree 785 of 1000\n",
      "building tree 786 of 1000\n",
      "building tree 787 of 1000\n",
      "building tree 788 of 1000\n",
      "building tree 789 of 1000\n",
      "building tree 790 of 1000\n",
      "building tree 791 of 1000\n",
      "building tree 792 of 1000\n",
      "building tree 793 of 1000\n",
      "building tree 794 of 1000\n",
      "building tree 795 of 1000\n",
      "building tree 796 of 1000\n",
      "building tree 797 of 1000\n",
      "building tree 798 of 1000\n",
      "building tree 799 of 1000\n",
      "building tree 800 of 1000\n",
      "building tree 801 of 1000\n",
      "building tree 802 of 1000\n",
      "building tree 803 of 1000\n",
      "building tree 804 of 1000\n",
      "building tree 805 of 1000\n",
      "building tree 806 of 1000\n",
      "building tree 807 of 1000\n",
      "building tree 808 of 1000\n",
      "building tree 809 of 1000\n",
      "building tree 810 of 1000\n",
      "building tree 811 of 1000\n",
      "building tree 812 of 1000\n",
      "building tree 813 of 1000\n",
      "building tree 814 of 1000\n",
      "building tree 815 of 1000\n",
      "building tree 816 of 1000\n",
      "building tree 817 of 1000\n",
      "building tree 818 of 1000\n",
      "building tree 819 of 1000\n",
      "building tree 820 of 1000\n",
      "building tree 821 of 1000\n",
      "building tree 822 of 1000\n",
      "building tree 823 of 1000\n",
      "building tree 824 of 1000\n",
      "building tree 825 of 1000\n",
      "building tree 826 of 1000\n",
      "building tree 827 of 1000\n",
      "building tree 828 of 1000\n",
      "building tree 829 of 1000\n",
      "building tree 830 of 1000\n",
      "building tree 831 of 1000\n",
      "building tree 832 of 1000\n",
      "building tree 833 of 1000\n",
      "building tree 834 of 1000\n",
      "building tree 835 of 1000\n",
      "building tree 836 of 1000\n",
      "building tree 837 of 1000\n",
      "building tree 838 of 1000\n",
      "building tree 839 of 1000\n",
      "building tree 840 of 1000\n",
      "building tree 841 of 1000\n",
      "building tree 842 of 1000\n",
      "building tree 843 of 1000building tree 844 of 1000\n",
      "\n",
      "building tree 845 of 1000\n",
      "building tree 846 of 1000\n",
      "building tree 847 of 1000\n",
      "building tree 848 of 1000\n",
      "building tree 849 of 1000\n",
      "building tree 850 of 1000\n",
      "building tree 851 of 1000\n",
      "building tree 852 of 1000\n",
      "building tree 853 of 1000\n",
      "building tree 854 of 1000\n",
      "building tree 855 of 1000\n",
      "building tree 856 of 1000\n",
      "building tree 857 of 1000\n",
      "building tree 858 of 1000\n",
      "building tree 859 of 1000\n",
      "building tree 860 of 1000\n",
      "building tree 861 of 1000\n",
      "building tree 862 of 1000\n",
      "building tree 863 of 1000\n",
      "building tree 864 of 1000\n",
      "building tree 865 of 1000\n",
      "building tree 866 of 1000\n",
      "building tree 867 of 1000\n",
      "building tree 868 of 1000\n",
      "building tree 869 of 1000\n",
      "building tree 870 of 1000\n",
      "building tree 871 of 1000\n",
      "building tree 872 of 1000\n",
      "building tree 873 of 1000\n",
      "building tree 874 of 1000\n",
      "building tree 875 of 1000\n",
      "building tree 876 of 1000\n",
      "building tree 877 of 1000\n",
      "building tree 878 of 1000\n",
      "building tree 879 of 1000\n",
      "building tree 880 of 1000\n",
      "building tree 881 of 1000\n",
      "building tree 882 of 1000\n",
      "building tree 883 of 1000building tree 884 of 1000\n",
      "\n",
      "building tree 885 of 1000\n",
      "building tree 886 of 1000\n",
      "building tree 887 of 1000\n",
      "building tree 888 of 1000\n",
      "building tree 889 of 1000\n",
      "building tree 890 of 1000\n",
      "building tree 891 of 1000\n",
      "building tree 892 of 1000\n",
      "building tree 893 of 1000\n",
      "building tree 894 of 1000\n",
      "building tree 895 of 1000\n",
      "building tree 896 of 1000\n",
      "building tree 897 of 1000\n",
      "building tree 898 of 1000\n",
      "building tree 899 of 1000\n",
      "building tree 900 of 1000\n",
      "building tree 901 of 1000\n",
      "building tree 902 of 1000\n",
      "building tree 903 of 1000\n",
      "building tree 904 of 1000\n",
      "building tree 905 of 1000\n",
      "building tree 906 of 1000\n",
      "building tree 907 of 1000\n",
      "building tree 908 of 1000\n",
      "building tree 909 of 1000\n",
      "building tree 910 of 1000\n",
      "building tree 911 of 1000\n",
      "building tree 912 of 1000\n",
      "building tree 913 of 1000\n",
      "building tree 914 of 1000\n",
      "building tree 915 of 1000\n",
      "building tree 916 of 1000\n",
      "building tree 917 of 1000\n",
      "building tree 918 of 1000\n",
      "building tree 919 of 1000\n",
      "building tree 920 of 1000\n",
      "building tree 921 of 1000\n",
      "building tree 922 of 1000\n",
      "building tree 923 of 1000\n",
      "building tree 924 of 1000\n",
      "building tree 925 of 1000\n",
      "building tree 926 of 1000\n",
      "building tree 927 of 1000\n",
      "building tree 928 of 1000\n",
      "building tree 929 of 1000\n",
      "building tree 930 of 1000\n",
      "building tree 931 of 1000\n",
      "building tree 932 of 1000\n",
      "building tree 933 of 1000\n",
      "building tree 934 of 1000\n",
      "building tree 935 of 1000\n",
      "building tree 936 of 1000\n",
      "building tree 937 of 1000\n",
      "building tree 938 of 1000\n",
      "building tree 939 of 1000\n",
      "building tree 940 of 1000\n",
      "building tree 941 of 1000\n",
      "building tree 942 of 1000\n",
      "building tree 943 of 1000\n",
      "building tree 944 of 1000\n",
      "building tree 945 of 1000\n",
      "building tree 946 of 1000\n",
      "building tree 947 of 1000\n",
      "building tree 948 of 1000\n",
      "building tree 949 of 1000\n",
      "building tree 950 of 1000\n",
      "building tree 951 of 1000\n",
      "building tree 952 of 1000\n",
      "building tree 953 of 1000\n",
      "building tree 954 of 1000\n",
      "building tree 955 of 1000\n",
      "building tree 956 of 1000\n",
      "building tree 957 of 1000\n",
      "building tree 958 of 1000\n",
      "building tree 959 of 1000\n",
      "building tree 960 of 1000\n",
      "building tree 961 of 1000\n",
      "building tree 962 of 1000\n",
      "building tree 963 of 1000building tree 964 of 1000\n",
      "\n",
      "building tree 965 of 1000\n",
      "building tree 966 of 1000\n",
      "building tree 967 of 1000\n",
      "building tree 968 of 1000\n",
      "building tree 969 of 1000\n",
      "building tree 970 of 1000\n"
     ]
    },
    {
     "name": "stdout",
     "output_type": "stream",
     "text": [
      "building tree 971 of 1000\n",
      "building tree 972 of 1000\n",
      "building tree 973 of 1000\n",
      "building tree 974 of 1000\n",
      "building tree 975 of 1000\n",
      "building tree 976 of 1000\n",
      "building tree 977 of 1000\n",
      "building tree 978 of 1000\n",
      "building tree 979 of 1000\n",
      "building tree 980 of 1000\n",
      "building tree 981 of 1000\n",
      "building tree 982 of 1000\n",
      "building tree 983 of 1000building tree 984 of 1000\n",
      "building tree 985 of 1000\n",
      "\n",
      "building tree 986 of 1000\n",
      "building tree 987 of 1000\n",
      "building tree 988 of 1000\n",
      "building tree 989 of 1000\n",
      "building tree 990 of 1000\n",
      "building tree 991 of 1000\n",
      "building tree 992 of 1000\n",
      "building tree 993 of 1000\n",
      "building tree 994 of 1000\n",
      "building tree 995 of 1000\n",
      "building tree 996 of 1000\n",
      "building tree 997 of 1000\n",
      "building tree 998 of 1000\n",
      "building tree 999 of 1000\n",
      "building tree 1000 of 1000\n"
     ]
    },
    {
     "name": "stderr",
     "output_type": "stream",
     "text": [
      "[Parallel(n_jobs=-1)]: Done 1000 out of 1000 | elapsed:   32.6s finished\n"
     ]
    },
    {
     "data": {
      "text/plain": [
       "GridSearchCV(cv=5, error_score=nan,\n",
       "             estimator=Pipeline(memory=None,\n",
       "                                steps=[('randomforestclassifier',\n",
       "                                        RandomForestClassifier(bootstrap=True,\n",
       "                                                               ccp_alpha=0.0,\n",
       "                                                               class_weight=None,\n",
       "                                                               criterion='gini',\n",
       "                                                               max_depth=10,\n",
       "                                                               max_features='auto',\n",
       "                                                               max_leaf_nodes=None,\n",
       "                                                               max_samples=None,\n",
       "                                                               min_impurity_decrease=0.0,\n",
       "                                                               min_impurity_split=None,\n",
       "                                                               min_samples_leaf=1,\n",
       "                                                               min_samples_split=2,\n",
       "                                                               min_we...\n",
       "                         'randomforestclassifier__min_impurity_split': [None],\n",
       "                         'randomforestclassifier__min_samples_leaf': [1],\n",
       "                         'randomforestclassifier__min_samples_split': [2],\n",
       "                         'randomforestclassifier__min_weight_fraction_leaf': [0.0],\n",
       "                         'randomforestclassifier__random_state': [0],\n",
       "                         'randomforestclassifier__verbose': [2]},\n",
       "             pre_dispatch='2*n_jobs', refit=True, return_train_score=False,\n",
       "             scoring='accuracy', verbose=1)"
      ]
     },
     "execution_count": 46,
     "metadata": {},
     "output_type": "execute_result"
    }
   ],
   "source": [
    "grid_rforest = GridSearchCV(rforest,param_grid=params,cv=5,scoring='accuracy',verbose=1,n_jobs=-1)\n",
    "grid_rforest.fit(X_train,y_train)"
   ]
  },
  {
   "cell_type": "code",
   "execution_count": 47,
   "metadata": {
    "ExecuteTime": {
     "end_time": "2020-03-02T11:15:06.549678Z",
     "start_time": "2020-03-02T11:15:04.275520Z"
    },
    "deletable": false,
    "editable": false,
    "run_control": {
     "frozen": true
    }
   },
   "outputs": [
    {
     "data": {
      "text/plain": [
       "['../models/random_forest_model']"
      ]
     },
     "execution_count": 47,
     "metadata": {},
     "output_type": "execute_result"
    }
   ],
   "source": [
    "joblib.dump(grid_rforest, '../models/random_forest_model')"
   ]
  },
  {
   "cell_type": "code",
   "execution_count": 48,
   "metadata": {
    "ExecuteTime": {
     "end_time": "2020-03-02T11:16:16.789745Z",
     "start_time": "2020-03-02T11:16:16.086388Z"
    }
   },
   "outputs": [
    {
     "data": {
      "text/plain": [
       "0.715019966420496"
      ]
     },
     "execution_count": 48,
     "metadata": {},
     "output_type": "execute_result"
    }
   ],
   "source": [
    "model_006 = joblib.load('../models/random_forest_model')\n",
    "model_006.best_score_"
   ]
  },
  {
   "cell_type": "code",
   "execution_count": 49,
   "metadata": {
    "ExecuteTime": {
     "end_time": "2020-03-02T11:16:58.985351Z",
     "start_time": "2020-03-02T11:16:58.974936Z"
    }
   },
   "outputs": [
    {
     "data": {
      "text/plain": [
       "{'randomforestclassifier__criterion': 'entropy',\n",
       " 'randomforestclassifier__max_depth': 10,\n",
       " 'randomforestclassifier__max_features': 'auto',\n",
       " 'randomforestclassifier__max_leaf_nodes': None,\n",
       " 'randomforestclassifier__min_impurity_decrease': 0.0,\n",
       " 'randomforestclassifier__min_impurity_split': None,\n",
       " 'randomforestclassifier__min_samples_leaf': 1,\n",
       " 'randomforestclassifier__min_samples_split': 2,\n",
       " 'randomforestclassifier__min_weight_fraction_leaf': 0.0,\n",
       " 'randomforestclassifier__random_state': 0,\n",
       " 'randomforestclassifier__verbose': 2}"
      ]
     },
     "execution_count": 49,
     "metadata": {},
     "output_type": "execute_result"
    }
   ],
   "source": [
    "model_006.best_params_"
   ]
  },
  {
   "cell_type": "code",
   "execution_count": 50,
   "metadata": {
    "ExecuteTime": {
     "end_time": "2020-03-02T11:17:26.189508Z",
     "start_time": "2020-03-02T11:17:24.873125Z"
    }
   },
   "outputs": [
    {
     "name": "stderr",
     "output_type": "stream",
     "text": [
      "[Parallel(n_jobs=4)]: Using backend ThreadingBackend with 4 concurrent workers.\n",
      "[Parallel(n_jobs=4)]: Done  33 tasks      | elapsed:    0.0s\n",
      "[Parallel(n_jobs=4)]: Done 154 tasks      | elapsed:    0.0s\n",
      "[Parallel(n_jobs=4)]: Done 357 tasks      | elapsed:    0.0s\n",
      "[Parallel(n_jobs=4)]: Done 640 tasks      | elapsed:    0.1s\n",
      "[Parallel(n_jobs=4)]: Done 1000 out of 1000 | elapsed:    0.2s finished\n"
     ]
    },
    {
     "data": {
      "image/png": "[encoded data removed]",
      "text/plain": [
       "<Figure size 432x288 with 2 Axes>"
      ]
     },
     "metadata": {
      "needs_background": "light"
     },
     "output_type": "display_data"
    }
   ],
   "source": [
    "import matplotlib.pyplot as plt\n",
    "plot_confusion_matrix(y_test,model_006.predict(X_test))\n",
    "plt.ylim(-0.5,1.5)\n",
    "plt.savefig(\"confusion_rforest.jpg\",dpi=800)"
   ]
  },
  {
   "cell_type": "code",
   "execution_count": 51,
   "metadata": {
    "ExecuteTime": {
     "end_time": "2020-03-02T11:17:58.233791Z",
     "start_time": "2020-03-02T11:17:57.910895Z"
    }
   },
   "outputs": [
    {
     "name": "stderr",
     "output_type": "stream",
     "text": [
      "[Parallel(n_jobs=4)]: Using backend ThreadingBackend with 4 concurrent workers.\n",
      "[Parallel(n_jobs=4)]: Done  33 tasks      | elapsed:    0.0s\n",
      "[Parallel(n_jobs=4)]: Done 154 tasks      | elapsed:    0.0s\n",
      "[Parallel(n_jobs=4)]: Done 357 tasks      | elapsed:    0.0s\n",
      "[Parallel(n_jobs=4)]: Done 640 tasks      | elapsed:    0.1s\n"
     ]
    },
    {
     "name": "stdout",
     "output_type": "stream",
     "text": [
      "              precision    recall  f1-score   support\n",
      "\n",
      "           0       0.72      0.79      0.75       757\n",
      "           1       0.70      0.61      0.65       602\n",
      "\n",
      "    accuracy                           0.71      1359\n",
      "   macro avg       0.71      0.70      0.70      1359\n",
      "weighted avg       0.71      0.71      0.71      1359\n",
      "\n"
     ]
    },
    {
     "name": "stderr",
     "output_type": "stream",
     "text": [
      "[Parallel(n_jobs=4)]: Done 1000 out of 1000 | elapsed:    0.2s finished\n"
     ]
    }
   ],
   "source": [
    "print(classification_report(y_test,model_006.predict(X_test)))"
   ]
  },
  {
   "cell_type": "code",
   "execution_count": 52,
   "metadata": {
    "ExecuteTime": {
     "end_time": "2020-03-02T11:18:12.243820Z",
     "start_time": "2020-03-02T11:18:11.099604Z"
    },
    "scrolled": false
   },
   "outputs": [
    {
     "name": "stderr",
     "output_type": "stream",
     "text": [
      "[Parallel(n_jobs=4)]: Using backend ThreadingBackend with 4 concurrent workers.\n",
      "[Parallel(n_jobs=4)]: Done  33 tasks      | elapsed:    0.0s\n",
      "[Parallel(n_jobs=4)]: Done 154 tasks      | elapsed:    0.0s\n",
      "[Parallel(n_jobs=4)]: Done 357 tasks      | elapsed:    0.0s\n",
      "[Parallel(n_jobs=4)]: Done 640 tasks      | elapsed:    0.1s\n",
      "[Parallel(n_jobs=4)]: Done 1000 out of 1000 | elapsed:    0.2s finished\n",
      "[Parallel(n_jobs=4)]: Using backend ThreadingBackend with 4 concurrent workers.\n",
      "[Parallel(n_jobs=4)]: Done  33 tasks      | elapsed:    0.0s\n",
      "[Parallel(n_jobs=4)]: Done 154 tasks      | elapsed:    0.0s\n",
      "[Parallel(n_jobs=4)]: Done 357 tasks      | elapsed:    0.0s\n",
      "[Parallel(n_jobs=4)]: Done 640 tasks      | elapsed:    0.1s\n",
      "[Parallel(n_jobs=4)]: Done 1000 out of 1000 | elapsed:    0.1s finished\n"
     ]
    },
    {
     "data": {
      "image/png": "[encoded data removed]",
      "text/plain": [
       "<Figure size 432x288 with 1 Axes>"
      ]
     },
     "metadata": {
      "needs_background": "light"
     },
     "output_type": "display_data"
    },
    {
     "data": {
      "image/png": "[encoded data removed]",
      "text/plain": [
       "<Figure size 432x288 with 1 Axes>"
      ]
     },
     "metadata": {
      "needs_background": "light"
     },
     "output_type": "display_data"
    }
   ],
   "source": [
    "skplt.metrics.plot_roc_curve(y_test,model_006.predict_proba(X_test))\n",
    "skplt.metrics.plot_precision_recall_curve(y_test,model_006.predict_proba(X_test));"
   ]
  },
  {
   "cell_type": "markdown",
   "metadata": {},
   "source": [
    "### Neural Network"
   ]
  },
  {
   "cell_type": "code",
   "execution_count": 53,
   "metadata": {
    "ExecuteTime": {
     "end_time": "2020-03-02T11:18:24.951330Z",
     "start_time": "2020-03-02T11:18:24.907191Z"
    }
   },
   "outputs": [],
   "source": [
    "from sklearn.neural_network import MLPClassifier"
   ]
  },
  {
   "cell_type": "code",
   "execution_count": 59,
   "metadata": {
    "ExecuteTime": {
     "end_time": "2020-03-02T11:19:33.882064Z",
     "start_time": "2020-03-02T11:19:33.870160Z"
    }
   },
   "outputs": [],
   "source": [
    "nnet = MLPClassifier(solver='lbfgs',\n",
    "                    alpha=10**(2),\n",
    "                    hidden_layer_sizes=(55,35,15,5),\n",
    "                    activation='relu',\n",
    "                    random_state=0,\n",
    "                    batch_size='auto',\n",
    "                     early_stopping = True, n_iter_no_change=30)"
   ]
  },
  {
   "cell_type": "code",
   "execution_count": 60,
   "metadata": {
    "ExecuteTime": {
     "end_time": "2020-03-02T11:19:58.763852Z",
     "start_time": "2020-03-02T11:19:35.198413Z"
    }
   },
   "outputs": [
    {
     "name": "stdout",
     "output_type": "stream",
     "text": [
      "Training score: 0.803\n",
      "Testing score: 0.717\n",
      "CrossVal score: 0.671\n"
     ]
    }
   ],
   "source": [
    "nnet = model_run(nnet,X_train,y_train,X_test,y_test)"
   ]
  },
  {
   "cell_type": "code",
   "execution_count": 61,
   "metadata": {
    "ExecuteTime": {
     "end_time": "2020-03-02T11:20:06.349383Z",
     "start_time": "2020-03-02T11:20:06.339463Z"
    }
   },
   "outputs": [
    {
     "data": {
      "text/plain": [
       "0.5567663083492858"
      ]
     },
     "execution_count": 61,
     "metadata": {},
     "output_type": "execute_result"
    }
   ],
   "source": [
    "1- y.mean()"
   ]
  },
  {
   "cell_type": "code",
   "execution_count": 62,
   "metadata": {
    "ExecuteTime": {
     "end_time": "2020-03-02T11:20:07.807643Z",
     "start_time": "2020-03-02T11:20:07.779372Z"
    }
   },
   "outputs": [
    {
     "data": {
      "text/plain": [
       "array([[586, 171],\n",
       "       [214, 388]], dtype=int64)"
      ]
     },
     "execution_count": 62,
     "metadata": {},
     "output_type": "execute_result"
    }
   ],
   "source": [
    "confusion_matrix(y_test,nnet.predict(X_test))"
   ]
  },
  {
   "cell_type": "code",
   "execution_count": 63,
   "metadata": {
    "ExecuteTime": {
     "end_time": "2020-03-02T11:20:10.051568Z",
     "start_time": "2020-03-02T11:20:09.779763Z"
    }
   },
   "outputs": [
    {
     "data": {
      "text/plain": [
       "(-0.5, 1.5)"
      ]
     },
     "execution_count": 63,
     "metadata": {},
     "output_type": "execute_result"
    },
    {
     "data": {
      "image/png": "[encoded data removed]",
      "text/plain": [
       "<Figure size 432x288 with 2 Axes>"
      ]
     },
     "metadata": {
      "needs_background": "light"
     },
     "output_type": "display_data"
    }
   ],
   "source": [
    "plot_confusion_matrix(y_test,nnet.predict(X_test))\n",
    "plt.ylim(-0.5,1.5)"
   ]
  },
  {
   "cell_type": "code",
   "execution_count": 64,
   "metadata": {
    "ExecuteTime": {
     "end_time": "2020-03-02T11:21:08.420405Z",
     "start_time": "2020-03-02T11:21:08.395109Z"
    }
   },
   "outputs": [
    {
     "name": "stdout",
     "output_type": "stream",
     "text": [
      "              precision    recall  f1-score   support\n",
      "\n",
      "           0       0.73      0.77      0.75       757\n",
      "           1       0.69      0.64      0.67       602\n",
      "\n",
      "    accuracy                           0.72      1359\n",
      "   macro avg       0.71      0.71      0.71      1359\n",
      "weighted avg       0.72      0.72      0.72      1359\n",
      "\n"
     ]
    }
   ],
   "source": [
    "print(classification_report(y_test,nnet.predict(X_test)))"
   ]
  },
  {
   "cell_type": "code",
   "execution_count": 65,
   "metadata": {
    "ExecuteTime": {
     "end_time": "2020-03-02T11:21:14.379062Z",
     "start_time": "2020-03-02T11:21:13.866229Z"
    }
   },
   "outputs": [
    {
     "data": {
      "image/png": "[encoded data removed]",
      "text/plain": [
       "<Figure size 432x288 with 1 Axes>"
      ]
     },
     "metadata": {
      "needs_background": "light"
     },
     "output_type": "display_data"
    },
    {
     "data": {
      "image/png": "[encoded data removed]",
      "text/plain": [
       "<Figure size 432x288 with 1 Axes>"
      ]
     },
     "metadata": {
      "needs_background": "light"
     },
     "output_type": "display_data"
    }
   ],
   "source": [
    "skplt.metrics.plot_roc_curve(y_test,nnet.predict_proba(X_test))\n",
    "skplt.metrics.plot_precision_recall_curve(y_test,nnet.predict_proba(X_test));"
   ]
  },
  {
   "cell_type": "markdown",
   "metadata": {},
   "source": [
    "### Boosting Models"
   ]
  },
  {
   "cell_type": "code",
   "execution_count": null,
   "metadata": {
    "deletable": false,
    "editable": false,
    "run_control": {
     "frozen": true
    }
   },
   "outputs": [],
   "source": [
    "bag = BaggingClassifier(DecisionTreeClassifier(max_depth=2),2000,random_state=0,verbose=1)\n",
    "\n",
    "bag = model_run(bag,X_train,y_train,X_test,y_test)"
   ]
  },
  {
   "cell_type": "code",
   "execution_count": null,
   "metadata": {
    "deletable": false,
    "editable": false,
    "run_control": {
     "frozen": true
    }
   },
   "outputs": [],
   "source": [
    "plot_confusion_matrix(y_test,bag.predict(X_test))\n",
    "plt.ylim(-0.5,1.5)"
   ]
  },
  {
   "cell_type": "code",
   "execution_count": null,
   "metadata": {
    "deletable": false,
    "editable": false,
    "run_control": {
     "frozen": true
    }
   },
   "outputs": [],
   "source": [
    "print(classification_report(y_test,bag.predict(X_test)))"
   ]
  },
  {
   "cell_type": "code",
   "execution_count": null,
   "metadata": {
    "deletable": false,
    "editable": false,
    "run_control": {
     "frozen": true
    }
   },
   "outputs": [],
   "source": [
    "skplt.metrics.plot_roc_curve(y_test,bag.predict_proba(X_test))\n",
    "plt.savefig(\"roc_curve_bagging.jpg\",dpi=800)\n",
    "skplt.metrics.plot_precision_recall_curve(y_test,bag.predict_proba(X_test))\n",
    "plt.savefig(\"p_r_curve_bagging.jpg\",dpi=800);"
   ]
  },
  {
   "cell_type": "code",
   "execution_count": null,
   "metadata": {},
   "outputs": [],
   "source": []
  },
  {
   "cell_type": "code",
   "execution_count": 77,
   "metadata": {
    "ExecuteTime": {
     "end_time": "2020-03-02T11:45:36.880563Z",
     "start_time": "2020-03-02T11:44:42.474196Z"
    }
   },
   "outputs": [
    {
     "name": "stdout",
     "output_type": "stream",
     "text": [
      "Training score: 0.748\n",
      "Testing score: 0.706\n",
      "CrossVal score: 0.711\n"
     ]
    }
   ],
   "source": [
    "ada = AdaBoostClassifier(DecisionTreeClassifier(max_depth=2),n_estimators=100,learning_rate=0.1,random_state=0)\n",
    "\n",
    "ada = model_run(ada,X_train,y_train,X_test,y_test)"
   ]
  },
  {
   "cell_type": "code",
   "execution_count": 78,
   "metadata": {
    "ExecuteTime": {
     "end_time": "2020-03-02T11:47:11.616364Z",
     "start_time": "2020-03-02T11:46:03.398060Z"
    }
   },
   "outputs": [
    {
     "name": "stdout",
     "output_type": "stream",
     "text": [
      "Training score: 0.792\n",
      "Testing score: 0.713\n",
      "CrossVal score: 0.710\n"
     ]
    }
   ],
   "source": [
    "gradient_boost = GradientBoostingClassifier(n_estimators=100,learning_rate=0.1,random_state=0)\n",
    "\n",
    "gradient_boost = model_run(gradient_boost,X_train,y_train,X_test,y_test)"
   ]
  },
  {
   "cell_type": "code",
   "execution_count": null,
   "metadata": {},
   "outputs": [],
   "source": [
    "import matplotlib.pyplot as plt\n",
    "import scikitplot as skplt\n",
    "skplt.metrics.plot_precision_recall_curve(y_test,test.predict_proba(X_test));\n",
    "#from sklearn.metrics import accuracy_score,auc,precision_score,recall_score,roc_curve,precision_recall_curve,average_precision_score\n",
    "\n",
    "#plot_confusion_matrix(y_test,test.predict(X_test))\n",
    "#plt.ylim(-0.5,1.5);"
   ]
  },
  {
   "cell_type": "code",
   "execution_count": null,
   "metadata": {},
   "outputs": [],
   "source": [
    "skplt.metrics.plot_roc_curve(y_test,test.predict_proba(X_test));"
   ]
  },
  {
   "cell_type": "code",
   "execution_count": null,
   "metadata": {},
   "outputs": [],
   "source": [
    "print(classification_report(y_test,test.predict(X_test)))"
   ]
  },
  {
   "cell_type": "code",
   "execution_count": null,
   "metadata": {},
   "outputs": [],
   "source": [
    "from skplt.metrics import "
   ]
  },
  {
   "cell_type": "code",
   "execution_count": null,
   "metadata": {},
   "outputs": [],
   "source": [
    "test.predict_proba(X_test)"
   ]
  },
  {
   "cell_type": "code",
   "execution_count": null,
   "metadata": {},
   "outputs": [],
   "source": [
    "(979+114)/(979+114+202+64)"
   ]
  },
  {
   "cell_type": "code",
   "execution_count": null,
   "metadata": {},
   "outputs": [],
   "source": [
    "confu"
   ]
  },
  {
   "cell_type": "code",
   "execution_count": null,
   "metadata": {
    "scrolled": true
   },
   "outputs": [],
   "source": [
    "log_r.fit(X_train,y_train)\n",
    "dec_tree.fit(X_train,y_train)"
   ]
  },
  {
   "cell_type": "code",
   "execution_count": null,
   "metadata": {},
   "outputs": [],
   "source": [
    "print(f\"Training score: {log_r.score(X_train,y_train):.3f}\")\n",
    "print(f\"Testing score: {log_r.score(X_test,y_test):.3f}\")\n",
    "print(f\"CrossVal score: {cross_val_score(log_r,X_train,y_train,cv=5).mean():.3f}\")"
   ]
  },
  {
   "cell_type": "code",
   "execution_count": null,
   "metadata": {},
   "outputs": [],
   "source": [
    "dec_tree.score(X_train,y_train)"
   ]
  },
  {
   "cell_type": "code",
   "execution_count": null,
   "metadata": {},
   "outputs": [],
   "source": [
    "classifier_pipeline = make_pipeline(\n",
    "    preprocess_pipeline,\n",
    "    LogisticRegression(random_state=0,solver='liblinear')\n",
    "    #SVC(kernel=\"rbf\",gamma='auto',random_state=0)\n",
    ")"
   ]
  },
  {
   "cell_type": "code",
   "execution_count": null,
   "metadata": {},
   "outputs": [],
   "source": [
    "classifier_pipeline.fit(X_train,y_train)"
   ]
  },
  {
   "cell_type": "code",
   "execution_count": null,
   "metadata": {},
   "outputs": [],
   "source": [
    "classifier_pipeline.score(X_train,y_train)"
   ]
  },
  {
   "cell_type": "code",
   "execution_count": null,
   "metadata": {},
   "outputs": [],
   "source": [
    "classifier_pipeline.score(X_test,y_test)"
   ]
  },
  {
   "cell_type": "code",
   "execution_count": null,
   "metadata": {},
   "outputs": [],
   "source": [
    "cross_val_score(classifier_pipeline,X_train,y_train,cv=5).mean()"
   ]
  },
  {
   "cell_type": "code",
   "execution_count": null,
   "metadata": {},
   "outputs": [],
   "source": [
    "preprocess_pipeline.fit_transform(X)"
   ]
  },
  {
   "cell_type": "code",
   "execution_count": null,
   "metadata": {},
   "outputs": [],
   "source": [
    "encoder.fit_transform(df[['region']])"
   ]
  },
  {
   "cell_type": "code",
   "execution_count": null,
   "metadata": {},
   "outputs": [],
   "source": [
    "encoder.fit_transform(df.region)"
   ]
  },
  {
   "cell_type": "code",
   "execution_count": null,
   "metadata": {},
   "outputs": [],
   "source": [
    "pd.DataFrame(pipe_cat.fit_transform(df),columns = encoder.categorical_features)"
   ]
  },
  {
   "cell_type": "code",
   "execution_count": null,
   "metadata": {},
   "outputs": [],
   "source": [
    "from sklearn.preprocessing import LabelBinarizer, OneHotEncoder\n",
    "\n",
    "binarizer = LabelBinarizer()\n",
    "encoder = OneHotEncoder()\n",
    "\n",
    "encoder.fit_transform(rrr).toarray()"
   ]
  },
  {
   "cell_type": "code",
   "execution_count": null,
   "metadata": {},
   "outputs": [],
   "source": [
    "#Creating region preprocessor for categorical variables\n",
    "df_preprocessor = ('nominal',Pipeline([('salary_prep', TypeSelector(object)),\n",
    "                                           ('encoder',OneHotEncoder(categories = \"auto\",sparse=False,handle_unknown='ignore')),]))"
   ]
  },
  {
   "cell_type": "code",
   "execution_count": null,
   "metadata": {},
   "outputs": [],
   "source": [
    "pipe_cat = Pipeline(steps=[('selector',TypeSelector(object)),\n",
    "                       ('encoder',OneHotEncoder(categories = \"auto\",sparse=False,handle_unknown='ignore'))])\n",
    "\n",
    "pipe_num = Pipeline(steps=[('selector',TypeSelector(np.number)),\n",
    "                       ('scaler',StandardScaler())])"
   ]
  },
  {
   "cell_type": "code",
   "execution_count": null,
   "metadata": {},
   "outputs": [],
   "source": [
    "feat_u = FeatureUnion(n_jobs=1, transformer_list=[('pipenum',pipe_num),('pipecat',pipe_cat)])"
   ]
  },
  {
   "cell_type": "code",
   "execution_count": null,
   "metadata": {},
   "outputs": [],
   "source": [
    "feat_u.fit_transform(df)"
   ]
  },
  {
   "cell_type": "code",
   "execution_count": null,
   "metadata": {},
   "outputs": [],
   "source": [
    "pipe_cat.get_params()['steps'][1]"
   ]
  },
  {
   "cell_type": "code",
   "execution_count": null,
   "metadata": {},
   "outputs": [],
   "source": [
    "pipe.fit_transform(df)"
   ]
  },
  {
   "cell_type": "code",
   "execution_count": null,
   "metadata": {},
   "outputs": [],
   "source": [
    "from sklearn.preprocessing import LabelBinarizer, OneHotEncoder\n",
    "\n",
    "binarizer = LabelBinarizer()\n",
    "encoder = OneHotEncoder()\n",
    "\n",
    "encoder.fit_transform(df)\n",
    "\n",
    "#df = pd.get_dummies(df,columns=['region'],drop_first=True)\n",
    "\n",
    "\n",
    "#df.sample(5)"
   ]
  },
  {
   "cell_type": "code",
   "execution_count": null,
   "metadata": {},
   "outputs": [],
   "source": [
    "encoder.get_feature_names()"
   ]
  },
  {
   "cell_type": "markdown",
   "metadata": {},
   "source": [
    "### Splitting dataframe into features and target"
   ]
  },
  {
   "cell_type": "code",
   "execution_count": null,
   "metadata": {},
   "outputs": [],
   "source": [
    "df = df.loc[:,'income_score':]\n",
    "\n",
    "X = df.drop(['chargepoints'],axis=1)\n",
    "y = df.chargepoints"
   ]
  },
  {
   "cell_type": "markdown",
   "metadata": {},
   "source": [
    "#### Train-test-split (80% Train, 20% Test)"
   ]
  },
  {
   "cell_type": "code",
   "execution_count": null,
   "metadata": {},
   "outputs": [],
   "source": [
    "X_train, X_test, y_train, y_test = train_test_split(X, y, test_size=0.2, random_state=0,shuffle=True)\n",
    "\n",
    "scaler = StandardScaler()\n",
    "\n",
    "X_train = pd.DataFrame(scaler.fit_transform(X_train),columns=X_train.columns)\n",
    "X_test = pd.DataFrame(scaler.transform(X_test),columns=X_test.columns)"
   ]
  },
  {
   "cell_type": "code",
   "execution_count": null,
   "metadata": {},
   "outputs": [],
   "source": [
    "## Linear Regression Model"
   ]
  },
  {
   "cell_type": "code",
   "execution_count": null,
   "metadata": {},
   "outputs": [],
   "source": [
    "y.mean()"
   ]
  },
  {
   "cell_type": "code",
   "execution_count": null,
   "metadata": {},
   "outputs": [],
   "source": [
    "model = LinearRegression()\n",
    "\n",
    "model.fit(X_train,y_train)\n",
    "\n",
    "\n",
    "model.score(X_train,y_train)"
   ]
  },
  {
   "cell_type": "code",
   "execution_count": null,
   "metadata": {},
   "outputs": [],
   "source": [
    "model.score(X_test,y_test)"
   ]
  },
  {
   "cell_type": "code",
   "execution_count": null,
   "metadata": {},
   "outputs": [],
   "source": [
    "cross_val_score(model,X_train,y_train,cv=5).mean()"
   ]
  },
  {
   "cell_type": "code",
   "execution_count": null,
   "metadata": {},
   "outputs": [],
   "source": [
    "ridge_cv = RidgeCV(alphas=np.logspace(0,6),cv=5)\n",
    "\n",
    "ridge_cv.fit(X_train,y_train)"
   ]
  },
  {
   "cell_type": "code",
   "execution_count": null,
   "metadata": {},
   "outputs": [],
   "source": [
    "ridge_cv.score(X_train,y_train)"
   ]
  },
  {
   "cell_type": "code",
   "execution_count": null,
   "metadata": {},
   "outputs": [],
   "source": [
    "ridge_cv.alpha_"
   ]
  },
  {
   "cell_type": "code",
   "execution_count": null,
   "metadata": {},
   "outputs": [],
   "source": [
    "coeff = pd.DataFrame(ridge_cv.coef_,index=X_train.columns,columns=['coef'])\n",
    "\n",
    "coeff['abs_coef'] = coeff.coef.apply(lambda x : abs(x))"
   ]
  },
  {
   "cell_type": "code",
   "execution_count": null,
   "metadata": {},
   "outputs": [],
   "source": [
    "coeff.sort_values(by='abs_coef',ascending=False)"
   ]
  },
  {
   "cell_type": "code",
   "execution_count": null,
   "metadata": {},
   "outputs": [],
   "source": [
    "import matplotlib.pyplot as plt\n",
    "y_pred = model.predict(X_test)\n",
    "\n",
    "plt.plot(y_pred,y_test,'o')\n",
    "plt.plot([0,6],[0,6]);"
   ]
  },
  {
   "cell_type": "code",
   "execution_count": null,
   "metadata": {},
   "outputs": [],
   "source": [
    "X = df.drop(['chargepoints'],axis=1)\n",
    "y = df.chargepoints.apply(lambda x : 1 if x >0 else 0)\n",
    "\n",
    "\n",
    "X_train, X_test, y_train, y_test = train_test_split(X, y, test_size=0.2, random_state=1,shuffle=True, stratify=y)\n",
    "\n",
    "scaler = StandardScaler()\n",
    "\n",
    "X_train = pd.DataFrame(scaler.fit_transform(X_train),columns=X_train.columns)\n",
    "X_test = pd.DataFrame(scaler.transform(X_test),columns=X_test.columns)"
   ]
  },
  {
   "cell_type": "code",
   "execution_count": null,
   "metadata": {},
   "outputs": [],
   "source": [
    "y.value_counts(normalize=True)"
   ]
  },
  {
   "cell_type": "code",
   "execution_count": null,
   "metadata": {},
   "outputs": [],
   "source": [
    "model = LogisticRegression(solver='liblinear')\n",
    "\n",
    "model.fit(X_train,y_train)\n",
    "\n",
    "\n",
    "model.score(X_train,y_train)"
   ]
  },
  {
   "cell_type": "code",
   "execution_count": null,
   "metadata": {},
   "outputs": [],
   "source": [
    "model.score(X_test,y_test)"
   ]
  },
  {
   "cell_type": "code",
   "execution_count": null,
   "metadata": {},
   "outputs": [],
   "source": [
    "cross_val_score(model,X_train,y_train,cv=5).mean()"
   ]
  },
  {
   "cell_type": "code",
   "execution_count": null,
   "metadata": {},
   "outputs": [],
   "source": [
    "log_cv = LogisticRegressionCV(Cs=np.logspace(-3,1),cv=5,max_iter=100000)\n",
    "\n",
    "log_cv.fit(X_train,y_train)"
   ]
  },
  {
   "cell_type": "code",
   "execution_count": null,
   "metadata": {},
   "outputs": [],
   "source": [
    "log_cv.score(X_train,y_train)"
   ]
  },
  {
   "cell_type": "code",
   "execution_count": null,
   "metadata": {},
   "outputs": [],
   "source": [
    "coeff = pd.DataFrame(log_cv.coef_[0],index=X_train.columns,columns=['coef'])\n",
    "\n",
    "coeff['abs_coef'] = coeff.coef.apply(lambda x : abs(x))"
   ]
  },
  {
   "cell_type": "code",
   "execution_count": null,
   "metadata": {},
   "outputs": [],
   "source": [
    "coeff.sort_values(by='abs_coef',ascending=False)"
   ]
  },
  {
   "cell_type": "code",
   "execution_count": null,
   "metadata": {},
   "outputs": [],
   "source": []
  },
  {
   "cell_type": "code",
   "execution_count": null,
   "metadata": {},
   "outputs": [],
   "source": [
    "from sklearn.svm import LinearSVC\n",
    "\n",
    "model = LinearSVC(max_iter=100000)\n",
    "\n",
    "model.fit(X_train,y_train)"
   ]
  },
  {
   "cell_type": "code",
   "execution_count": null,
   "metadata": {},
   "outputs": [],
   "source": [
    "model.score(X_train,y_train)"
   ]
  },
  {
   "cell_type": "code",
   "execution_count": null,
   "metadata": {},
   "outputs": [],
   "source": [
    "model.score(X_test,y_test)"
   ]
  },
  {
   "cell_type": "code",
   "execution_count": null,
   "metadata": {},
   "outputs": [],
   "source": [
    "cross_val_score(model,X_train,y_train,cv=5).mean()"
   ]
  },
  {
   "cell_type": "code",
   "execution_count": null,
   "metadata": {},
   "outputs": [],
   "source": [
    "model = DecisionTreeRegressor(max_depth=2)\n",
    "\n",
    "model.fit(X_train,y_train)\n",
    "\n",
    "\n",
    "model.score(X_train,y_train)"
   ]
  },
  {
   "cell_type": "code",
   "execution_count": null,
   "metadata": {},
   "outputs": [],
   "source": [
    "model.score(X_test,y_test)"
   ]
  },
  {
   "cell_type": "code",
   "execution_count": null,
   "metadata": {},
   "outputs": [],
   "source": [
    "cross_val_score(model,X_train,y_train,cv=5).mean()"
   ]
  },
  {
   "cell_type": "code",
   "execution_count": null,
   "metadata": {},
   "outputs": [],
   "source": [
    "model = LinearRegression()\n",
    "\n",
    "model.fit(X_train,y_train)\n",
    "\n",
    "\n",
    "model.score(X_train,y_train)"
   ]
  },
  {
   "cell_type": "code",
   "execution_count": null,
   "metadata": {},
   "outputs": [],
   "source": [
    "model.score(X_test,y_test)"
   ]
  },
  {
   "cell_type": "code",
   "execution_count": null,
   "metadata": {},
   "outputs": [],
   "source": [
    "plt.plot(y_test,model.predict(X_test),'o')\n",
    "plt.xlim(0,5)\n",
    "plt.ylim(0,5);"
   ]
  },
  {
   "cell_type": "code",
   "execution_count": null,
   "metadata": {},
   "outputs": [],
   "source": [
    "X_train.columns"
   ]
  },
  {
   "cell_type": "code",
   "execution_count": null,
   "metadata": {},
   "outputs": [],
   "source": [
    "df_coeff = pd.DataFrame(model.coef_,index=X_train.columns,columns=['coef'])\n"
   ]
  },
  {
   "cell_type": "code",
   "execution_count": null,
   "metadata": {},
   "outputs": [],
   "source": [
    "df_coeff.head()"
   ]
  },
  {
   "cell_type": "code",
   "execution_count": null,
   "metadata": {},
   "outputs": [],
   "source": [
    "\n",
    "df_coeff['abs_coef'] = df_coeff.coef.apply(lambda x : abs(x))"
   ]
  },
  {
   "cell_type": "code",
   "execution_count": null,
   "metadata": {},
   "outputs": [],
   "source": [
    "df_coeff.sort_values(by='abs_coef',ascending=False)"
   ]
  },
  {
   "cell_type": "code",
   "execution_count": null,
   "metadata": {},
   "outputs": [],
   "source": [
    "df.corr().chargepoints.apply(lambda x : abs(x)).sort_values(ascending=False)"
   ]
  },
  {
   "cell_type": "code",
   "execution_count": null,
   "metadata": {},
   "outputs": [],
   "source": [
    "df.plot(x='rail_from_work',y='chargepoints',kind='scatter');"
   ]
  },
  {
   "cell_type": "code",
   "execution_count": null,
   "metadata": {},
   "outputs": [],
   "source": [
    "import matplotlib.pyplot as plt\n",
    "\n",
    "plt.plot(df.cardriver_to_shopping,np.log1p(df.chargepoints),'o');"
   ]
  },
  {
   "cell_type": "code",
   "execution_count": null,
   "metadata": {},
   "outputs": [],
   "source": [
    "y = y.apply(lambda x : 1 if x > 0 else 0)"
   ]
  },
  {
   "cell_type": "code",
   "execution_count": null,
   "metadata": {},
   "outputs": [],
   "source": [
    "y.value_counts(normalize=True)"
   ]
  },
  {
   "cell_type": "code",
   "execution_count": null,
   "metadata": {},
   "outputs": [],
   "source": [
    "log_r = LogisticRegression()"
   ]
  },
  {
   "cell_type": "code",
   "execution_count": null,
   "metadata": {},
   "outputs": [],
   "source": [
    "X_train, X_test, y_train, y_test = train_test_split(X_t, y, test_size=0.2, random_state=0,shuffle=True)\n",
    "\n",
    "scaler = StandardScaler()\n",
    "\n",
    "X_train = pd.DataFrame(scaler.fit_transform(X_train),columns=X_train.columns)\n",
    "X_test = pd.DataFrame(scaler.transform(X_test),columns=X_test.columns)"
   ]
  },
  {
   "cell_type": "code",
   "execution_count": null,
   "metadata": {},
   "outputs": [],
   "source": [
    "log_r.fit(X_train,y_train)"
   ]
  },
  {
   "cell_type": "code",
   "execution_count": null,
   "metadata": {},
   "outputs": [],
   "source": [
    "X_train.head()"
   ]
  },
  {
   "cell_type": "code",
   "execution_count": null,
   "metadata": {},
   "outputs": [],
   "source": [
    "X_t =X.iloc[:,0:-18]"
   ]
  },
  {
   "cell_type": "code",
   "execution_count": null,
   "metadata": {},
   "outputs": [],
   "source": [
    "X_t.shape"
   ]
  },
  {
   "cell_type": "code",
   "execution_count": null,
   "metadata": {},
   "outputs": [],
   "source": [
    "log_r.score(X_train,y_train)"
   ]
  },
  {
   "cell_type": "code",
   "execution_count": null,
   "metadata": {},
   "outputs": [],
   "source": [
    "log_r.score(X_test,y_test)"
   ]
  },
  {
   "cell_type": "code",
   "execution_count": null,
   "metadata": {
    "scrolled": true
   },
   "outputs": [],
   "source": [
    "log_r.coef_"
   ]
  },
  {
   "cell_type": "code",
   "execution_count": null,
   "metadata": {},
   "outputs": [],
   "source": []
  }
 ],
 "metadata": {
  "kernelspec": {
   "display_name": "Python 3",
   "language": "python",
   "name": "python3"
  },
  "language_info": {
   "codemirror_mode": {
    "name": "ipython",
    "version": 3
   },
   "file_extension": ".py",
   "mimetype": "text/x-python",
   "name": "python",
   "nbconvert_exporter": "python",
   "pygments_lexer": "ipython3",
   "version": "3.7.3"
  },
  "toc": {
   "base_numbering": 1,
   "nav_menu": {},
   "number_sections": true,
   "sideBar": true,
   "skip_h1_title": false,
   "title_cell": "Table of Contents",
   "title_sidebar": "Contents",
   "toc_cell": true,
   "toc_position": {
    "height": "calc(100% - 180px)",
    "left": "10px",
    "top": "150px",
    "width": "218.875px"
   },
   "toc_section_display": true,
   "toc_window_display": true
  },
  "varInspector": {
   "cols": {
    "lenName": 16,
    "lenType": 16,
    "lenVar": 40
   },
   "kernels_config": {
    "python": {
     "delete_cmd_postfix": "",
     "delete_cmd_prefix": "del ",
     "library": "var_list.py",
     "varRefreshCmd": "print(var_dic_list())"
    },
    "r": {
     "delete_cmd_postfix": ") ",
     "delete_cmd_prefix": "rm(",
     "library": "var_list.r",
     "varRefreshCmd": "cat(var_dic_list()) "
    }
   },
   "types_to_exclude": [
    "module",
    "function",
    "builtin_function_or_method",
    "instance",
    "_Feature"
   ],
   "window_display": false
  }
 },
 "nbformat": 4,
 "nbformat_minor": 2
}
